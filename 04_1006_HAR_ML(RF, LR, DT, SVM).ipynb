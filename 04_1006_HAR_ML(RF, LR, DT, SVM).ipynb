{
 "cells": [
  {
   "cell_type": "code",
   "execution_count": 12,
   "id": "3288af08",
   "metadata": {},
   "outputs": [],
   "source": [
    "import pandas as pd\n",
    "import warnings\n",
    "warnings.filterwarnings('ignore')\n",
    "\n",
    "from sklearn.ensemble import RandomForestClassifier\n",
    "from sklearn.metrics import accuracy_score\n",
    "from sklearn.metrics import confusion_matrix, classification_report\n",
    "from sklearn.linear_model import LogisticRegression\n",
    "from sklearn.tree import DecisionTreeClassifier\n",
    "from sklearn.svm import SVC"
   ]
  },
  {
   "cell_type": "code",
   "execution_count": 3,
   "id": "d043a943",
   "metadata": {},
   "outputs": [],
   "source": [
    "# 중복된 피처명을 수정하는 함수\n",
    "def get_new_feature_name_df(old_feature_name_df):\n",
    "    # 중복된 피처명을 'dup_cnt' 컬럼으로 가지는 데이터프레임 생성\n",
    "    feature_dup_df = pd.DataFrame(data=old_feature_name_df.groupby('column_name').cumcount(),\n",
    "                                  columns=['dup_cnt'])\n",
    "    feature_dup_df = feature_dup_df.reset_index()\n",
    "    \n",
    "    # 기존 피처명 데이터프레임과 중복 피처명 데이터프레임을 병합\n",
    "    new_feature_name_df = pd.merge(old_feature_name_df.reset_index(), feature_dup_df, how='outer')\n",
    "    \n",
    "    # 중복된 피처명에 대해 '_dup_cnt'를 추가하여 새로운 피처명을 생성\n",
    "    new_feature_name_df['column_name'] = new_feature_name_df[['column_name', 'dup_cnt']].apply(\n",
    "        lambda x: x[0] + '_' + str(x[1]) if x[1] > 0 else x[0], axis=1)\n",
    "    \n",
    "    # 'index' 컬럼 제거하여 새로운 피처명 데이터프레임 반환\n",
    "    new_feature_name_df = new_feature_name_df.drop(['index'], axis=1)\n",
    "    \n",
    "    return new_feature_name_df\n",
    "\n",
    "# 휴먼 액티비티 인식 데이터셋 로드 및 전처리 함수\n",
    "def get_human_dataset():\n",
    "    # 피처명을 포함한 데이터 파일 로드\n",
    "    feature_name_df = pd.read_csv('../dataset/UCI_HAR_Dataset/features.txt', sep='\\s+',\n",
    "                                  header=None, names=['column_index', 'column_name'])\n",
    "    \n",
    "    # 중복된 피처명을 수정하는 함수를 호출하여 새로운 피처명 데이터프레임 생성\n",
    "    new_feature_name_df = get_new_feature_name_df(feature_name_df)\n",
    "    \n",
    "    # 새로운 피처명을 리스트로 변환\n",
    "    feature_name = new_feature_name_df.iloc[:, 1].values.tolist()\n",
    "    \n",
    "    # 학습 데이터와 테스트 데이터 로드. 컬럼명에 피처명 적용\n",
    "    X_train = pd.read_csv('../dataset/UCI_HAR_Dataset/train/X_train.txt', sep='\\s+', names=feature_name)\n",
    "    X_test = pd.read_csv('../dataset/UCI_HAR_Dataset/test/X_test.txt', sep='\\s+', names=feature_name)\n",
    "    \n",
    "    # 학습 레이블과 테스트 레이블 데이터 로드. 컬럼명을 'action'으로 부여\n",
    "    y_train = pd.read_csv('../dataset/UCI_HAR_Dataset/train/y_train.txt', sep='\\s+', header=None, names=['action'])\n",
    "    y_test = pd.read_csv('../dataset/UCI_HAR_Dataset/test/y_test.txt', sep='\\s+', header=None, names=['action'])\n",
    "    \n",
    "    # 로드한 학습 데이터와 테스트 데이터를 모두 반환\n",
    "    return X_train, X_test, y_train, y_test"
   ]
  },
  {
   "cell_type": "code",
   "execution_count": 5,
   "id": "77604f8e",
   "metadata": {},
   "outputs": [
    {
     "name": "stdout",
     "output_type": "stream",
     "text": [
      "## 학습 피처 데이터 정보 ##\n",
      "<class 'pandas.core.frame.DataFrame'>\n",
      "RangeIndex: 7352 entries, 0 to 7351\n",
      "Columns: 561 entries, tBodyAcc-mean()-X to angle(Z,gravityMean)\n",
      "dtypes: float64(561)\n",
      "memory usage: 31.5 MB\n",
      "None\n"
     ]
    }
   ],
   "source": [
    "# get_human_dataset()를 사용해 Train/Test data load\n",
    "X_train, X_test, y_train, y_test = get_human_dataset()\n",
    "\n",
    "# 학습 피처 데이터의 정보 출력\n",
    "print(\"## 학습 피처 데이터 정보 ##\")\n",
    "print(X_train.info())"
   ]
  },
  {
   "cell_type": "markdown",
   "id": "d4b79c86",
   "metadata": {},
   "source": [
    "# RF"
   ]
  },
  {
   "cell_type": "code",
   "execution_count": 14,
   "id": "f1de70e8",
   "metadata": {},
   "outputs": [
    {
     "name": "stdout",
     "output_type": "stream",
     "text": [
      "\n",
      "--- Random Forest ---\n",
      "Accuracy: 0.9253478113335596\n",
      "Confusion Matrix:\n",
      " [[486   4   6   0   0   0]\n",
      " [ 38 426   7   0   0   0]\n",
      " [ 22  44 354   0   0   0]\n",
      " [  0   0   0 440  51   0]\n",
      " [  0   0   0  48 484   0]\n",
      " [  0   0   0   0   0 537]]\n",
      "랜덤 포레스트 정확도: 0.9253\n"
     ]
    }
   ],
   "source": [
    "# 랜덤 포레스트 분류 모델 생성 및 학습\n",
    "rf_clf = RandomForestClassifier(random_state=0)\n",
    "rf_clf.fit(X_train, y_train)\n",
    "\n",
    "# 학습한 모델을 사용하여 테스트 데이터에 대한 예측 수행\n",
    "pred = rf_clf.predict(X_test)\n",
    "\n",
    "# 예측 성능 평가를 위해 정확도를 계산하고 출력\n",
    "accuracy = accuracy_score(y_test, pred)\n",
    "\n",
    "# 예측 결과 및 평가 지표 출력\n",
    "print(\"\\n--- Random Forest ---\")\n",
    "print(\"Accuracy:\", accuracy_score(y_test, pred))  # 정확도 출력\n",
    "print(\"Confusion Matrix:\\n\", confusion_matrix(y_test, pred))  # 혼동 행렬 출력\n",
    "print('랜덤 포레스트 정확도: {0:.4f}'.format(accuracy))  # 정확도 출력"
   ]
  },
  {
   "cell_type": "markdown",
   "id": "a4b56f60",
   "metadata": {},
   "source": [
    "# LR"
   ]
  },
  {
   "cell_type": "code",
   "execution_count": 15,
   "id": "46a66929",
   "metadata": {},
   "outputs": [
    {
     "name": "stdout",
     "output_type": "stream",
     "text": [
      "\n",
      "--- Logistic Regression Classifier ---\n",
      "Accuracy: 0.9579233118425518\n",
      "Confusion Matrix:\n",
      " [[492   1   3   0   0   0]\n",
      " [ 24 445   2   0   0   0]\n",
      " [  4  14 402   0   0   0]\n",
      " [  0   3   0 431  57   0]\n",
      " [  0   0   0  16 516   0]\n",
      " [  0   0   0   0   0 537]]\n",
      "Logistic Regression 정확도: 0.9579\n"
     ]
    }
   ],
   "source": [
    "# 로지스틱 회귀 분류 모델 생성 및 학습\n",
    "clf_lr = LogisticRegression(random_state=0)\n",
    "clf_lr.fit(X_train, y_train)\n",
    "\n",
    "# 학습한 모델을 사용하여 테스트 데이터에 대한 예측 수행\n",
    "pred_lr = clf_lr.predict(X_test)\n",
    "\n",
    "# 예측 성능 평가를 위해 정확도를 계산하고 출력\n",
    "accuracy = accuracy_score(y_test, pred_lr)\n",
    "\n",
    "# 예측 결과 및 평가 지표 출력\n",
    "print(\"\\n--- Logistic Regression Classifier ---\")\n",
    "print(\"Accuracy:\", accuracy_score(y_test, pred_lr))  # 정확도 출력\n",
    "print(\"Confusion Matrix:\\n\", confusion_matrix(y_test, pred_lr))  # 혼동 행렬 출력\n",
    "print('Logistic Regression 정확도: {0:.4f}'.format(accuracy))  # 정확도 출력"
   ]
  },
  {
   "cell_type": "markdown",
   "id": "42ef0222",
   "metadata": {},
   "source": [
    "# DT"
   ]
  },
  {
   "cell_type": "code",
   "execution_count": 16,
   "id": "ae86462b",
   "metadata": {},
   "outputs": [
    {
     "name": "stdout",
     "output_type": "stream",
     "text": [
      "\n",
      "--- Decision Tree Classifier ---\n",
      "Accuracy: 0.8595181540549711\n",
      "Confusion Matrix:\n",
      " [[448  24  24   0   0   0]\n",
      " [ 74 367  30   0   0   0]\n",
      " [ 23  46 351   0   0   0]\n",
      " [  0   0   0 373 118   0]\n",
      " [  0   0   0  75 457   0]\n",
      " [  0   0   0   0   0 537]]\n",
      "Decision Tree Classifier 정확도: 0.8595\n"
     ]
    }
   ],
   "source": [
    "# 의사 결정 트리 분류 모델 생성 및 학습\n",
    "clf_dt = DecisionTreeClassifier(random_state=0)\n",
    "clf_dt.fit(X_train, y_train)\n",
    "\n",
    "# 학습한 모델을 사용하여 테스트 데이터에 대한 예측 수행\n",
    "pred_dt = clf_dt.predict(X_test)\n",
    "\n",
    "# 예측 성능 평가를 위해 정확도를 계산하고 출력\n",
    "accuracy = accuracy_score(y_test, pred_dt)\n",
    "\n",
    "# 예측 결과 및 평가 지표 출력\n",
    "print(\"\\n--- Decision Tree Classifier ---\")\n",
    "print(\"Accuracy:\", accuracy_score(y_test, pred_dt))  # 정확도 출력\n",
    "print(\"Confusion Matrix:\\n\", confusion_matrix(y_test, pred_dt))  # 혼동 행렬 출력\n",
    "print('Decision Tree Classifier 정확도: {0:.4f}'.format(accuracy))  # 정확도 출력"
   ]
  },
  {
   "cell_type": "markdown",
   "id": "7bb204bc",
   "metadata": {},
   "source": [
    "# SVM"
   ]
  },
  {
   "cell_type": "code",
   "execution_count": 17,
   "id": "3e2e5ec4",
   "metadata": {},
   "outputs": [
    {
     "name": "stdout",
     "output_type": "stream",
     "text": [
      "\n",
      "--- SVM Classifier ---\n",
      "Accuracy: 0.9504580929759077\n",
      "Confusion Matrix:\n",
      " [[488   5   3   0   0   0]\n",
      " [ 20 451   0   0   0   0]\n",
      " [ 10  26 384   0   0   0]\n",
      " [  0   2   0 438  51   0]\n",
      " [  0   0   0  29 503   0]\n",
      " [  0   0   0   0   0 537]]\n",
      "SVM 정확도: 0.9505\n"
     ]
    }
   ],
   "source": [
    "# SVM 분류 모델 생성 및 학습\n",
    "clf_svm = SVC(random_state=0)\n",
    "clf_svm.fit(X_train, y_train)\n",
    "\n",
    "# 학습한 모델을 사용하여 테스트 데이터에 대한 예측 수행\n",
    "pred_svm = clf_svm.predict(X_test)\n",
    "\n",
    "# 예측 성능 평가를 위해 정확도를 계산하고 출력\n",
    "accuracy = accuracy_score(y_test, pred_svm)\n",
    "\n",
    "# 예측 결과 및 평가 지표 출력\n",
    "print(\"\\n--- SVM Classifier ---\")\n",
    "print(\"Accuracy:\", accuracy_score(y_test, pred_svm))  # 정확도 출력\n",
    "print(\"Confusion Matrix:\\n\", confusion_matrix(y_test, pred_svm))  # 혼동 행렬 출력\n",
    "print('SVM 정확도: {0:.4f}'.format(accuracy))  # 정확도 출력"
   ]
  }
 ],
 "metadata": {
  "kernelspec": {
   "display_name": "Python 3 (ipykernel)",
   "language": "python",
   "name": "python3"
  },
  "language_info": {
   "codemirror_mode": {
    "name": "ipython",
    "version": 3
   },
   "file_extension": ".py",
   "mimetype": "text/x-python",
   "name": "python",
   "nbconvert_exporter": "python",
   "pygments_lexer": "ipython3",
   "version": "3.11.4"
  }
 },
 "nbformat": 4,
 "nbformat_minor": 5
}
