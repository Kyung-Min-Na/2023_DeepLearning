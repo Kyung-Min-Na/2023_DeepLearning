{
 "cells": [
  {
   "cell_type": "code",
   "execution_count": 83,
   "id": "99393fdf",
   "metadata": {},
   "outputs": [],
   "source": [
    "import pickle\n",
    "import numpy as np\n",
    "import pandas as pd\n",
    "import seaborn as sns\n",
    "import tensorflow as tf\n",
    "import matplotlib.pyplot as plt\n",
    "import warnings\n",
    "warnings.filterwarnings(\"ignore\")\n",
    "\n",
    "from scipy import stats\n",
    "from pylab import rcParams\n",
    "from keras import regularizers\n",
    "from keras.layers import Input, Dense\n",
    "from keras.models import Model, load_model\n",
    "from sklearn.metrics import accuracy_score\n",
    "from sklearn.metrics import confusion_matrix\n",
    "from sklearn.preprocessing import LabelEncoder\n",
    "from sklearn.model_selection import train_test_split\n",
    "from keras.callbacks import ModelCheckpoint, TensorBoard\n",
    "from keras.callbacks import ModelCheckpoint, EarlyStopping\n",
    "from sklearn.metrics import precision_recall_fscore_support"
   ]
  },
  {
   "cell_type": "markdown",
   "id": "0453fe76",
   "metadata": {},
   "source": [
    "# Dataload&Preprocessing"
   ]
  },
  {
   "cell_type": "code",
   "execution_count": 57,
   "id": "4b8a0947",
   "metadata": {},
   "outputs": [
    {
     "data": {
      "text/html": [
       "<div>\n",
       "<style scoped>\n",
       "    .dataframe tbody tr th:only-of-type {\n",
       "        vertical-align: middle;\n",
       "    }\n",
       "\n",
       "    .dataframe tbody tr th {\n",
       "        vertical-align: top;\n",
       "    }\n",
       "\n",
       "    .dataframe thead th {\n",
       "        text-align: right;\n",
       "    }\n",
       "</style>\n",
       "<table border=\"1\" class=\"dataframe\">\n",
       "  <thead>\n",
       "    <tr style=\"text-align: right;\">\n",
       "      <th></th>\n",
       "      <th>activity</th>\n",
       "      <th>X</th>\n",
       "      <th>Y</th>\n",
       "      <th>Z</th>\n",
       "    </tr>\n",
       "  </thead>\n",
       "  <tbody>\n",
       "    <tr>\n",
       "      <th>0</th>\n",
       "      <td>Jogging</td>\n",
       "      <td>-0.694638</td>\n",
       "      <td>12.680544</td>\n",
       "      <td>0.503953</td>\n",
       "    </tr>\n",
       "    <tr>\n",
       "      <th>1</th>\n",
       "      <td>Jogging</td>\n",
       "      <td>5.012288</td>\n",
       "      <td>11.264028</td>\n",
       "      <td>0.953424</td>\n",
       "    </tr>\n",
       "    <tr>\n",
       "      <th>2</th>\n",
       "      <td>Jogging</td>\n",
       "      <td>4.903325</td>\n",
       "      <td>10.882658</td>\n",
       "      <td>-0.081722</td>\n",
       "    </tr>\n",
       "    <tr>\n",
       "      <th>3</th>\n",
       "      <td>Jogging</td>\n",
       "      <td>-0.612916</td>\n",
       "      <td>18.496431</td>\n",
       "      <td>3.023717</td>\n",
       "    </tr>\n",
       "    <tr>\n",
       "      <th>4</th>\n",
       "      <td>Jogging</td>\n",
       "      <td>-1.184970</td>\n",
       "      <td>12.108489</td>\n",
       "      <td>7.205164</td>\n",
       "    </tr>\n",
       "    <tr>\n",
       "      <th>...</th>\n",
       "      <td>...</td>\n",
       "      <td>...</td>\n",
       "      <td>...</td>\n",
       "      <td>...</td>\n",
       "    </tr>\n",
       "    <tr>\n",
       "      <th>1098199</th>\n",
       "      <td>Sitting</td>\n",
       "      <td>9.000000</td>\n",
       "      <td>-1.570000</td>\n",
       "      <td>1.690000</td>\n",
       "    </tr>\n",
       "    <tr>\n",
       "      <th>1098200</th>\n",
       "      <td>Sitting</td>\n",
       "      <td>9.040000</td>\n",
       "      <td>-1.460000</td>\n",
       "      <td>1.730000</td>\n",
       "    </tr>\n",
       "    <tr>\n",
       "      <th>1098201</th>\n",
       "      <td>Sitting</td>\n",
       "      <td>9.080000</td>\n",
       "      <td>-1.380000</td>\n",
       "      <td>1.690000</td>\n",
       "    </tr>\n",
       "    <tr>\n",
       "      <th>1098202</th>\n",
       "      <td>Sitting</td>\n",
       "      <td>9.000000</td>\n",
       "      <td>-1.460000</td>\n",
       "      <td>1.730000</td>\n",
       "    </tr>\n",
       "    <tr>\n",
       "      <th>1098203</th>\n",
       "      <td>Sitting</td>\n",
       "      <td>8.880000</td>\n",
       "      <td>-1.330000</td>\n",
       "      <td>1.610000</td>\n",
       "    </tr>\n",
       "  </tbody>\n",
       "</table>\n",
       "<p>1098203 rows × 4 columns</p>\n",
       "</div>"
      ],
      "text/plain": [
       "        activity         X          Y         Z\n",
       "0        Jogging -0.694638  12.680544  0.503953\n",
       "1        Jogging  5.012288  11.264028  0.953424\n",
       "2        Jogging  4.903325  10.882658 -0.081722\n",
       "3        Jogging -0.612916  18.496431  3.023717\n",
       "4        Jogging -1.184970  12.108489  7.205164\n",
       "...          ...       ...        ...       ...\n",
       "1098199  Sitting  9.000000  -1.570000  1.690000\n",
       "1098200  Sitting  9.040000  -1.460000  1.730000\n",
       "1098201  Sitting  9.080000  -1.380000  1.690000\n",
       "1098202  Sitting  9.000000  -1.460000  1.730000\n",
       "1098203  Sitting  8.880000  -1.330000  1.610000\n",
       "\n",
       "[1098203 rows x 4 columns]"
      ]
     },
     "execution_count": 57,
     "metadata": {},
     "output_type": "execute_result"
    }
   ],
   "source": [
    "df=pd.read_csv('../dataset/WISDM.csv', index_col=0)\n",
    "df = df.drop(columns=['user-id', 'timestamp'])\n",
    "\n",
    "df"
   ]
  },
  {
   "cell_type": "markdown",
   "id": "031c312b",
   "metadata": {},
   "source": [
    "# Jogging&Sitting 제외 모두 drop"
   ]
  },
  {
   "cell_type": "code",
   "execution_count": 58,
   "id": "ca59b6d2",
   "metadata": {},
   "outputs": [
    {
     "name": "stdout",
     "output_type": "stream",
     "text": [
      "['Jogging' 'Walking' 'Upstairs' 'Downstairs' 'Sitting' 'Standing']\n"
     ]
    }
   ],
   "source": [
    "activities = df['activity'].unique() # activity 열의 고유한 값 확인\n",
    "\n",
    "print(activities) # 고유한 활동 출력"
   ]
  },
  {
   "cell_type": "code",
   "execution_count": 59,
   "id": "65db4023",
   "metadata": {},
   "outputs": [
    {
     "data": {
      "text/html": [
       "<div>\n",
       "<style scoped>\n",
       "    .dataframe tbody tr th:only-of-type {\n",
       "        vertical-align: middle;\n",
       "    }\n",
       "\n",
       "    .dataframe tbody tr th {\n",
       "        vertical-align: top;\n",
       "    }\n",
       "\n",
       "    .dataframe thead th {\n",
       "        text-align: right;\n",
       "    }\n",
       "</style>\n",
       "<table border=\"1\" class=\"dataframe\">\n",
       "  <thead>\n",
       "    <tr style=\"text-align: right;\">\n",
       "      <th></th>\n",
       "      <th>activity</th>\n",
       "      <th>X</th>\n",
       "      <th>Y</th>\n",
       "      <th>Z</th>\n",
       "    </tr>\n",
       "  </thead>\n",
       "  <tbody>\n",
       "    <tr>\n",
       "      <th>0</th>\n",
       "      <td>Jogging</td>\n",
       "      <td>-0.694638</td>\n",
       "      <td>12.680544</td>\n",
       "      <td>0.503953</td>\n",
       "    </tr>\n",
       "    <tr>\n",
       "      <th>1</th>\n",
       "      <td>Jogging</td>\n",
       "      <td>5.012288</td>\n",
       "      <td>11.264028</td>\n",
       "      <td>0.953424</td>\n",
       "    </tr>\n",
       "    <tr>\n",
       "      <th>2</th>\n",
       "      <td>Jogging</td>\n",
       "      <td>4.903325</td>\n",
       "      <td>10.882658</td>\n",
       "      <td>-0.081722</td>\n",
       "    </tr>\n",
       "    <tr>\n",
       "      <th>3</th>\n",
       "      <td>Jogging</td>\n",
       "      <td>-0.612916</td>\n",
       "      <td>18.496431</td>\n",
       "      <td>3.023717</td>\n",
       "    </tr>\n",
       "    <tr>\n",
       "      <th>4</th>\n",
       "      <td>Jogging</td>\n",
       "      <td>-1.184970</td>\n",
       "      <td>12.108489</td>\n",
       "      <td>7.205164</td>\n",
       "    </tr>\n",
       "    <tr>\n",
       "      <th>...</th>\n",
       "      <td>...</td>\n",
       "      <td>...</td>\n",
       "      <td>...</td>\n",
       "      <td>...</td>\n",
       "    </tr>\n",
       "    <tr>\n",
       "      <th>1098199</th>\n",
       "      <td>Sitting</td>\n",
       "      <td>9.000000</td>\n",
       "      <td>-1.570000</td>\n",
       "      <td>1.690000</td>\n",
       "    </tr>\n",
       "    <tr>\n",
       "      <th>1098200</th>\n",
       "      <td>Sitting</td>\n",
       "      <td>9.040000</td>\n",
       "      <td>-1.460000</td>\n",
       "      <td>1.730000</td>\n",
       "    </tr>\n",
       "    <tr>\n",
       "      <th>1098201</th>\n",
       "      <td>Sitting</td>\n",
       "      <td>9.080000</td>\n",
       "      <td>-1.380000</td>\n",
       "      <td>1.690000</td>\n",
       "    </tr>\n",
       "    <tr>\n",
       "      <th>1098202</th>\n",
       "      <td>Sitting</td>\n",
       "      <td>9.000000</td>\n",
       "      <td>-1.460000</td>\n",
       "      <td>1.730000</td>\n",
       "    </tr>\n",
       "    <tr>\n",
       "      <th>1098203</th>\n",
       "      <td>Sitting</td>\n",
       "      <td>8.880000</td>\n",
       "      <td>-1.330000</td>\n",
       "      <td>1.610000</td>\n",
       "    </tr>\n",
       "  </tbody>\n",
       "</table>\n",
       "<p>402115 rows × 4 columns</p>\n",
       "</div>"
      ],
      "text/plain": [
       "        activity         X          Y         Z\n",
       "0        Jogging -0.694638  12.680544  0.503953\n",
       "1        Jogging  5.012288  11.264028  0.953424\n",
       "2        Jogging  4.903325  10.882658 -0.081722\n",
       "3        Jogging -0.612916  18.496431  3.023717\n",
       "4        Jogging -1.184970  12.108489  7.205164\n",
       "...          ...       ...        ...       ...\n",
       "1098199  Sitting  9.000000  -1.570000  1.690000\n",
       "1098200  Sitting  9.040000  -1.460000  1.730000\n",
       "1098201  Sitting  9.080000  -1.380000  1.690000\n",
       "1098202  Sitting  9.000000  -1.460000  1.730000\n",
       "1098203  Sitting  8.880000  -1.330000  1.610000\n",
       "\n",
       "[402115 rows x 4 columns]"
      ]
     },
     "execution_count": 59,
     "metadata": {},
     "output_type": "execute_result"
    }
   ],
   "source": [
    "# 'Jogging'과 'Sitting'을 제외한 나머지 활동을 삭제\n",
    "df = df[df['activity'].isin(['Jogging', 'Sitting'])]\n",
    "\n",
    "df"
   ]
  },
  {
   "cell_type": "code",
   "execution_count": 60,
   "id": "e44a3212",
   "metadata": {},
   "outputs": [
    {
     "data": {
      "image/png": "[encoded data removed]",
      "text/plain": [
       "<Figure size 1500x500 with 1 Axes>"
      ]
     },
     "metadata": {},
     "output_type": "display_data"
    }
   ],
   "source": [
    "# 첫 번째 그래프: Activity Type에 따른 훈련 예제 수를 막대 그래프로 표시\n",
    "plt.figure(figsize=(15, 5))  # 그래프의 크기를 설정\n",
    "plt.xlabel('Activity Type')  # x 축 레이블 설정\n",
    "plt.ylabel('Training examples')  # y 축 레이블 설정\n",
    "df['activity'].value_counts().plot(kind='bar',  # 'activity' 열의 값 수를 막대 그래프로 표시\n",
    "                                  title='Training examples by Activity Types')  # 그래프 제목 설정\n",
    "plt.show()  # 그래프를 화면에 표시"
   ]
  },
  {
   "cell_type": "markdown",
   "id": "679093cb",
   "metadata": {},
   "source": [
    "# Jogging&Sitting selection(4500)"
   ]
  },
  {
   "cell_type": "code",
   "execution_count": 61,
   "id": "b9b5c65c",
   "metadata": {},
   "outputs": [],
   "source": [
    "# 'Jogging'과 'Sitting'을 각각 4500개씩만 선택\n",
    "Jogging = df[df['activity'] == 'Jogging'].head(4499).copy()\n",
    "Sitting = df[df['activity'] == 'Sitting'].head(4500).copy()"
   ]
  },
  {
   "cell_type": "markdown",
   "id": "4bf35c2e",
   "metadata": {},
   "source": [
    "# Data balancing"
   ]
  },
  {
   "cell_type": "code",
   "execution_count": 62,
   "id": "685a17c3",
   "metadata": {},
   "outputs": [
    {
     "data": {
      "text/plain": [
       "(8999, 4)"
      ]
     },
     "execution_count": 62,
     "metadata": {},
     "output_type": "execute_result"
    }
   ],
   "source": [
    "balanced_data = pd.DataFrame()\n",
    "balanced_data = pd.concat([balanced_data, Jogging, Sitting]) # concat(): 두 DF을 합쳐 새 DF를 생성.\n",
    "\n",
    "balanced_data.shape"
   ]
  },
  {
   "cell_type": "code",
   "execution_count": 63,
   "id": "f4f3aece",
   "metadata": {},
   "outputs": [
    {
     "data": {
      "text/html": [
       "<div>\n",
       "<style scoped>\n",
       "    .dataframe tbody tr th:only-of-type {\n",
       "        vertical-align: middle;\n",
       "    }\n",
       "\n",
       "    .dataframe tbody tr th {\n",
       "        vertical-align: top;\n",
       "    }\n",
       "\n",
       "    .dataframe thead th {\n",
       "        text-align: right;\n",
       "    }\n",
       "</style>\n",
       "<table border=\"1\" class=\"dataframe\">\n",
       "  <thead>\n",
       "    <tr style=\"text-align: right;\">\n",
       "      <th></th>\n",
       "      <th>activity</th>\n",
       "      <th>X</th>\n",
       "      <th>Y</th>\n",
       "      <th>Z</th>\n",
       "    </tr>\n",
       "  </thead>\n",
       "  <tbody>\n",
       "    <tr>\n",
       "      <th>0</th>\n",
       "      <td>Jogging</td>\n",
       "      <td>-0.694638</td>\n",
       "      <td>12.680544</td>\n",
       "      <td>0.503953</td>\n",
       "    </tr>\n",
       "    <tr>\n",
       "      <th>1</th>\n",
       "      <td>Jogging</td>\n",
       "      <td>5.012288</td>\n",
       "      <td>11.264028</td>\n",
       "      <td>0.953424</td>\n",
       "    </tr>\n",
       "    <tr>\n",
       "      <th>2</th>\n",
       "      <td>Jogging</td>\n",
       "      <td>4.903325</td>\n",
       "      <td>10.882658</td>\n",
       "      <td>-0.081722</td>\n",
       "    </tr>\n",
       "    <tr>\n",
       "      <th>3</th>\n",
       "      <td>Jogging</td>\n",
       "      <td>-0.612916</td>\n",
       "      <td>18.496431</td>\n",
       "      <td>3.023717</td>\n",
       "    </tr>\n",
       "    <tr>\n",
       "      <th>4</th>\n",
       "      <td>Jogging</td>\n",
       "      <td>-1.184970</td>\n",
       "      <td>12.108489</td>\n",
       "      <td>7.205164</td>\n",
       "    </tr>\n",
       "    <tr>\n",
       "      <th>...</th>\n",
       "      <td>...</td>\n",
       "      <td>...</td>\n",
       "      <td>...</td>\n",
       "      <td>...</td>\n",
       "    </tr>\n",
       "    <tr>\n",
       "      <th>255294</th>\n",
       "      <td>Sitting</td>\n",
       "      <td>-4.330000</td>\n",
       "      <td>-2.180000</td>\n",
       "      <td>8.308413</td>\n",
       "    </tr>\n",
       "    <tr>\n",
       "      <th>255295</th>\n",
       "      <td>Sitting</td>\n",
       "      <td>-4.370000</td>\n",
       "      <td>-2.220000</td>\n",
       "      <td>8.349273</td>\n",
       "    </tr>\n",
       "    <tr>\n",
       "      <th>255296</th>\n",
       "      <td>Sitting</td>\n",
       "      <td>-4.290000</td>\n",
       "      <td>-2.220000</td>\n",
       "      <td>8.308413</td>\n",
       "    </tr>\n",
       "    <tr>\n",
       "      <th>255297</th>\n",
       "      <td>Sitting</td>\n",
       "      <td>-4.290000</td>\n",
       "      <td>-2.220000</td>\n",
       "      <td>8.281172</td>\n",
       "    </tr>\n",
       "    <tr>\n",
       "      <th>255298</th>\n",
       "      <td>Sitting</td>\n",
       "      <td>-4.250000</td>\n",
       "      <td>-2.180000</td>\n",
       "      <td>8.349273</td>\n",
       "    </tr>\n",
       "  </tbody>\n",
       "</table>\n",
       "<p>8999 rows × 4 columns</p>\n",
       "</div>"
      ],
      "text/plain": [
       "       activity         X          Y         Z\n",
       "0       Jogging -0.694638  12.680544  0.503953\n",
       "1       Jogging  5.012288  11.264028  0.953424\n",
       "2       Jogging  4.903325  10.882658 -0.081722\n",
       "3       Jogging -0.612916  18.496431  3.023717\n",
       "4       Jogging -1.184970  12.108489  7.205164\n",
       "...         ...       ...        ...       ...\n",
       "255294  Sitting -4.330000  -2.180000  8.308413\n",
       "255295  Sitting -4.370000  -2.220000  8.349273\n",
       "255296  Sitting -4.290000  -2.220000  8.308413\n",
       "255297  Sitting -4.290000  -2.220000  8.281172\n",
       "255298  Sitting -4.250000  -2.180000  8.349273\n",
       "\n",
       "[8999 rows x 4 columns]"
      ]
     },
     "execution_count": 63,
     "metadata": {},
     "output_type": "execute_result"
    }
   ],
   "source": [
    "balanced_data"
   ]
  },
  {
   "cell_type": "code",
   "execution_count": 64,
   "id": "487a3f79",
   "metadata": {},
   "outputs": [
    {
     "data": {
      "text/plain": [
       "activity\n",
       "Sitting    4500\n",
       "Jogging    4499\n",
       "Name: count, dtype: int64"
      ]
     },
     "execution_count": 64,
     "metadata": {},
     "output_type": "execute_result"
    }
   ],
   "source": [
    "balanced_data['activity'].value_counts()"
   ]
  },
  {
   "cell_type": "markdown",
   "id": "20a469e1",
   "metadata": {},
   "source": [
    "# LabelEncoding"
   ]
  },
  {
   "cell_type": "code",
   "execution_count": 65,
   "id": "192ee01c",
   "metadata": {},
   "outputs": [],
   "source": [
    "le=LabelEncoder()\n",
    "\n",
    "# label인코딩으로 activity의 범주형data를 숫자로 변환\n",
    "balanced_data['activity']=le.fit_transform(balanced_data['activity']) # fit_transform메서드: data에 대한 변환 규칙 학습, 이를 기반으로 data 변환."
   ]
  },
  {
   "cell_type": "markdown",
   "id": "554e5db3",
   "metadata": {},
   "source": [
    "# Train/Test split"
   ]
  },
  {
   "cell_type": "code",
   "execution_count": 66,
   "id": "b6f53210",
   "metadata": {},
   "outputs": [
    {
     "data": {
      "text/plain": [
       "((6749, 4), (2250, 4))"
      ]
     },
     "execution_count": 66,
     "metadata": {},
     "output_type": "execute_result"
    }
   ],
   "source": [
    "X_train, X_test = train_test_split(balanced_data, train_size=0.75, random_state=42)\n",
    "X_train.shape, X_test.shape"
   ]
  },
  {
   "cell_type": "code",
   "execution_count": 67,
   "id": "ae88a01f",
   "metadata": {},
   "outputs": [],
   "source": [
    "# Normal = 0, Fall = 1\n",
    "normal = X_train[X_train['activity'] == 0]\n",
    "\n",
    "y_train = normal['activity']\n",
    "X_train_normal_train = normal.drop(['activity'], axis=1)\n",
    "\n",
    "y_test = X_test['activity']\n",
    "X_test = X_test.drop(['activity'], axis=1)\n",
    "\n",
    "X_train_ft = X_train_normal_train.values\n",
    "X_test = X_test.values"
   ]
  },
  {
   "cell_type": "markdown",
   "id": "11beeb84",
   "metadata": {},
   "source": [
    "# Auto Encoder"
   ]
  },
  {
   "cell_type": "code",
   "execution_count": 70,
   "id": "47296c65",
   "metadata": {},
   "outputs": [],
   "source": [
    "input_dim = X_train_normal_train.shape[1] # 입력 데이터의 차원(특성의 개수)\n",
    "encoding_dim = 14 # Encoder의 Hidden Layer의 차원(뉴런의 개수)\n",
    "\n",
    "# Input Layer 정의\n",
    "input_layer = Input(shape=(input_dim, ))\n",
    "\n",
    "# Encoder 정의\n",
    "encoder = Dense(encoding_dim, activation=\"tanh\", \n",
    "                activity_regularizer=regularizers.l1(10e-5))(input_layer)\n",
    "encoder = Dense(int(encoding_dim / 2), activation=\"relu\")(encoder)\n",
    "\n",
    "# Decoder 정의\n",
    "decoder = Dense(int(encoding_dim / 2), activation='tanh')(encoder)\n",
    "decoder = Dense(input_dim, activation='relu')(decoder)\n",
    "\n",
    "# Auto Encoder 정의\n",
    "autoencoder = Model(inputs=input_layer, outputs=decoder)"
   ]
  },
  {
   "cell_type": "code",
   "execution_count": 71,
   "id": "a9687322",
   "metadata": {},
   "outputs": [
    {
     "name": "stdout",
     "output_type": "stream",
     "text": [
      "Epoch 1/10\n",
      "96/96 [==============================] - 1s 3ms/step - loss: 67.2592 - accuracy: 0.1246 - val_loss: 65.7627 - val_accuracy: 0.1824\n",
      "Epoch 2/10\n",
      "96/96 [==============================] - 0s 2ms/step - loss: 59.1143 - accuracy: 0.4691 - val_loss: 49.7485 - val_accuracy: 0.7471\n",
      "Epoch 3/10\n",
      "96/96 [==============================] - 0s 2ms/step - loss: 45.8117 - accuracy: 0.7597 - val_loss: 41.1992 - val_accuracy: 0.7765\n",
      "Epoch 4/10\n",
      "96/96 [==============================] - 0s 2ms/step - loss: 39.4742 - accuracy: 0.7797 - val_loss: 36.7091 - val_accuracy: 0.7794\n",
      "Epoch 5/10\n",
      "96/96 [==============================] - 0s 2ms/step - loss: 35.8069 - accuracy: 0.7833 - val_loss: 33.7152 - val_accuracy: 0.7912\n",
      "Epoch 6/10\n",
      "96/96 [==============================] - 0s 2ms/step - loss: 33.0336 - accuracy: 0.7908 - val_loss: 31.2953 - val_accuracy: 0.7912\n",
      "Epoch 7/10\n",
      "96/96 [==============================] - 0s 2ms/step - loss: 30.6774 - accuracy: 0.7960 - val_loss: 29.1541 - val_accuracy: 0.8059\n",
      "Epoch 8/10\n",
      "96/96 [==============================] - 0s 2ms/step - loss: 28.5515 - accuracy: 0.7983 - val_loss: 27.0960 - val_accuracy: 0.8029\n",
      "Epoch 9/10\n",
      "96/96 [==============================] - 0s 2ms/step - loss: 26.6032 - accuracy: 0.8107 - val_loss: 25.2807 - val_accuracy: 0.8265\n",
      "Epoch 10/10\n",
      "96/96 [==============================] - 0s 2ms/step - loss: 24.8484 - accuracy: 0.8356 - val_loss: 23.6102 - val_accuracy: 0.8559\n"
     ]
    }
   ],
   "source": [
    "#nb_epoch = 100\n",
    "nb_epoch = 10\n",
    "batch_size = 32\n",
    "\n",
    "autoencoder.compile(optimizer='adam', \n",
    "                    loss='mean_squared_error', # loss()로 평균 제곱 오차\n",
    "                    metrics=['accuracy'])\n",
    "\n",
    "checkpointer = ModelCheckpoint(filepath=\"./model.h5\",\n",
    "                               verbose=0,\n",
    "                               save_best_only=True)\n",
    "\n",
    "tensorboard = TensorBoard(log_dir='/logs',\n",
    "                          histogram_freq=0,\n",
    "                          write_graph=True,\n",
    "                          write_images=True)\n",
    "# Autoencoder Model Train\n",
    "history = autoencoder.fit(X_train_normal_train, X_train_normal_train,\n",
    "                          epochs=nb_epoch,\n",
    "                          batch_size=batch_size,\n",
    "                          shuffle=True,\n",
    "                          validation_split=0.1,\n",
    "                          verbose=1,\n",
    "                          callbacks=[checkpointer, tensorboard]).history"
   ]
  },
  {
   "cell_type": "code",
   "execution_count": 74,
   "id": "b2db91e1",
   "metadata": {},
   "outputs": [
    {
     "name": "stdout",
     "output_type": "stream",
     "text": [
      "71/71 [==============================] - 0s 826us/step\n"
     ]
    },
    {
     "data": {
      "text/html": [
       "<div>\n",
       "<style scoped>\n",
       "    .dataframe tbody tr th:only-of-type {\n",
       "        vertical-align: middle;\n",
       "    }\n",
       "\n",
       "    .dataframe tbody tr th {\n",
       "        vertical-align: top;\n",
       "    }\n",
       "\n",
       "    .dataframe thead th {\n",
       "        text-align: right;\n",
       "    }\n",
       "</style>\n",
       "<table border=\"1\" class=\"dataframe\">\n",
       "  <thead>\n",
       "    <tr style=\"text-align: right;\">\n",
       "      <th></th>\n",
       "      <th>reconstruction_error</th>\n",
       "      <th>true_class</th>\n",
       "    </tr>\n",
       "  </thead>\n",
       "  <tbody>\n",
       "    <tr>\n",
       "      <th>count</th>\n",
       "      <td>2250.000000</td>\n",
       "      <td>2250.000000</td>\n",
       "    </tr>\n",
       "    <tr>\n",
       "      <th>mean</th>\n",
       "      <td>16.652380</td>\n",
       "      <td>0.511111</td>\n",
       "    </tr>\n",
       "    <tr>\n",
       "      <th>std</th>\n",
       "      <td>19.790660</td>\n",
       "      <td>0.499988</td>\n",
       "    </tr>\n",
       "    <tr>\n",
       "      <th>min</th>\n",
       "      <td>0.043596</td>\n",
       "      <td>0.000000</td>\n",
       "    </tr>\n",
       "    <tr>\n",
       "      <th>25%</th>\n",
       "      <td>1.833793</td>\n",
       "      <td>0.000000</td>\n",
       "    </tr>\n",
       "    <tr>\n",
       "      <th>50%</th>\n",
       "      <td>13.575739</td>\n",
       "      <td>1.000000</td>\n",
       "    </tr>\n",
       "    <tr>\n",
       "      <th>75%</th>\n",
       "      <td>15.789917</td>\n",
       "      <td>1.000000</td>\n",
       "    </tr>\n",
       "    <tr>\n",
       "      <th>max</th>\n",
       "      <td>146.884811</td>\n",
       "      <td>1.000000</td>\n",
       "    </tr>\n",
       "  </tbody>\n",
       "</table>\n",
       "</div>"
      ],
      "text/plain": [
       "       reconstruction_error   true_class\n",
       "count           2250.000000  2250.000000\n",
       "mean              16.652380     0.511111\n",
       "std               19.790660     0.499988\n",
       "min                0.043596     0.000000\n",
       "25%                1.833793     0.000000\n",
       "50%               13.575739     1.000000\n",
       "75%               15.789917     1.000000\n",
       "max              146.884811     1.000000"
      ]
     },
     "execution_count": 74,
     "metadata": {},
     "output_type": "execute_result"
    }
   ],
   "source": [
    "# 테스트 데이터 수정\n",
    "X_test = X_test\n",
    "\n",
    "# AutoEncoder를 사용해 테스트 데이터 예측\n",
    "predictions = autoencoder.predict(X_test)\n",
    "\n",
    "# 예측과 실제 데이터 간의 평균 제곱 오차(MSE) 계산\n",
    "mse = np.mean(np.power(X_test - predictions, 2), axis=1)\n",
    "\n",
    "# 오차와 실제 클래스 정보를 포함하는 DF 생성\n",
    "error_df = pd.DataFrame({'reconstruction_error': mse,\n",
    "                        'true_class': y_test})\n",
    "\n",
    "error_df.describe()  # 생성된 DF의 기술통계량 확인"
   ]
  },
  {
   "cell_type": "markdown",
   "id": "309a194c",
   "metadata": {},
   "source": [
    "# 재구성 오차(Reconstruction error) 기반, 이상 감지 모델 결과 시각화"
   ]
  },
  {
   "cell_type": "code",
   "execution_count": 78,
   "id": "0eb5f88d",
   "metadata": {},
   "outputs": [
    {
     "data": {
      "image/png": "[encoded data removed]",
      "text/plain": [
       "<Figure size 640x480 with 1 Axes>"
      ]
     },
     "metadata": {},
     "output_type": "display_data"
    }
   ],
   "source": [
    "threshold = 3 # 임계값(Threshold 설정)\n",
    "\n",
    "groups = error_df.groupby('true_class') # True_class에 따른 data group화\n",
    "\n",
    "fig, ax = plt.subplots() # Graph 생성\n",
    "\n",
    "# 각 Group에 대한 재구성 오차 플로팅\n",
    "for name, group in groups:\n",
    "    ax.plot(group.index, group.reconstruction_error, marker='o', ms=3.5, linestyle='',\n",
    "            label= \"Fraud\" if name == 1 else \"Normal\")\n",
    "# 임계값을 Red line으로 설정\n",
    "ax.hlines(threshold, ax.get_xlim()[0], ax.get_xlim()[1], colors=\"r\", zorder=100, label='Threshold')\n",
    "ax.legend()\n",
    "\n",
    "# Graph title & Label 설정\n",
    "plt.title(\"Reconstruction error for different classes\")\n",
    "plt.ylabel(\"Reconstruction error\")\n",
    "plt.xlabel(\"Data point index\")\n",
    "plt.show();"
   ]
  },
  {
   "cell_type": "markdown",
   "id": "63a2ca7c",
   "metadata": {},
   "source": [
    "# Threshold(임계값)을 기준, Reconstruction_error(오차)로 할당"
   ]
  },
  {
   "cell_type": "code",
   "execution_count": 79,
   "id": "3a78dbbe",
   "metadata": {},
   "outputs": [],
   "source": [
    "LABELS = [\"Normal\", \"AbNormal\"]"
   ]
  },
  {
   "cell_type": "code",
   "execution_count": 84,
   "id": "b7d4d7ee",
   "metadata": {},
   "outputs": [
    {
     "data": {
      "image/png": "[encoded data removed]",
      "text/plain": [
       "<Figure size 1200x1200 with 2 Axes>"
      ]
     },
     "metadata": {},
     "output_type": "display_data"
    }
   ],
   "source": [
    "# 오류값이 임계값보다 크면 0, 아니면 1 -> 임계값을 기준으로 정상/비정상 Classification\n",
    "y_pred = [0 if e > threshold else 1 for e in error_df.reconstruction_error.values]\n",
    "\n",
    "conf_matrix = confusion_matrix(error_df.true_class, y_pred) # 혼동 행렬 계산\n",
    "\n",
    "# Hit-map 작성\n",
    "plt.figure(figsize=(12, 12))\n",
    "sns.heatmap(conf_matrix, xticklabels=LABELS, yticklabels=LABELS, annot=True, fmt=\"d\");\n",
    "\n",
    "plt.title(\"Confusion matrix\")\n",
    "plt.ylabel('True class')\n",
    "plt.xlabel('Predicted class')\n",
    "plt.show()"
   ]
  },
  {
   "cell_type": "code",
   "execution_count": 85,
   "id": "ebb890f4",
   "metadata": {},
   "outputs": [],
   "source": [
    "precision, recall, f1,_ = precision_recall_fscore_support(y_test,y_pred,average='binary')"
   ]
  },
  {
   "cell_type": "code",
   "execution_count": 86,
   "id": "7e775695",
   "metadata": {},
   "outputs": [
    {
     "name": "stdout",
     "output_type": "stream",
     "text": [
      "Accuracy Score : 0.6608888888888889\n",
      "Precision : 0.774468085106383\n",
      "Recall : 0.4747826086956522\n",
      "F1 : 0.588679245283019\n"
     ]
    }
   ],
   "source": [
    "print ('Accuracy Score :',accuracy_score(error_df.true_class, y_pred) )\n",
    "print ('Precision :',precision )\n",
    "print ('Recall :',recall )\n",
    "print ('F1 :',f1 )"
   ]
  },
  {
   "cell_type": "markdown",
   "id": "4092bfda",
   "metadata": {},
   "source": [
    "# Denoising Autoencoder"
   ]
  },
  {
   "cell_type": "code",
   "execution_count": null,
   "id": "30a16f5e",
   "metadata": {},
   "outputs": [],
   "source": [
    "가우시안노이즈 사용"
   ]
  }
 ],
 "metadata": {
  "kernelspec": {
   "display_name": "Python 3 (ipykernel)",
   "language": "python",
   "name": "python3"
  },
  "language_info": {
   "codemirror_mode": {
    "name": "ipython",
    "version": 3
   },
   "file_extension": ".py",
   "mimetype": "text/x-python",
   "name": "python",
   "nbconvert_exporter": "python",
   "pygments_lexer": "ipython3",
   "version": "3.11.4"
  }
 },
 "nbformat": 4,
 "nbformat_minor": 5
}
