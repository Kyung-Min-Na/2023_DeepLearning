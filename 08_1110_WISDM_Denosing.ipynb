{
 "cells": [
  {
   "cell_type": "code",
   "execution_count": 1,
   "id": "99393fdf",
   "metadata": {},
   "outputs": [],
   "source": [
    "import pickle\n",
    "import numpy as np\n",
    "import pandas as pd\n",
    "import seaborn as sns\n",
    "import tensorflow as tf\n",
    "import matplotlib.pyplot as plt\n",
    "import warnings\n",
    "warnings.filterwarnings(\"ignore\")\n",
    "\n",
    "from scipy import stats\n",
    "from pylab import rcParams\n",
    "from keras import regularizers\n",
    "from keras.layers import Input, Dense\n",
    "from keras.models import Model, load_model\n",
    "from sklearn.metrics import accuracy_score\n",
    "from sklearn.metrics import confusion_matrix\n",
    "from sklearn.preprocessing import LabelEncoder\n",
    "from sklearn.model_selection import train_test_split\n",
    "from keras.callbacks import ModelCheckpoint, TensorBoard\n",
    "from keras.callbacks import ModelCheckpoint, EarlyStopping\n",
    "from sklearn.metrics import precision_recall_fscore_support"
   ]
  },
  {
   "cell_type": "markdown",
   "id": "0453fe76",
   "metadata": {},
   "source": [
    "# Dataload&Preprocessing"
   ]
  },
  {
   "cell_type": "code",
   "execution_count": 2,
   "id": "4b8a0947",
   "metadata": {},
   "outputs": [
    {
     "data": {
      "text/html": [
       "<div>\n",
       "<style scoped>\n",
       "    .dataframe tbody tr th:only-of-type {\n",
       "        vertical-align: middle;\n",
       "    }\n",
       "\n",
       "    .dataframe tbody tr th {\n",
       "        vertical-align: top;\n",
       "    }\n",
       "\n",
       "    .dataframe thead th {\n",
       "        text-align: right;\n",
       "    }\n",
       "</style>\n",
       "<table border=\"1\" class=\"dataframe\">\n",
       "  <thead>\n",
       "    <tr style=\"text-align: right;\">\n",
       "      <th></th>\n",
       "      <th>activity</th>\n",
       "      <th>X</th>\n",
       "      <th>Y</th>\n",
       "      <th>Z</th>\n",
       "    </tr>\n",
       "  </thead>\n",
       "  <tbody>\n",
       "    <tr>\n",
       "      <th>0</th>\n",
       "      <td>Jogging</td>\n",
       "      <td>-0.694638</td>\n",
       "      <td>12.680544</td>\n",
       "      <td>0.503953</td>\n",
       "    </tr>\n",
       "    <tr>\n",
       "      <th>1</th>\n",
       "      <td>Jogging</td>\n",
       "      <td>5.012288</td>\n",
       "      <td>11.264028</td>\n",
       "      <td>0.953424</td>\n",
       "    </tr>\n",
       "    <tr>\n",
       "      <th>2</th>\n",
       "      <td>Jogging</td>\n",
       "      <td>4.903325</td>\n",
       "      <td>10.882658</td>\n",
       "      <td>-0.081722</td>\n",
       "    </tr>\n",
       "    <tr>\n",
       "      <th>3</th>\n",
       "      <td>Jogging</td>\n",
       "      <td>-0.612916</td>\n",
       "      <td>18.496431</td>\n",
       "      <td>3.023717</td>\n",
       "    </tr>\n",
       "    <tr>\n",
       "      <th>4</th>\n",
       "      <td>Jogging</td>\n",
       "      <td>-1.184970</td>\n",
       "      <td>12.108489</td>\n",
       "      <td>7.205164</td>\n",
       "    </tr>\n",
       "    <tr>\n",
       "      <th>...</th>\n",
       "      <td>...</td>\n",
       "      <td>...</td>\n",
       "      <td>...</td>\n",
       "      <td>...</td>\n",
       "    </tr>\n",
       "    <tr>\n",
       "      <th>1098199</th>\n",
       "      <td>Sitting</td>\n",
       "      <td>9.000000</td>\n",
       "      <td>-1.570000</td>\n",
       "      <td>1.690000</td>\n",
       "    </tr>\n",
       "    <tr>\n",
       "      <th>1098200</th>\n",
       "      <td>Sitting</td>\n",
       "      <td>9.040000</td>\n",
       "      <td>-1.460000</td>\n",
       "      <td>1.730000</td>\n",
       "    </tr>\n",
       "    <tr>\n",
       "      <th>1098201</th>\n",
       "      <td>Sitting</td>\n",
       "      <td>9.080000</td>\n",
       "      <td>-1.380000</td>\n",
       "      <td>1.690000</td>\n",
       "    </tr>\n",
       "    <tr>\n",
       "      <th>1098202</th>\n",
       "      <td>Sitting</td>\n",
       "      <td>9.000000</td>\n",
       "      <td>-1.460000</td>\n",
       "      <td>1.730000</td>\n",
       "    </tr>\n",
       "    <tr>\n",
       "      <th>1098203</th>\n",
       "      <td>Sitting</td>\n",
       "      <td>8.880000</td>\n",
       "      <td>-1.330000</td>\n",
       "      <td>1.610000</td>\n",
       "    </tr>\n",
       "  </tbody>\n",
       "</table>\n",
       "<p>1098203 rows × 4 columns</p>\n",
       "</div>"
      ],
      "text/plain": [
       "        activity         X          Y         Z\n",
       "0        Jogging -0.694638  12.680544  0.503953\n",
       "1        Jogging  5.012288  11.264028  0.953424\n",
       "2        Jogging  4.903325  10.882658 -0.081722\n",
       "3        Jogging -0.612916  18.496431  3.023717\n",
       "4        Jogging -1.184970  12.108489  7.205164\n",
       "...          ...       ...        ...       ...\n",
       "1098199  Sitting  9.000000  -1.570000  1.690000\n",
       "1098200  Sitting  9.040000  -1.460000  1.730000\n",
       "1098201  Sitting  9.080000  -1.380000  1.690000\n",
       "1098202  Sitting  9.000000  -1.460000  1.730000\n",
       "1098203  Sitting  8.880000  -1.330000  1.610000\n",
       "\n",
       "[1098203 rows x 4 columns]"
      ]
     },
     "execution_count": 2,
     "metadata": {},
     "output_type": "execute_result"
    }
   ],
   "source": [
    "df=pd.read_csv('../dataset/WISDM.csv', index_col=0)\n",
    "df = df.drop(columns=['user-id', 'timestamp'])\n",
    "\n",
    "df"
   ]
  },
  {
   "cell_type": "markdown",
   "id": "031c312b",
   "metadata": {},
   "source": [
    "# Jogging&Sitting 제외 모두 drop"
   ]
  },
  {
   "cell_type": "code",
   "execution_count": 3,
   "id": "ca59b6d2",
   "metadata": {},
   "outputs": [
    {
     "name": "stdout",
     "output_type": "stream",
     "text": [
      "['Jogging' 'Walking' 'Upstairs' 'Downstairs' 'Sitting' 'Standing']\n"
     ]
    }
   ],
   "source": [
    "activities = df['activity'].unique() # activity 열의 고유한 값 확인\n",
    "\n",
    "print(activities) # 고유한 활동 출력"
   ]
  },
  {
   "cell_type": "code",
   "execution_count": 4,
   "id": "65db4023",
   "metadata": {},
   "outputs": [
    {
     "data": {
      "text/html": [
       "<div>\n",
       "<style scoped>\n",
       "    .dataframe tbody tr th:only-of-type {\n",
       "        vertical-align: middle;\n",
       "    }\n",
       "\n",
       "    .dataframe tbody tr th {\n",
       "        vertical-align: top;\n",
       "    }\n",
       "\n",
       "    .dataframe thead th {\n",
       "        text-align: right;\n",
       "    }\n",
       "</style>\n",
       "<table border=\"1\" class=\"dataframe\">\n",
       "  <thead>\n",
       "    <tr style=\"text-align: right;\">\n",
       "      <th></th>\n",
       "      <th>activity</th>\n",
       "      <th>X</th>\n",
       "      <th>Y</th>\n",
       "      <th>Z</th>\n",
       "    </tr>\n",
       "  </thead>\n",
       "  <tbody>\n",
       "    <tr>\n",
       "      <th>0</th>\n",
       "      <td>Jogging</td>\n",
       "      <td>-0.694638</td>\n",
       "      <td>12.680544</td>\n",
       "      <td>0.503953</td>\n",
       "    </tr>\n",
       "    <tr>\n",
       "      <th>1</th>\n",
       "      <td>Jogging</td>\n",
       "      <td>5.012288</td>\n",
       "      <td>11.264028</td>\n",
       "      <td>0.953424</td>\n",
       "    </tr>\n",
       "    <tr>\n",
       "      <th>2</th>\n",
       "      <td>Jogging</td>\n",
       "      <td>4.903325</td>\n",
       "      <td>10.882658</td>\n",
       "      <td>-0.081722</td>\n",
       "    </tr>\n",
       "    <tr>\n",
       "      <th>3</th>\n",
       "      <td>Jogging</td>\n",
       "      <td>-0.612916</td>\n",
       "      <td>18.496431</td>\n",
       "      <td>3.023717</td>\n",
       "    </tr>\n",
       "    <tr>\n",
       "      <th>4</th>\n",
       "      <td>Jogging</td>\n",
       "      <td>-1.184970</td>\n",
       "      <td>12.108489</td>\n",
       "      <td>7.205164</td>\n",
       "    </tr>\n",
       "    <tr>\n",
       "      <th>...</th>\n",
       "      <td>...</td>\n",
       "      <td>...</td>\n",
       "      <td>...</td>\n",
       "      <td>...</td>\n",
       "    </tr>\n",
       "    <tr>\n",
       "      <th>1098199</th>\n",
       "      <td>Sitting</td>\n",
       "      <td>9.000000</td>\n",
       "      <td>-1.570000</td>\n",
       "      <td>1.690000</td>\n",
       "    </tr>\n",
       "    <tr>\n",
       "      <th>1098200</th>\n",
       "      <td>Sitting</td>\n",
       "      <td>9.040000</td>\n",
       "      <td>-1.460000</td>\n",
       "      <td>1.730000</td>\n",
       "    </tr>\n",
       "    <tr>\n",
       "      <th>1098201</th>\n",
       "      <td>Sitting</td>\n",
       "      <td>9.080000</td>\n",
       "      <td>-1.380000</td>\n",
       "      <td>1.690000</td>\n",
       "    </tr>\n",
       "    <tr>\n",
       "      <th>1098202</th>\n",
       "      <td>Sitting</td>\n",
       "      <td>9.000000</td>\n",
       "      <td>-1.460000</td>\n",
       "      <td>1.730000</td>\n",
       "    </tr>\n",
       "    <tr>\n",
       "      <th>1098203</th>\n",
       "      <td>Sitting</td>\n",
       "      <td>8.880000</td>\n",
       "      <td>-1.330000</td>\n",
       "      <td>1.610000</td>\n",
       "    </tr>\n",
       "  </tbody>\n",
       "</table>\n",
       "<p>402115 rows × 4 columns</p>\n",
       "</div>"
      ],
      "text/plain": [
       "        activity         X          Y         Z\n",
       "0        Jogging -0.694638  12.680544  0.503953\n",
       "1        Jogging  5.012288  11.264028  0.953424\n",
       "2        Jogging  4.903325  10.882658 -0.081722\n",
       "3        Jogging -0.612916  18.496431  3.023717\n",
       "4        Jogging -1.184970  12.108489  7.205164\n",
       "...          ...       ...        ...       ...\n",
       "1098199  Sitting  9.000000  -1.570000  1.690000\n",
       "1098200  Sitting  9.040000  -1.460000  1.730000\n",
       "1098201  Sitting  9.080000  -1.380000  1.690000\n",
       "1098202  Sitting  9.000000  -1.460000  1.730000\n",
       "1098203  Sitting  8.880000  -1.330000  1.610000\n",
       "\n",
       "[402115 rows x 4 columns]"
      ]
     },
     "execution_count": 4,
     "metadata": {},
     "output_type": "execute_result"
    }
   ],
   "source": [
    "# 'Jogging'과 'Sitting'을 제외한 나머지 활동을 삭제\n",
    "df = df[df['activity'].isin(['Jogging', 'Sitting'])]\n",
    "\n",
    "df"
   ]
  },
  {
   "cell_type": "code",
   "execution_count": 5,
   "id": "e44a3212",
   "metadata": {},
   "outputs": [
    {
     "data": {
      "image/png": "[encoded data removed]",
      "text/plain": [
       "<Figure size 1500x500 with 1 Axes>"
      ]
     },
     "metadata": {},
     "output_type": "display_data"
    }
   ],
   "source": [
    "# 첫 번째 그래프: Activity Type에 따른 훈련 예제 수를 막대 그래프로 표시\n",
    "plt.figure(figsize=(15, 5))  # 그래프의 크기를 설정\n",
    "plt.xlabel('Activity Type')  # x 축 레이블 설정\n",
    "plt.ylabel('Training examples')  # y 축 레이블 설정\n",
    "df['activity'].value_counts().plot(kind='bar',  # 'activity' 열의 값 수를 막대 그래프로 표시\n",
    "                                  title='Training examples by Activity Types')  # 그래프 제목 설정\n",
    "plt.show()  # 그래프를 화면에 표시"
   ]
  },
  {
   "cell_type": "markdown",
   "id": "679093cb",
   "metadata": {},
   "source": [
    "# Jogging&Sitting selection(4500)"
   ]
  },
  {
   "cell_type": "code",
   "execution_count": 6,
   "id": "b9b5c65c",
   "metadata": {},
   "outputs": [],
   "source": [
    "# 'Jogging'과 'Sitting'을 각각 4500개씩만 선택\n",
    "Jogging = df[df['activity'] == 'Jogging'].head(4499).copy()\n",
    "Sitting = df[df['activity'] == 'Sitting'].head(4500).copy()"
   ]
  },
  {
   "cell_type": "markdown",
   "id": "4bf35c2e",
   "metadata": {},
   "source": [
    "# Data balancing"
   ]
  },
  {
   "cell_type": "code",
   "execution_count": 7,
   "id": "685a17c3",
   "metadata": {},
   "outputs": [
    {
     "data": {
      "text/plain": [
       "(8999, 4)"
      ]
     },
     "execution_count": 7,
     "metadata": {},
     "output_type": "execute_result"
    }
   ],
   "source": [
    "balanced_data = pd.DataFrame()\n",
    "balanced_data = pd.concat([balanced_data, Jogging, Sitting]) # concat(): 두 DF을 합쳐 새 DF를 생성.\n",
    "\n",
    "balanced_data.shape"
   ]
  },
  {
   "cell_type": "code",
   "execution_count": 8,
   "id": "f4f3aece",
   "metadata": {},
   "outputs": [
    {
     "data": {
      "text/html": [
       "<div>\n",
       "<style scoped>\n",
       "    .dataframe tbody tr th:only-of-type {\n",
       "        vertical-align: middle;\n",
       "    }\n",
       "\n",
       "    .dataframe tbody tr th {\n",
       "        vertical-align: top;\n",
       "    }\n",
       "\n",
       "    .dataframe thead th {\n",
       "        text-align: right;\n",
       "    }\n",
       "</style>\n",
       "<table border=\"1\" class=\"dataframe\">\n",
       "  <thead>\n",
       "    <tr style=\"text-align: right;\">\n",
       "      <th></th>\n",
       "      <th>activity</th>\n",
       "      <th>X</th>\n",
       "      <th>Y</th>\n",
       "      <th>Z</th>\n",
       "    </tr>\n",
       "  </thead>\n",
       "  <tbody>\n",
       "    <tr>\n",
       "      <th>0</th>\n",
       "      <td>Jogging</td>\n",
       "      <td>-0.694638</td>\n",
       "      <td>12.680544</td>\n",
       "      <td>0.503953</td>\n",
       "    </tr>\n",
       "    <tr>\n",
       "      <th>1</th>\n",
       "      <td>Jogging</td>\n",
       "      <td>5.012288</td>\n",
       "      <td>11.264028</td>\n",
       "      <td>0.953424</td>\n",
       "    </tr>\n",
       "    <tr>\n",
       "      <th>2</th>\n",
       "      <td>Jogging</td>\n",
       "      <td>4.903325</td>\n",
       "      <td>10.882658</td>\n",
       "      <td>-0.081722</td>\n",
       "    </tr>\n",
       "    <tr>\n",
       "      <th>3</th>\n",
       "      <td>Jogging</td>\n",
       "      <td>-0.612916</td>\n",
       "      <td>18.496431</td>\n",
       "      <td>3.023717</td>\n",
       "    </tr>\n",
       "    <tr>\n",
       "      <th>4</th>\n",
       "      <td>Jogging</td>\n",
       "      <td>-1.184970</td>\n",
       "      <td>12.108489</td>\n",
       "      <td>7.205164</td>\n",
       "    </tr>\n",
       "    <tr>\n",
       "      <th>...</th>\n",
       "      <td>...</td>\n",
       "      <td>...</td>\n",
       "      <td>...</td>\n",
       "      <td>...</td>\n",
       "    </tr>\n",
       "    <tr>\n",
       "      <th>255294</th>\n",
       "      <td>Sitting</td>\n",
       "      <td>-4.330000</td>\n",
       "      <td>-2.180000</td>\n",
       "      <td>8.308413</td>\n",
       "    </tr>\n",
       "    <tr>\n",
       "      <th>255295</th>\n",
       "      <td>Sitting</td>\n",
       "      <td>-4.370000</td>\n",
       "      <td>-2.220000</td>\n",
       "      <td>8.349273</td>\n",
       "    </tr>\n",
       "    <tr>\n",
       "      <th>255296</th>\n",
       "      <td>Sitting</td>\n",
       "      <td>-4.290000</td>\n",
       "      <td>-2.220000</td>\n",
       "      <td>8.308413</td>\n",
       "    </tr>\n",
       "    <tr>\n",
       "      <th>255297</th>\n",
       "      <td>Sitting</td>\n",
       "      <td>-4.290000</td>\n",
       "      <td>-2.220000</td>\n",
       "      <td>8.281172</td>\n",
       "    </tr>\n",
       "    <tr>\n",
       "      <th>255298</th>\n",
       "      <td>Sitting</td>\n",
       "      <td>-4.250000</td>\n",
       "      <td>-2.180000</td>\n",
       "      <td>8.349273</td>\n",
       "    </tr>\n",
       "  </tbody>\n",
       "</table>\n",
       "<p>8999 rows × 4 columns</p>\n",
       "</div>"
      ],
      "text/plain": [
       "       activity         X          Y         Z\n",
       "0       Jogging -0.694638  12.680544  0.503953\n",
       "1       Jogging  5.012288  11.264028  0.953424\n",
       "2       Jogging  4.903325  10.882658 -0.081722\n",
       "3       Jogging -0.612916  18.496431  3.023717\n",
       "4       Jogging -1.184970  12.108489  7.205164\n",
       "...         ...       ...        ...       ...\n",
       "255294  Sitting -4.330000  -2.180000  8.308413\n",
       "255295  Sitting -4.370000  -2.220000  8.349273\n",
       "255296  Sitting -4.290000  -2.220000  8.308413\n",
       "255297  Sitting -4.290000  -2.220000  8.281172\n",
       "255298  Sitting -4.250000  -2.180000  8.349273\n",
       "\n",
       "[8999 rows x 4 columns]"
      ]
     },
     "execution_count": 8,
     "metadata": {},
     "output_type": "execute_result"
    }
   ],
   "source": [
    "balanced_data"
   ]
  },
  {
   "cell_type": "code",
   "execution_count": 9,
   "id": "487a3f79",
   "metadata": {},
   "outputs": [
    {
     "data": {
      "text/plain": [
       "activity\n",
       "Sitting    4500\n",
       "Jogging    4499\n",
       "Name: count, dtype: int64"
      ]
     },
     "execution_count": 9,
     "metadata": {},
     "output_type": "execute_result"
    }
   ],
   "source": [
    "balanced_data['activity'].value_counts()"
   ]
  },
  {
   "cell_type": "markdown",
   "id": "20a469e1",
   "metadata": {},
   "source": [
    "# LabelEncoding"
   ]
  },
  {
   "cell_type": "code",
   "execution_count": 10,
   "id": "192ee01c",
   "metadata": {},
   "outputs": [],
   "source": [
    "le=LabelEncoder()\n",
    "\n",
    "# label인코딩으로 activity의 범주형data를 숫자로 변환\n",
    "balanced_data['activity']=le.fit_transform(balanced_data['activity']) # fit_transform메서드: data에 대한 변환 규칙 학습, 이를 기반으로 data 변환."
   ]
  },
  {
   "cell_type": "markdown",
   "id": "554e5db3",
   "metadata": {},
   "source": [
    "# Train/Test split"
   ]
  },
  {
   "cell_type": "code",
   "execution_count": 11,
   "id": "b6f53210",
   "metadata": {},
   "outputs": [
    {
     "data": {
      "text/plain": [
       "((6749, 4), (2250, 4))"
      ]
     },
     "execution_count": 11,
     "metadata": {},
     "output_type": "execute_result"
    }
   ],
   "source": [
    "X_train, X_test = train_test_split(balanced_data, train_size=0.75, random_state=42)\n",
    "X_train.shape, X_test.shape"
   ]
  },
  {
   "cell_type": "code",
   "execution_count": 23,
   "id": "ae88a01f",
   "metadata": {},
   "outputs": [
    {
     "name": "stdout",
     "output_type": "stream",
     "text": [
      "<class 'pandas.core.frame.DataFrame'>\n",
      "Index: 3399 entries, 7410 to 5824\n",
      "Data columns (total 4 columns):\n",
      " #   Column    Non-Null Count  Dtype  \n",
      "---  ------    --------------  -----  \n",
      " 0   activity  3399 non-null   int32  \n",
      " 1   X         3399 non-null   float64\n",
      " 2   Y         3399 non-null   float64\n",
      " 3   Z         3399 non-null   float64\n",
      "dtypes: float64(3), int32(1)\n",
      "memory usage: 119.5 KB\n"
     ]
    }
   ],
   "source": [
    "X_train = X_train[X_train['activity']==0]\n",
    "X_train.info()"
   ]
  },
  {
   "cell_type": "code",
   "execution_count": 25,
   "id": "a14039e7",
   "metadata": {},
   "outputs": [
    {
     "data": {
      "text/html": [
       "<div>\n",
       "<style scoped>\n",
       "    .dataframe tbody tr th:only-of-type {\n",
       "        vertical-align: middle;\n",
       "    }\n",
       "\n",
       "    .dataframe tbody tr th {\n",
       "        vertical-align: top;\n",
       "    }\n",
       "\n",
       "    .dataframe thead th {\n",
       "        text-align: right;\n",
       "    }\n",
       "</style>\n",
       "<table border=\"1\" class=\"dataframe\">\n",
       "  <thead>\n",
       "    <tr style=\"text-align: right;\">\n",
       "      <th></th>\n",
       "      <th>X</th>\n",
       "      <th>Y</th>\n",
       "      <th>Z</th>\n",
       "    </tr>\n",
       "  </thead>\n",
       "  <tbody>\n",
       "    <tr>\n",
       "      <th>7410</th>\n",
       "      <td>3.868179</td>\n",
       "      <td>2.724070</td>\n",
       "      <td>1.757025</td>\n",
       "    </tr>\n",
       "    <tr>\n",
       "      <th>6997</th>\n",
       "      <td>4.399372</td>\n",
       "      <td>11.223166</td>\n",
       "      <td>-4.562817</td>\n",
       "    </tr>\n",
       "    <tr>\n",
       "      <th>12690</th>\n",
       "      <td>5.325556</td>\n",
       "      <td>14.287745</td>\n",
       "      <td>-1.879608</td>\n",
       "    </tr>\n",
       "    <tr>\n",
       "      <th>7363</th>\n",
       "      <td>5.134871</td>\n",
       "      <td>15.636159</td>\n",
       "      <td>-7.205164</td>\n",
       "    </tr>\n",
       "    <tr>\n",
       "      <th>51</th>\n",
       "      <td>-0.081722</td>\n",
       "      <td>11.917805</td>\n",
       "      <td>-7.886181</td>\n",
       "    </tr>\n",
       "    <tr>\n",
       "      <th>...</th>\n",
       "      <td>...</td>\n",
       "      <td>...</td>\n",
       "      <td>...</td>\n",
       "    </tr>\n",
       "    <tr>\n",
       "      <th>5733</th>\n",
       "      <td>-9.615966</td>\n",
       "      <td>9.888372</td>\n",
       "      <td>3.445948</td>\n",
       "    </tr>\n",
       "    <tr>\n",
       "      <th>7228</th>\n",
       "      <td>-3.759216</td>\n",
       "      <td>7.246025</td>\n",
       "      <td>6.469665</td>\n",
       "    </tr>\n",
       "    <tr>\n",
       "      <th>12946</th>\n",
       "      <td>5.706926</td>\n",
       "      <td>3.827318</td>\n",
       "      <td>-0.190685</td>\n",
       "    </tr>\n",
       "    <tr>\n",
       "      <th>466</th>\n",
       "      <td>-11.304889</td>\n",
       "      <td>8.076866</td>\n",
       "      <td>4.058864</td>\n",
       "    </tr>\n",
       "    <tr>\n",
       "      <th>5824</th>\n",
       "      <td>10.528529</td>\n",
       "      <td>17.474907</td>\n",
       "      <td>6.782933</td>\n",
       "    </tr>\n",
       "  </tbody>\n",
       "</table>\n",
       "<p>3399 rows × 3 columns</p>\n",
       "</div>"
      ],
      "text/plain": [
       "               X          Y         Z\n",
       "7410    3.868179   2.724070  1.757025\n",
       "6997    4.399372  11.223166 -4.562817\n",
       "12690   5.325556  14.287745 -1.879608\n",
       "7363    5.134871  15.636159 -7.205164\n",
       "51     -0.081722  11.917805 -7.886181\n",
       "...          ...        ...       ...\n",
       "5733   -9.615966   9.888372  3.445948\n",
       "7228   -3.759216   7.246025  6.469665\n",
       "12946   5.706926   3.827318 -0.190685\n",
       "466   -11.304889   8.076866  4.058864\n",
       "5824   10.528529  17.474907  6.782933\n",
       "\n",
       "[3399 rows x 3 columns]"
      ]
     },
     "execution_count": 25,
     "metadata": {},
     "output_type": "execute_result"
    }
   ],
   "source": [
    "x_train = X_train.drop(['activity'], axis=1)\n",
    "x_train"
   ]
  },
  {
   "cell_type": "markdown",
   "id": "11beeb84",
   "metadata": {},
   "source": [
    "# Noise"
   ]
  },
  {
   "cell_type": "code",
   "execution_count": 32,
   "id": "47296c65",
   "metadata": {},
   "outputs": [],
   "source": [
    "noise_factor = 0.50\n",
    "\n",
    "x_train_noisy = x_train.copy() + noise_factor * \\\n",
    "np.random.normal(loc=0.0, scale=1.0, size=x_train.shape)\n",
    "\n",
    "x_test_noisy = X_test.copy() + noise_factor * \\\n",
    "np.random.normal(loc=0.0, scale=1.0, size=X_test.shape) "
   ]
  },
  {
   "cell_type": "code",
   "execution_count": 33,
   "id": "a9687322",
   "metadata": {},
   "outputs": [],
   "source": [
    "input_dim = x_train.shape[1]\n",
    "encoding_dim = 20\n",
    "input_layer = Input(shape=(input_dim, ))\n",
    "\n",
    "encoder = Dense(encoding_dim/2, activation=\"relu\", \n",
    "                activity_regularizer=regularizers.l1(10e-5))(input_layer)\n",
    "encoder = Dense(int(encoding_dim/2 ), activation='relu')(encoder)\n",
    "encoder = Dense(int(encoding_dim/4 ), activation='relu')(encoder)\n",
    "encoder = Dense(int(encoding_dim / 6), activation='linear')(encoder)\n",
    "decoder = Dense(int(encoding_dim/4 ), activation='relu')(encoder)\n",
    "decoder = Dense(int(encoding_dim/2 ), activation='relu')(decoder)\n",
    "decoder = Dense(int(encoding_dim/2 ), activation='relu')(decoder)\n",
    "decoder = Dense(input_dim, activation='linear')(decoder)\n",
    "autoencoder = Model(inputs=input_layer, outputs=decoder)"
   ]
  },
  {
   "cell_type": "code",
   "execution_count": 34,
   "id": "b2db91e1",
   "metadata": {},
   "outputs": [
    {
     "name": "stdout",
     "output_type": "stream",
     "text": [
      "Model: \"model_1\"\n",
      "_________________________________________________________________\n",
      " Layer (type)                Output Shape              Param #   \n",
      "=================================================================\n",
      " input_2 (InputLayer)        [(None, 3)]               0         \n",
      "                                                                 \n",
      " dense_4 (Dense)             (None, 10)                40        \n",
      "                                                                 \n",
      " dense_5 (Dense)             (None, 10)                110       \n",
      "                                                                 \n",
      " dense_6 (Dense)             (None, 5)                 55        \n",
      "                                                                 \n",
      " dense_7 (Dense)             (None, 3)                 18        \n",
      "                                                                 \n",
      " dense_8 (Dense)             (None, 5)                 20        \n",
      "                                                                 \n",
      " dense_9 (Dense)             (None, 10)                60        \n",
      "                                                                 \n",
      " dense_10 (Dense)            (None, 10)                110       \n",
      "                                                                 \n",
      " dense_11 (Dense)            (None, 3)                 33        \n",
      "                                                                 \n",
      "=================================================================\n",
      "Total params: 446 (1.74 KB)\n",
      "Trainable params: 446 (1.74 KB)\n",
      "Non-trainable params: 0 (0.00 Byte)\n",
      "_________________________________________________________________\n"
     ]
    }
   ],
   "source": [
    "autoencoder.summary()"
   ]
  },
  {
   "cell_type": "code",
   "execution_count": 36,
   "id": "56519db1",
   "metadata": {},
   "outputs": [
    {
     "name": "stdout",
     "output_type": "stream",
     "text": [
      "Epoch 1/20\n",
      "213/213 [==============================] - 2s 3ms/step - loss: 21.2897 - accuracy: 0.7773 - val_loss: 14.6151 - val_accuracy: 0.8099\n",
      "Epoch 2/20\n",
      "213/213 [==============================] - 1s 3ms/step - loss: 10.3377 - accuracy: 0.8305 - val_loss: 7.5818 - val_accuracy: 0.8488\n",
      "Epoch 3/20\n",
      "213/213 [==============================] - 1s 2ms/step - loss: 6.3942 - accuracy: 0.8673 - val_loss: 5.6621 - val_accuracy: 0.8803\n",
      "Epoch 4/20\n",
      "213/213 [==============================] - 0s 2ms/step - loss: 5.2145 - accuracy: 0.8817 - val_loss: 4.2654 - val_accuracy: 0.8811\n",
      "Epoch 5/20\n",
      "213/213 [==============================] - 0s 2ms/step - loss: 2.3955 - accuracy: 0.8832 - val_loss: 1.5149 - val_accuracy: 0.8964\n",
      "Epoch 6/20\n",
      "213/213 [==============================] - 0s 2ms/step - loss: 1.3199 - accuracy: 0.9011 - val_loss: 1.2009 - val_accuracy: 0.9014\n",
      "Epoch 7/20\n",
      "213/213 [==============================] - 0s 2ms/step - loss: 1.1233 - accuracy: 0.9100 - val_loss: 1.0266 - val_accuracy: 0.9156\n",
      "Epoch 8/20\n",
      "213/213 [==============================] - 0s 2ms/step - loss: 1.0100 - accuracy: 0.9167 - val_loss: 0.9536 - val_accuracy: 0.9135\n",
      "Epoch 9/20\n",
      "213/213 [==============================] - 1s 2ms/step - loss: 0.9359 - accuracy: 0.9144 - val_loss: 0.9029 - val_accuracy: 0.9206\n",
      "Epoch 10/20\n",
      "213/213 [==============================] - 0s 2ms/step - loss: 0.8440 - accuracy: 0.9209 - val_loss: 0.8068 - val_accuracy: 0.9235\n",
      "Epoch 11/20\n",
      "213/213 [==============================] - 0s 2ms/step - loss: 0.7911 - accuracy: 0.9247 - val_loss: 0.7670 - val_accuracy: 0.9270\n",
      "Epoch 12/20\n",
      "213/213 [==============================] - 0s 2ms/step - loss: 0.7702 - accuracy: 0.9276 - val_loss: 0.7044 - val_accuracy: 0.9350\n",
      "Epoch 13/20\n",
      "213/213 [==============================] - 0s 2ms/step - loss: 0.7139 - accuracy: 0.9344 - val_loss: 0.7189 - val_accuracy: 0.9329\n",
      "Epoch 14/20\n",
      "213/213 [==============================] - 1s 3ms/step - loss: 0.6777 - accuracy: 0.9347 - val_loss: 0.6447 - val_accuracy: 0.9409\n",
      "Epoch 15/20\n",
      "213/213 [==============================] - 1s 2ms/step - loss: 0.6494 - accuracy: 0.9323 - val_loss: 0.7105 - val_accuracy: 0.9362\n",
      "Epoch 16/20\n",
      "213/213 [==============================] - 1s 3ms/step - loss: 0.6275 - accuracy: 0.9373 - val_loss: 0.5783 - val_accuracy: 0.9373\n",
      "Epoch 17/20\n",
      "213/213 [==============================] - 0s 2ms/step - loss: 0.6030 - accuracy: 0.9373 - val_loss: 0.6217 - val_accuracy: 0.9391\n",
      "Epoch 18/20\n",
      "213/213 [==============================] - 1s 2ms/step - loss: 0.5906 - accuracy: 0.9376 - val_loss: 0.5924 - val_accuracy: 0.9338\n",
      "Epoch 19/20\n",
      "213/213 [==============================] - 0s 2ms/step - loss: 0.5651 - accuracy: 0.9359 - val_loss: 0.5496 - val_accuracy: 0.9406\n",
      "Epoch 20/20\n",
      "213/213 [==============================] - 0s 2ms/step - loss: 0.5700 - accuracy: 0.9362 - val_loss: 0.5578 - val_accuracy: 0.9385\n"
     ]
    }
   ],
   "source": [
    "#nb_epoch = 100\n",
    "nb_epoch = 20\n",
    "batch_size = 16\n",
    "autoencoder.compile(optimizer='Adam', \n",
    "                    loss='mean_squared_error',\n",
    "                    metrics=['accuracy'])\n",
    "checkpointer = ModelCheckpoint(filepath=\"model.h5\",\n",
    "                               verbose=0,\n",
    "                               save_best_only=True)\n",
    "tensorboard = TensorBoard(log_dir='/logs',\n",
    "                          histogram_freq=0,\n",
    "                          write_graph=True,\n",
    "                          write_images=True)\n",
    "history = autoencoder.fit(x_train_noisy,x_train,\n",
    "                    epochs=nb_epoch,\n",
    "                    batch_size=batch_size,\n",
    "                    shuffle=True,\n",
    "                    validation_data = (x_train_noisy, x_train),\n",
    "                    verbose=1,\n",
    "                    callbacks=[checkpointer, tensorboard]).history"
   ]
  },
  {
   "cell_type": "code",
   "execution_count": 37,
   "id": "7aa744d3",
   "metadata": {},
   "outputs": [
    {
     "data": {
      "image/png": "[encoded data removed]",
      "text/plain": [
       "<Figure size 640x480 with 1 Axes>"
      ]
     },
     "metadata": {},
     "output_type": "display_data"
    }
   ],
   "source": [
    "plt.plot(history['loss'])\n",
    "plt.plot(history['val_loss'])\n",
    "plt.title('model loss')\n",
    "plt.ylabel('loss')\n",
    "plt.xlabel('epoch')\n",
    "plt.legend(['train', 'test'], loc='upper right');"
   ]
  },
  {
   "cell_type": "code",
   "execution_count": 39,
   "id": "9506e048",
   "metadata": {},
   "outputs": [
    {
     "name": "stdout",
     "output_type": "stream",
     "text": [
      "71/71 [==============================] - 0s 941us/step\n"
     ]
    },
    {
     "data": {
      "text/html": [
       "<div>\n",
       "<style scoped>\n",
       "    .dataframe tbody tr th:only-of-type {\n",
       "        vertical-align: middle;\n",
       "    }\n",
       "\n",
       "    .dataframe tbody tr th {\n",
       "        vertical-align: top;\n",
       "    }\n",
       "\n",
       "    .dataframe thead th {\n",
       "        text-align: right;\n",
       "    }\n",
       "</style>\n",
       "<table border=\"1\" class=\"dataframe\">\n",
       "  <thead>\n",
       "    <tr style=\"text-align: right;\">\n",
       "      <th></th>\n",
       "      <th>reconstruction_error</th>\n",
       "      <th>true_class</th>\n",
       "    </tr>\n",
       "  </thead>\n",
       "  <tbody>\n",
       "    <tr>\n",
       "      <th>count</th>\n",
       "      <td>2250.000000</td>\n",
       "      <td>2250.000000</td>\n",
       "    </tr>\n",
       "    <tr>\n",
       "      <th>mean</th>\n",
       "      <td>4.500636</td>\n",
       "      <td>0.511111</td>\n",
       "    </tr>\n",
       "    <tr>\n",
       "      <th>std</th>\n",
       "      <td>6.862679</td>\n",
       "      <td>0.499988</td>\n",
       "    </tr>\n",
       "    <tr>\n",
       "      <th>min</th>\n",
       "      <td>0.002030</td>\n",
       "      <td>0.000000</td>\n",
       "    </tr>\n",
       "    <tr>\n",
       "      <th>25%</th>\n",
       "      <td>0.173935</td>\n",
       "      <td>0.000000</td>\n",
       "    </tr>\n",
       "    <tr>\n",
       "      <th>50%</th>\n",
       "      <td>0.414918</td>\n",
       "      <td>1.000000</td>\n",
       "    </tr>\n",
       "    <tr>\n",
       "      <th>75%</th>\n",
       "      <td>14.009166</td>\n",
       "      <td>1.000000</td>\n",
       "    </tr>\n",
       "    <tr>\n",
       "      <th>max</th>\n",
       "      <td>67.325278</td>\n",
       "      <td>1.000000</td>\n",
       "    </tr>\n",
       "  </tbody>\n",
       "</table>\n",
       "</div>"
      ],
      "text/plain": [
       "       reconstruction_error   true_class\n",
       "count           2250.000000  2250.000000\n",
       "mean               4.500636     0.511111\n",
       "std                6.862679     0.499988\n",
       "min                0.002030     0.000000\n",
       "25%                0.173935     0.000000\n",
       "50%                0.414918     1.000000\n",
       "75%               14.009166     1.000000\n",
       "max               67.325278     1.000000"
      ]
     },
     "execution_count": 39,
     "metadata": {},
     "output_type": "execute_result"
    }
   ],
   "source": [
    "predictions = autoencoder.predict(x_test_noisy)\n",
    "mse = np.mean(np.power(X_test - predictions, 2), axis=1)\n",
    "error_df = pd.DataFrame({'reconstruction_error': mse,\n",
    "                        'true_class': y_test})\n",
    "error_df.describe()"
   ]
  },
  {
   "cell_type": "code",
   "execution_count": 41,
   "id": "2faf06bc",
   "metadata": {},
   "outputs": [
    {
     "data": {
      "text/plain": [
       "true_class\n",
       "1    1150\n",
       "0    1100\n",
       "Name: count, dtype: int64"
      ]
     },
     "execution_count": 41,
     "metadata": {},
     "output_type": "execute_result"
    }
   ],
   "source": [
    "error_df.true_class.value_counts()"
   ]
  },
  {
   "cell_type": "code",
   "execution_count": 42,
   "id": "7afeb5c2",
   "metadata": {},
   "outputs": [],
   "source": [
    "from sklearn.metrics import (confusion_matrix, precision_recall_curve, auc,\n",
    "                             roc_curve, recall_score, classification_report, f1_score,\n",
    "                             precision_recall_fscore_support)"
   ]
  },
  {
   "cell_type": "code",
   "execution_count": 43,
   "id": "61ba15a3",
   "metadata": {},
   "outputs": [
    {
     "data": {
      "image/png": "[encoded data removed]",
      "text/plain": [
       "<Figure size 640x480 with 1 Axes>"
      ]
     },
     "metadata": {},
     "output_type": "display_data"
    }
   ],
   "source": [
    "fpr, tpr, thresholds = roc_curve(error_df.true_class, error_df.reconstruction_error)\n",
    "roc_auc = auc(fpr, tpr)\n",
    "\n",
    "plt.title('Receiver Operating Characteristic')\n",
    "plt.plot(fpr, tpr, label='AUC = %0.4f'% roc_auc)\n",
    "plt.legend(loc='lower right')\n",
    "plt.plot([0,1],[0,1],'r--')\n",
    "plt.xlim([-0.001, 1])\n",
    "plt.ylim([0, 1.001])\n",
    "plt.ylabel('True Positive Rate')\n",
    "plt.xlabel('False Positive Rate')\n",
    "plt.show();"
   ]
  },
  {
   "cell_type": "code",
   "execution_count": 49,
   "id": "fee89864",
   "metadata": {},
   "outputs": [
    {
     "data": {
      "image/png": "[encoded data removed]",
      "text/plain": [
       "<Figure size 1200x1200 with 2 Axes>"
      ]
     },
     "metadata": {},
     "output_type": "display_data"
    }
   ],
   "source": [
    "#평가관련\n",
    "from sklearn.metrics import confusion_matrix,classification_report,accuracy_score\n",
    "import seaborn as sns\n",
    "\n",
    "LABELS = [\"Normal\", \"AbNormal\"]\n",
    "threshold = 1\n",
    "\n",
    "\n",
    "y_pred = [0 if e > threshold else 1 for e in error_df.reconstruction_error.values]\n",
    "\n",
    "conf_matrix = confusion_matrix(error_df.true_class, y_pred)\n",
    "\n",
    "plt.figure(figsize=(12, 12))\n",
    "\n",
    "sns.heatmap(conf_matrix, xticklabels=LABELS, yticklabels=LABELS, annot=True, fmt=\"d\");\n",
    "\n",
    "plt.title(\"Confusion matrix\")\n",
    "\n",
    "plt.ylabel('True class')\n",
    "\n",
    "plt.xlabel('Predicted class')\n",
    "\n",
    "plt.show()"
   ]
  },
  {
   "cell_type": "code",
   "execution_count": 50,
   "id": "cb9f1dab",
   "metadata": {},
   "outputs": [
    {
     "name": "stdout",
     "output_type": "stream",
     "text": [
      "Accuracy Score : 0.28444444444444444\n",
      "Precision : 0.351228978007762\n",
      "Recall : 0.4721739130434783\n",
      "F1 : 0.40281899109792285\n"
     ]
    }
   ],
   "source": [
    "from sklearn.metrics import precision_recall_fscore_support\n",
    "\n",
    "from sklearn.metrics import accuracy_score\n",
    "\n",
    "precision, recall, f1,_ = precision_recall_fscore_support(y_test,y_pred,average='binary')\n",
    "\n",
    "print ('Accuracy Score :',accuracy_score(error_df.true_class, y_pred) )\n",
    "\n",
    "print ('Precision :',precision )\n",
    "\n",
    "print ('Recall :',recall )\n",
    "\n",
    "print ('F1 :',f1 )"
   ]
  },
  {
   "cell_type": "markdown",
   "id": "309a194c",
   "metadata": {},
   "source": [
    "# 재구성 오차(Reconstruction error) 기반, 이상 감지 모델 결과 시각화"
   ]
  },
  {
   "cell_type": "code",
   "execution_count": 45,
   "id": "0eb5f88d",
   "metadata": {},
   "outputs": [
    {
     "data": {
      "image/png": "[encoded data removed]",
      "text/plain": [
       "<Figure size 640x480 with 1 Axes>"
      ]
     },
     "metadata": {},
     "output_type": "display_data"
    }
   ],
   "source": [
    "threshold = 3 # 임계값(Threshold 설정)\n",
    "\n",
    "groups = error_df.groupby('true_class') # True_class에 따른 data group화\n",
    "\n",
    "fig, ax = plt.subplots() # Graph 생성\n",
    "\n",
    "# 각 Group에 대한 재구성 오차 플로팅\n",
    "for name, group in groups:\n",
    "    ax.plot(group.index, group.reconstruction_error, marker='o', ms=3.5, linestyle='',\n",
    "            label= \"Fraud\" if name == 1 else \"Normal\")\n",
    "# 임계값을 Red line으로 설정\n",
    "ax.hlines(threshold, ax.get_xlim()[0], ax.get_xlim()[1], colors=\"r\", zorder=100, label='Threshold')\n",
    "ax.legend()\n",
    "\n",
    "# Graph title & Label 설정\n",
    "plt.title(\"Reconstruction error for different classes\")\n",
    "plt.ylabel(\"Reconstruction error\")\n",
    "plt.xlabel(\"Data point index\")\n",
    "plt.show();"
   ]
  },
  {
   "cell_type": "code",
   "execution_count": null,
   "id": "9ae59cc9",
   "metadata": {},
   "outputs": [],
   "source": []
  }
 ],
 "metadata": {
  "kernelspec": {
   "display_name": "Python 3 (ipykernel)",
   "language": "python",
   "name": "python3"
  },
  "language_info": {
   "codemirror_mode": {
    "name": "ipython",
    "version": 3
   },
   "file_extension": ".py",
   "mimetype": "text/x-python",
   "name": "python",
   "nbconvert_exporter": "python",
   "pygments_lexer": "ipython3",
   "version": "3.11.4"
  }
 },
 "nbformat": 4,
 "nbformat_minor": 5
}
