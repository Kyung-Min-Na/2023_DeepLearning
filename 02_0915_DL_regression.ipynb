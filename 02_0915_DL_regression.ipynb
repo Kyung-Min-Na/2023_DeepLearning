{
 "cells": [
  {
   "cell_type": "code",
   "execution_count": 27,
   "id": "93df4650",
   "metadata": {},
   "outputs": [],
   "source": [
    "import pandas as pd\n",
    "import matplotlib.pyplot as plt\n",
    "import numpy as np\n",
    "import pandas as pd\n",
    "import seaborn as sns\n",
    "import tensorflow as tf\n",
    "\n",
    "from sklearn.model_selection import train_test_split\n",
    "from sklearn import metrics\n",
    "from tensorflow import keras\n",
    "from sklearn.preprocessing import LabelEncoder\n",
    "from keras.models import Sequential\n",
    "from keras.layers import Dense\n",
    "from keras.optimizers import SGD,Adam"
   ]
  },
  {
   "cell_type": "code",
   "execution_count": 14,
   "id": "52a36c1b",
   "metadata": {},
   "outputs": [
    {
     "data": {
      "text/html": [
       "<div>\n",
       "<style scoped>\n",
       "    .dataframe tbody tr th:only-of-type {\n",
       "        vertical-align: middle;\n",
       "    }\n",
       "\n",
       "    .dataframe tbody tr th {\n",
       "        vertical-align: top;\n",
       "    }\n",
       "\n",
       "    .dataframe thead th {\n",
       "        text-align: right;\n",
       "    }\n",
       "</style>\n",
       "<table border=\"1\" class=\"dataframe\">\n",
       "  <thead>\n",
       "    <tr style=\"text-align: right;\">\n",
       "      <th></th>\n",
       "      <th>buying</th>\n",
       "      <th>maint</th>\n",
       "      <th>doors</th>\n",
       "      <th>persons</th>\n",
       "      <th>lug_boot</th>\n",
       "      <th>safety</th>\n",
       "      <th>class</th>\n",
       "    </tr>\n",
       "  </thead>\n",
       "  <tbody>\n",
       "    <tr>\n",
       "      <th>0</th>\n",
       "      <td>vhigh</td>\n",
       "      <td>vhigh</td>\n",
       "      <td>2</td>\n",
       "      <td>2</td>\n",
       "      <td>small</td>\n",
       "      <td>low</td>\n",
       "      <td>unacc</td>\n",
       "    </tr>\n",
       "    <tr>\n",
       "      <th>1</th>\n",
       "      <td>vhigh</td>\n",
       "      <td>vhigh</td>\n",
       "      <td>2</td>\n",
       "      <td>2</td>\n",
       "      <td>small</td>\n",
       "      <td>med</td>\n",
       "      <td>unacc</td>\n",
       "    </tr>\n",
       "    <tr>\n",
       "      <th>2</th>\n",
       "      <td>vhigh</td>\n",
       "      <td>vhigh</td>\n",
       "      <td>2</td>\n",
       "      <td>2</td>\n",
       "      <td>small</td>\n",
       "      <td>high</td>\n",
       "      <td>unacc</td>\n",
       "    </tr>\n",
       "    <tr>\n",
       "      <th>3</th>\n",
       "      <td>vhigh</td>\n",
       "      <td>vhigh</td>\n",
       "      <td>2</td>\n",
       "      <td>2</td>\n",
       "      <td>med</td>\n",
       "      <td>low</td>\n",
       "      <td>unacc</td>\n",
       "    </tr>\n",
       "    <tr>\n",
       "      <th>4</th>\n",
       "      <td>vhigh</td>\n",
       "      <td>vhigh</td>\n",
       "      <td>2</td>\n",
       "      <td>2</td>\n",
       "      <td>med</td>\n",
       "      <td>med</td>\n",
       "      <td>unacc</td>\n",
       "    </tr>\n",
       "    <tr>\n",
       "      <th>...</th>\n",
       "      <td>...</td>\n",
       "      <td>...</td>\n",
       "      <td>...</td>\n",
       "      <td>...</td>\n",
       "      <td>...</td>\n",
       "      <td>...</td>\n",
       "      <td>...</td>\n",
       "    </tr>\n",
       "    <tr>\n",
       "      <th>1723</th>\n",
       "      <td>low</td>\n",
       "      <td>low</td>\n",
       "      <td>5more</td>\n",
       "      <td>more</td>\n",
       "      <td>med</td>\n",
       "      <td>med</td>\n",
       "      <td>good</td>\n",
       "    </tr>\n",
       "    <tr>\n",
       "      <th>1724</th>\n",
       "      <td>low</td>\n",
       "      <td>low</td>\n",
       "      <td>5more</td>\n",
       "      <td>more</td>\n",
       "      <td>med</td>\n",
       "      <td>high</td>\n",
       "      <td>vgood</td>\n",
       "    </tr>\n",
       "    <tr>\n",
       "      <th>1725</th>\n",
       "      <td>low</td>\n",
       "      <td>low</td>\n",
       "      <td>5more</td>\n",
       "      <td>more</td>\n",
       "      <td>big</td>\n",
       "      <td>low</td>\n",
       "      <td>unacc</td>\n",
       "    </tr>\n",
       "    <tr>\n",
       "      <th>1726</th>\n",
       "      <td>low</td>\n",
       "      <td>low</td>\n",
       "      <td>5more</td>\n",
       "      <td>more</td>\n",
       "      <td>big</td>\n",
       "      <td>med</td>\n",
       "      <td>good</td>\n",
       "    </tr>\n",
       "    <tr>\n",
       "      <th>1727</th>\n",
       "      <td>low</td>\n",
       "      <td>low</td>\n",
       "      <td>5more</td>\n",
       "      <td>more</td>\n",
       "      <td>big</td>\n",
       "      <td>high</td>\n",
       "      <td>vgood</td>\n",
       "    </tr>\n",
       "  </tbody>\n",
       "</table>\n",
       "<p>1728 rows × 7 columns</p>\n",
       "</div>"
      ],
      "text/plain": [
       "     buying  maint  doors persons lug_boot safety  class\n",
       "0     vhigh  vhigh      2       2    small    low  unacc\n",
       "1     vhigh  vhigh      2       2    small    med  unacc\n",
       "2     vhigh  vhigh      2       2    small   high  unacc\n",
       "3     vhigh  vhigh      2       2      med    low  unacc\n",
       "4     vhigh  vhigh      2       2      med    med  unacc\n",
       "...     ...    ...    ...     ...      ...    ...    ...\n",
       "1723    low    low  5more    more      med    med   good\n",
       "1724    low    low  5more    more      med   high  vgood\n",
       "1725    low    low  5more    more      big    low  unacc\n",
       "1726    low    low  5more    more      big    med   good\n",
       "1727    low    low  5more    more      big   high  vgood\n",
       "\n",
       "[1728 rows x 7 columns]"
      ]
     },
     "execution_count": 14,
     "metadata": {},
     "output_type": "execute_result"
    }
   ],
   "source": [
    "data = pd.read_csv(\"../Dataset/car_evaluation/car.data\", header=None)\n",
    "data.columns = [\"buying\", \"maint\", \"doors\", \"persons\", \"lug_boot\", \"safety\", \"class\"]\n",
    "data"
   ]
  },
  {
   "cell_type": "code",
   "execution_count": 15,
   "id": "923d3f80",
   "metadata": {},
   "outputs": [
    {
     "data": {
      "text/plain": [
       "pandas.core.frame.DataFrame"
      ]
     },
     "execution_count": 15,
     "metadata": {},
     "output_type": "execute_result"
    }
   ],
   "source": [
    "type(data)"
   ]
  },
  {
   "cell_type": "code",
   "execution_count": 16,
   "id": "2ecad347",
   "metadata": {},
   "outputs": [
    {
     "data": {
      "text/plain": [
       "buying      0\n",
       "maint       0\n",
       "doors       0\n",
       "persons     0\n",
       "lug_boot    0\n",
       "safety      0\n",
       "class       0\n",
       "dtype: int64"
      ]
     },
     "execution_count": 16,
     "metadata": {},
     "output_type": "execute_result"
    }
   ],
   "source": [
    "data.isnull().sum()"
   ]
  },
  {
   "cell_type": "code",
   "execution_count": 17,
   "id": "36444617",
   "metadata": {},
   "outputs": [
    {
     "data": {
      "text/plain": [
       "Index(['buying', 'maint', 'doors', 'persons', 'lug_boot', 'safety', 'class'], dtype='object')"
      ]
     },
     "execution_count": 17,
     "metadata": {},
     "output_type": "execute_result"
    }
   ],
   "source": [
    "data.columns"
   ]
  },
  {
   "cell_type": "markdown",
   "id": "3565e831",
   "metadata": {},
   "source": [
    "# 인코딩"
   ]
  },
  {
   "cell_type": "code",
   "execution_count": 20,
   "id": "25bd66a2",
   "metadata": {},
   "outputs": [
    {
     "data": {
      "text/html": [
       "<div>\n",
       "<style scoped>\n",
       "    .dataframe tbody tr th:only-of-type {\n",
       "        vertical-align: middle;\n",
       "    }\n",
       "\n",
       "    .dataframe tbody tr th {\n",
       "        vertical-align: top;\n",
       "    }\n",
       "\n",
       "    .dataframe thead th {\n",
       "        text-align: right;\n",
       "    }\n",
       "</style>\n",
       "<table border=\"1\" class=\"dataframe\">\n",
       "  <thead>\n",
       "    <tr style=\"text-align: right;\">\n",
       "      <th></th>\n",
       "      <th>buying</th>\n",
       "      <th>maint</th>\n",
       "      <th>doors</th>\n",
       "      <th>persons</th>\n",
       "      <th>lug_boot</th>\n",
       "      <th>safety</th>\n",
       "      <th>class</th>\n",
       "    </tr>\n",
       "  </thead>\n",
       "  <tbody>\n",
       "    <tr>\n",
       "      <th>0</th>\n",
       "      <td>3</td>\n",
       "      <td>3</td>\n",
       "      <td>0</td>\n",
       "      <td>0</td>\n",
       "      <td>2</td>\n",
       "      <td>1</td>\n",
       "      <td>2</td>\n",
       "    </tr>\n",
       "    <tr>\n",
       "      <th>1</th>\n",
       "      <td>3</td>\n",
       "      <td>3</td>\n",
       "      <td>0</td>\n",
       "      <td>0</td>\n",
       "      <td>2</td>\n",
       "      <td>2</td>\n",
       "      <td>2</td>\n",
       "    </tr>\n",
       "    <tr>\n",
       "      <th>2</th>\n",
       "      <td>3</td>\n",
       "      <td>3</td>\n",
       "      <td>0</td>\n",
       "      <td>0</td>\n",
       "      <td>2</td>\n",
       "      <td>0</td>\n",
       "      <td>2</td>\n",
       "    </tr>\n",
       "    <tr>\n",
       "      <th>3</th>\n",
       "      <td>3</td>\n",
       "      <td>3</td>\n",
       "      <td>0</td>\n",
       "      <td>0</td>\n",
       "      <td>1</td>\n",
       "      <td>1</td>\n",
       "      <td>2</td>\n",
       "    </tr>\n",
       "    <tr>\n",
       "      <th>4</th>\n",
       "      <td>3</td>\n",
       "      <td>3</td>\n",
       "      <td>0</td>\n",
       "      <td>0</td>\n",
       "      <td>1</td>\n",
       "      <td>2</td>\n",
       "      <td>2</td>\n",
       "    </tr>\n",
       "  </tbody>\n",
       "</table>\n",
       "</div>"
      ],
      "text/plain": [
       "   buying  maint  doors  persons  lug_boot  safety  class\n",
       "0       3      3      0        0         2       1      2\n",
       "1       3      3      0        0         2       2      2\n",
       "2       3      3      0        0         2       0      2\n",
       "3       3      3      0        0         1       1      2\n",
       "4       3      3      0        0         1       2      2"
      ]
     },
     "execution_count": 20,
     "metadata": {},
     "output_type": "execute_result"
    }
   ],
   "source": [
    "le = LabelEncoder()\n",
    "\n",
    "for i in data.columns:\n",
    "    data[i]=le.fit_transform(data[i])\n",
    "\n",
    "data.head()"
   ]
  },
  {
   "cell_type": "code",
   "execution_count": 22,
   "id": "543a3ac8",
   "metadata": {},
   "outputs": [],
   "source": [
    "X = data.iloc[:,0:6].values\n",
    "y = data.iloc[:, 6].values\n",
    "\n",
    "encoder = LabelEncoder()\n",
    "y1 = encoder.fit_transform(y)\n",
    "\n",
    "Y = pd.get_dummies(y).values\n",
    "\n",
    "from sklearn.model_selection import train_test_split\n",
    "X_train, X_test, y_train, y_test = train_test_split(X, Y, test_size=0.2, \n",
    "                                                    random_state=0)"
   ]
  },
  {
   "cell_type": "code",
   "execution_count": 23,
   "id": "c5a16652",
   "metadata": {},
   "outputs": [
    {
     "data": {
      "text/plain": [
       "array([[3, 3, 0, 0, 2, 1],\n",
       "       [3, 3, 0, 0, 2, 2],\n",
       "       [3, 3, 0, 0, 2, 0],\n",
       "       ...,\n",
       "       [1, 1, 3, 2, 0, 1],\n",
       "       [1, 1, 3, 2, 0, 2],\n",
       "       [1, 1, 3, 2, 0, 0]], dtype=int64)"
      ]
     },
     "execution_count": 23,
     "metadata": {},
     "output_type": "execute_result"
    }
   ],
   "source": [
    "X"
   ]
  },
  {
   "cell_type": "code",
   "execution_count": 24,
   "id": "fe140e7e",
   "metadata": {},
   "outputs": [
    {
     "data": {
      "text/plain": [
       "array([[False, False,  True, False],\n",
       "       [False, False,  True, False],\n",
       "       [False, False,  True, False],\n",
       "       ...,\n",
       "       [False, False,  True, False],\n",
       "       [False,  True, False, False],\n",
       "       [False, False, False,  True]])"
      ]
     },
     "execution_count": 24,
     "metadata": {},
     "output_type": "execute_result"
    }
   ],
   "source": [
    "Y"
   ]
  },
  {
   "cell_type": "code",
   "execution_count": 25,
   "id": "cef80b22",
   "metadata": {},
   "outputs": [
    {
     "data": {
      "text/plain": [
       "(1728, 6)"
      ]
     },
     "execution_count": 25,
     "metadata": {},
     "output_type": "execute_result"
    }
   ],
   "source": [
    "X.shape"
   ]
  },
  {
   "cell_type": "code",
   "execution_count": 26,
   "id": "c2d66d03",
   "metadata": {},
   "outputs": [
    {
     "data": {
      "text/plain": [
       "(1728, 4)"
      ]
     },
     "execution_count": 26,
     "metadata": {},
     "output_type": "execute_result"
    }
   ],
   "source": [
    "Y.shape"
   ]
  },
  {
   "cell_type": "code",
   "execution_count": 28,
   "id": "89a60f2d",
   "metadata": {},
   "outputs": [
    {
     "name": "stderr",
     "output_type": "stream",
     "text": [
      "WARNING:absl:`lr` is deprecated in Keras optimizer, please use `learning_rate` or use the legacy optimizer, e.g.,tf.keras.optimizers.legacy.Adam.\n"
     ]
    },
    {
     "name": "stdout",
     "output_type": "stream",
     "text": [
      "Model: \"sequential\"\n",
      "_________________________________________________________________\n",
      " Layer (type)                Output Shape              Param #   \n",
      "=================================================================\n",
      " dense (Dense)               (None, 6)                 42        \n",
      "                                                                 \n",
      " dense_1 (Dense)             (None, 6)                 42        \n",
      "                                                                 \n",
      " dense_2 (Dense)             (None, 6)                 42        \n",
      "                                                                 \n",
      " dense_3 (Dense)             (None, 4)                 28        \n",
      "                                                                 \n",
      "=================================================================\n",
      "Total params: 154 (616.00 Byte)\n",
      "Trainable params: 154 (616.00 Byte)\n",
      "Non-trainable params: 0 (0.00 Byte)\n",
      "_________________________________________________________________\n"
     ]
    }
   ],
   "source": [
    "model = Sequential()\n",
    "\n",
    "model.add(Dense(6,input_shape=(6,),activation='relu'))\n",
    "model.add(Dense(6,activation='relu'))\n",
    "model.add(Dense(6,activation='relu'))\n",
    "model.add(Dense(4,activation='sigmoid'))\n",
    "\n",
    "model.compile(Adam(lr=0.02),'categorical_crossentropy',metrics=['accuracy'])\n",
    "\n",
    "model.summary()"
   ]
  },
  {
   "cell_type": "code",
   "execution_count": 29,
   "id": "8edd55c6",
   "metadata": {},
   "outputs": [
    {
     "name": "stdout",
     "output_type": "stream",
     "text": [
      "Epoch 1/100\n",
      "44/44 [==============================] - 1s 5ms/step - loss: 1.1781 - accuracy: 0.4537 - val_loss: 1.0209 - val_accuracy: 0.6879\n",
      "Epoch 2/100\n",
      "44/44 [==============================] - 0s 2ms/step - loss: 0.9299 - accuracy: 0.6954 - val_loss: 0.8915 - val_accuracy: 0.6936\n",
      "Epoch 3/100\n",
      "44/44 [==============================] - 0s 2ms/step - loss: 0.8416 - accuracy: 0.7019 - val_loss: 0.8407 - val_accuracy: 0.6936\n",
      "Epoch 4/100\n",
      "44/44 [==============================] - 0s 2ms/step - loss: 0.8041 - accuracy: 0.7019 - val_loss: 0.8241 - val_accuracy: 0.6936\n",
      "Epoch 5/100\n",
      "44/44 [==============================] - 0s 2ms/step - loss: 0.7856 - accuracy: 0.7019 - val_loss: 0.8109 - val_accuracy: 0.6936\n",
      "Epoch 6/100\n",
      "44/44 [==============================] - 0s 2ms/step - loss: 0.7700 - accuracy: 0.7019 - val_loss: 0.7978 - val_accuracy: 0.6936\n",
      "Epoch 7/100\n",
      "44/44 [==============================] - 0s 2ms/step - loss: 0.7531 - accuracy: 0.7019 - val_loss: 0.7844 - val_accuracy: 0.6936\n",
      "Epoch 8/100\n",
      "44/44 [==============================] - 0s 2ms/step - loss: 0.7381 - accuracy: 0.7019 - val_loss: 0.7713 - val_accuracy: 0.6936\n",
      "Epoch 9/100\n",
      "44/44 [==============================] - 0s 2ms/step - loss: 0.7216 - accuracy: 0.7019 - val_loss: 0.7532 - val_accuracy: 0.7052\n",
      "Epoch 10/100\n",
      "44/44 [==============================] - 0s 2ms/step - loss: 0.7095 - accuracy: 0.7019 - val_loss: 0.7439 - val_accuracy: 0.7023\n",
      "Epoch 11/100\n",
      "44/44 [==============================] - 0s 2ms/step - loss: 0.6995 - accuracy: 0.7048 - val_loss: 0.7301 - val_accuracy: 0.6994\n",
      "Epoch 12/100\n",
      "44/44 [==============================] - 0s 2ms/step - loss: 0.6887 - accuracy: 0.7178 - val_loss: 0.7216 - val_accuracy: 0.6936\n",
      "Epoch 13/100\n",
      "44/44 [==============================] - 0s 2ms/step - loss: 0.6802 - accuracy: 0.7250 - val_loss: 0.7123 - val_accuracy: 0.7052\n",
      "Epoch 14/100\n",
      "44/44 [==============================] - 0s 2ms/step - loss: 0.6728 - accuracy: 0.7265 - val_loss: 0.7022 - val_accuracy: 0.7081\n",
      "Epoch 15/100\n",
      "44/44 [==============================] - 0s 2ms/step - loss: 0.6646 - accuracy: 0.7315 - val_loss: 0.6929 - val_accuracy: 0.7081\n",
      "Epoch 16/100\n",
      "44/44 [==============================] - 0s 2ms/step - loss: 0.6571 - accuracy: 0.7330 - val_loss: 0.6831 - val_accuracy: 0.7081\n",
      "Epoch 17/100\n",
      "44/44 [==============================] - 0s 2ms/step - loss: 0.6490 - accuracy: 0.7352 - val_loss: 0.6780 - val_accuracy: 0.7081\n",
      "Epoch 18/100\n",
      "44/44 [==============================] - 0s 2ms/step - loss: 0.6413 - accuracy: 0.7373 - val_loss: 0.6667 - val_accuracy: 0.7023\n",
      "Epoch 19/100\n",
      "44/44 [==============================] - 0s 2ms/step - loss: 0.6331 - accuracy: 0.7438 - val_loss: 0.6606 - val_accuracy: 0.7197\n",
      "Epoch 20/100\n",
      "44/44 [==============================] - 0s 2ms/step - loss: 0.6247 - accuracy: 0.7453 - val_loss: 0.6476 - val_accuracy: 0.7139\n",
      "Epoch 21/100\n",
      "44/44 [==============================] - 0s 2ms/step - loss: 0.6176 - accuracy: 0.7489 - val_loss: 0.6429 - val_accuracy: 0.7225\n",
      "Epoch 22/100\n",
      "44/44 [==============================] - 0s 2ms/step - loss: 0.6099 - accuracy: 0.7533 - val_loss: 0.6328 - val_accuracy: 0.7341\n",
      "Epoch 23/100\n",
      "44/44 [==============================] - 0s 2ms/step - loss: 0.6048 - accuracy: 0.7605 - val_loss: 0.6252 - val_accuracy: 0.7341\n",
      "Epoch 24/100\n",
      "44/44 [==============================] - 0s 2ms/step - loss: 0.5954 - accuracy: 0.7598 - val_loss: 0.6192 - val_accuracy: 0.7312\n",
      "Epoch 25/100\n",
      "44/44 [==============================] - 0s 2ms/step - loss: 0.5880 - accuracy: 0.7605 - val_loss: 0.6135 - val_accuracy: 0.7312\n",
      "Epoch 26/100\n",
      "44/44 [==============================] - 0s 2ms/step - loss: 0.5818 - accuracy: 0.7641 - val_loss: 0.6085 - val_accuracy: 0.7341\n",
      "Epoch 27/100\n",
      "44/44 [==============================] - 0s 2ms/step - loss: 0.5738 - accuracy: 0.7670 - val_loss: 0.6041 - val_accuracy: 0.7341\n",
      "Epoch 28/100\n",
      "44/44 [==============================] - 0s 2ms/step - loss: 0.5665 - accuracy: 0.7677 - val_loss: 0.5920 - val_accuracy: 0.7457\n",
      "Epoch 29/100\n",
      "44/44 [==============================] - 0s 2ms/step - loss: 0.5608 - accuracy: 0.7742 - val_loss: 0.5877 - val_accuracy: 0.7370\n",
      "Epoch 30/100\n",
      "44/44 [==============================] - 0s 2ms/step - loss: 0.5548 - accuracy: 0.7750 - val_loss: 0.5806 - val_accuracy: 0.7399\n",
      "Epoch 31/100\n",
      "44/44 [==============================] - 0s 2ms/step - loss: 0.5489 - accuracy: 0.7757 - val_loss: 0.5794 - val_accuracy: 0.7428\n",
      "Epoch 32/100\n",
      "44/44 [==============================] - 0s 2ms/step - loss: 0.5436 - accuracy: 0.7706 - val_loss: 0.5763 - val_accuracy: 0.7428\n",
      "Epoch 33/100\n",
      "44/44 [==============================] - 0s 2ms/step - loss: 0.5383 - accuracy: 0.7793 - val_loss: 0.5639 - val_accuracy: 0.7486\n",
      "Epoch 34/100\n",
      "44/44 [==============================] - 0s 2ms/step - loss: 0.5325 - accuracy: 0.7764 - val_loss: 0.5575 - val_accuracy: 0.7572\n",
      "Epoch 35/100\n",
      "44/44 [==============================] - 0s 2ms/step - loss: 0.5276 - accuracy: 0.7779 - val_loss: 0.5532 - val_accuracy: 0.7572\n",
      "Epoch 36/100\n",
      "44/44 [==============================] - 0s 2ms/step - loss: 0.5246 - accuracy: 0.7800 - val_loss: 0.5484 - val_accuracy: 0.7572\n",
      "Epoch 37/100\n",
      "44/44 [==============================] - 0s 2ms/step - loss: 0.5164 - accuracy: 0.7836 - val_loss: 0.5486 - val_accuracy: 0.7514\n",
      "Epoch 38/100\n",
      "44/44 [==============================] - 0s 2ms/step - loss: 0.5123 - accuracy: 0.7829 - val_loss: 0.5401 - val_accuracy: 0.7543\n",
      "Epoch 39/100\n",
      "44/44 [==============================] - 0s 2ms/step - loss: 0.5065 - accuracy: 0.7836 - val_loss: 0.5344 - val_accuracy: 0.7688\n",
      "Epoch 40/100\n",
      "44/44 [==============================] - 0s 2ms/step - loss: 0.5011 - accuracy: 0.7873 - val_loss: 0.5315 - val_accuracy: 0.7630\n",
      "Epoch 41/100\n",
      "44/44 [==============================] - 0s 2ms/step - loss: 0.4951 - accuracy: 0.7815 - val_loss: 0.5247 - val_accuracy: 0.7746\n",
      "Epoch 42/100\n",
      "44/44 [==============================] - 0s 2ms/step - loss: 0.4900 - accuracy: 0.7887 - val_loss: 0.5260 - val_accuracy: 0.7630\n",
      "Epoch 43/100\n",
      "44/44 [==============================] - 0s 2ms/step - loss: 0.4839 - accuracy: 0.7865 - val_loss: 0.5183 - val_accuracy: 0.7717\n",
      "Epoch 44/100\n",
      "44/44 [==============================] - 0s 2ms/step - loss: 0.4779 - accuracy: 0.7880 - val_loss: 0.5114 - val_accuracy: 0.7832\n",
      "Epoch 45/100\n",
      "44/44 [==============================] - 0s 2ms/step - loss: 0.4709 - accuracy: 0.7931 - val_loss: 0.5093 - val_accuracy: 0.7717\n",
      "Epoch 46/100\n",
      "44/44 [==============================] - 0s 2ms/step - loss: 0.4666 - accuracy: 0.7923 - val_loss: 0.5046 - val_accuracy: 0.7746\n",
      "Epoch 47/100\n",
      "44/44 [==============================] - 0s 2ms/step - loss: 0.4590 - accuracy: 0.7938 - val_loss: 0.4929 - val_accuracy: 0.7948\n",
      "Epoch 48/100\n",
      "44/44 [==============================] - 0s 2ms/step - loss: 0.4525 - accuracy: 0.7967 - val_loss: 0.4964 - val_accuracy: 0.7746\n",
      "Epoch 49/100\n",
      "44/44 [==============================] - 0s 2ms/step - loss: 0.4465 - accuracy: 0.7974 - val_loss: 0.4884 - val_accuracy: 0.7775\n",
      "Epoch 50/100\n",
      "44/44 [==============================] - 0s 2ms/step - loss: 0.4394 - accuracy: 0.8025 - val_loss: 0.4770 - val_accuracy: 0.8006\n",
      "Epoch 51/100\n",
      "44/44 [==============================] - 0s 2ms/step - loss: 0.4341 - accuracy: 0.8046 - val_loss: 0.4754 - val_accuracy: 0.7861\n",
      "Epoch 52/100\n",
      "44/44 [==============================] - 0s 2ms/step - loss: 0.4291 - accuracy: 0.8075 - val_loss: 0.4688 - val_accuracy: 0.7948\n",
      "Epoch 53/100\n",
      "44/44 [==============================] - 0s 2ms/step - loss: 0.4223 - accuracy: 0.8075 - val_loss: 0.4629 - val_accuracy: 0.8035\n",
      "Epoch 54/100\n",
      "44/44 [==============================] - 0s 2ms/step - loss: 0.4153 - accuracy: 0.8140 - val_loss: 0.4620 - val_accuracy: 0.7832\n",
      "Epoch 55/100\n",
      "44/44 [==============================] - 0s 2ms/step - loss: 0.4106 - accuracy: 0.8104 - val_loss: 0.4524 - val_accuracy: 0.8006\n",
      "Epoch 56/100\n",
      "44/44 [==============================] - 0s 2ms/step - loss: 0.4038 - accuracy: 0.8169 - val_loss: 0.4426 - val_accuracy: 0.8006\n",
      "Epoch 57/100\n",
      "44/44 [==============================] - 0s 2ms/step - loss: 0.3978 - accuracy: 0.8234 - val_loss: 0.4416 - val_accuracy: 0.7948\n",
      "Epoch 58/100\n",
      "44/44 [==============================] - 0s 2ms/step - loss: 0.3924 - accuracy: 0.8271 - val_loss: 0.4359 - val_accuracy: 0.7977\n"
     ]
    },
    {
     "name": "stdout",
     "output_type": "stream",
     "text": [
      "Epoch 59/100\n",
      "44/44 [==============================] - 0s 2ms/step - loss: 0.3896 - accuracy: 0.8278 - val_loss: 0.4275 - val_accuracy: 0.8064\n",
      "Epoch 60/100\n",
      "44/44 [==============================] - 0s 2ms/step - loss: 0.3831 - accuracy: 0.8263 - val_loss: 0.4245 - val_accuracy: 0.8150\n",
      "Epoch 61/100\n",
      "44/44 [==============================] - 0s 2ms/step - loss: 0.3787 - accuracy: 0.8292 - val_loss: 0.4276 - val_accuracy: 0.7948\n",
      "Epoch 62/100\n",
      "44/44 [==============================] - 0s 2ms/step - loss: 0.3761 - accuracy: 0.8307 - val_loss: 0.4138 - val_accuracy: 0.8035\n",
      "Epoch 63/100\n",
      "44/44 [==============================] - 0s 2ms/step - loss: 0.3694 - accuracy: 0.8336 - val_loss: 0.4095 - val_accuracy: 0.8121\n",
      "Epoch 64/100\n",
      "44/44 [==============================] - 0s 2ms/step - loss: 0.3656 - accuracy: 0.8415 - val_loss: 0.4078 - val_accuracy: 0.8064\n",
      "Epoch 65/100\n",
      "44/44 [==============================] - 0s 2ms/step - loss: 0.3608 - accuracy: 0.8423 - val_loss: 0.4034 - val_accuracy: 0.8035\n",
      "Epoch 66/100\n",
      "44/44 [==============================] - 0s 2ms/step - loss: 0.3585 - accuracy: 0.8459 - val_loss: 0.3972 - val_accuracy: 0.8064\n",
      "Epoch 67/100\n",
      "44/44 [==============================] - 0s 2ms/step - loss: 0.3531 - accuracy: 0.8480 - val_loss: 0.3957 - val_accuracy: 0.8092\n",
      "Epoch 68/100\n",
      "44/44 [==============================] - 0s 2ms/step - loss: 0.3487 - accuracy: 0.8495 - val_loss: 0.3885 - val_accuracy: 0.8150\n",
      "Epoch 69/100\n",
      "44/44 [==============================] - 0s 2ms/step - loss: 0.3462 - accuracy: 0.8531 - val_loss: 0.3849 - val_accuracy: 0.8179\n",
      "Epoch 70/100\n",
      "44/44 [==============================] - 0s 2ms/step - loss: 0.3411 - accuracy: 0.8546 - val_loss: 0.3873 - val_accuracy: 0.8121\n",
      "Epoch 71/100\n",
      "44/44 [==============================] - 0s 2ms/step - loss: 0.3362 - accuracy: 0.8596 - val_loss: 0.3831 - val_accuracy: 0.8353\n",
      "Epoch 72/100\n",
      "44/44 [==============================] - 0s 2ms/step - loss: 0.3355 - accuracy: 0.8625 - val_loss: 0.3770 - val_accuracy: 0.8295\n",
      "Epoch 73/100\n",
      "44/44 [==============================] - 0s 2ms/step - loss: 0.3317 - accuracy: 0.8611 - val_loss: 0.3715 - val_accuracy: 0.8382\n",
      "Epoch 74/100\n",
      "44/44 [==============================] - 0s 2ms/step - loss: 0.3275 - accuracy: 0.8661 - val_loss: 0.3665 - val_accuracy: 0.8439\n",
      "Epoch 75/100\n",
      "44/44 [==============================] - 0s 2ms/step - loss: 0.3233 - accuracy: 0.8654 - val_loss: 0.3741 - val_accuracy: 0.8324\n",
      "Epoch 76/100\n",
      "44/44 [==============================] - 0s 2ms/step - loss: 0.3208 - accuracy: 0.8669 - val_loss: 0.3654 - val_accuracy: 0.8439\n",
      "Epoch 77/100\n",
      "44/44 [==============================] - 0s 2ms/step - loss: 0.3181 - accuracy: 0.8712 - val_loss: 0.3605 - val_accuracy: 0.8497\n",
      "Epoch 78/100\n",
      "44/44 [==============================] - 0s 2ms/step - loss: 0.3148 - accuracy: 0.8719 - val_loss: 0.3605 - val_accuracy: 0.8353\n",
      "Epoch 79/100\n",
      "44/44 [==============================] - 0s 2ms/step - loss: 0.3133 - accuracy: 0.8726 - val_loss: 0.3508 - val_accuracy: 0.8555\n",
      "Epoch 80/100\n",
      "44/44 [==============================] - 0s 2ms/step - loss: 0.3098 - accuracy: 0.8748 - val_loss: 0.3465 - val_accuracy: 0.8671\n",
      "Epoch 81/100\n",
      "44/44 [==============================] - 0s 2ms/step - loss: 0.3060 - accuracy: 0.8755 - val_loss: 0.3488 - val_accuracy: 0.8526\n",
      "Epoch 82/100\n",
      "44/44 [==============================] - 0s 2ms/step - loss: 0.3027 - accuracy: 0.8777 - val_loss: 0.3465 - val_accuracy: 0.8526\n",
      "Epoch 83/100\n",
      "44/44 [==============================] - 0s 2ms/step - loss: 0.3029 - accuracy: 0.8828 - val_loss: 0.3409 - val_accuracy: 0.8613\n",
      "Epoch 84/100\n",
      "44/44 [==============================] - 0s 2ms/step - loss: 0.2976 - accuracy: 0.8857 - val_loss: 0.3389 - val_accuracy: 0.8555\n",
      "Epoch 85/100\n",
      "44/44 [==============================] - 0s 2ms/step - loss: 0.2957 - accuracy: 0.8784 - val_loss: 0.3348 - val_accuracy: 0.8584\n",
      "Epoch 86/100\n",
      "44/44 [==============================] - 0s 2ms/step - loss: 0.2931 - accuracy: 0.8886 - val_loss: 0.3373 - val_accuracy: 0.8555\n",
      "Epoch 87/100\n",
      "44/44 [==============================] - 0s 2ms/step - loss: 0.2899 - accuracy: 0.8849 - val_loss: 0.3310 - val_accuracy: 0.8642\n",
      "Epoch 88/100\n",
      "44/44 [==============================] - 0s 2ms/step - loss: 0.2892 - accuracy: 0.8893 - val_loss: 0.3328 - val_accuracy: 0.8584\n",
      "Epoch 89/100\n",
      "44/44 [==============================] - 0s 2ms/step - loss: 0.2861 - accuracy: 0.8886 - val_loss: 0.3285 - val_accuracy: 0.8526\n",
      "Epoch 90/100\n",
      "44/44 [==============================] - 0s 2ms/step - loss: 0.2824 - accuracy: 0.8900 - val_loss: 0.3234 - val_accuracy: 0.8584\n",
      "Epoch 91/100\n",
      "44/44 [==============================] - 0s 2ms/step - loss: 0.2790 - accuracy: 0.8907 - val_loss: 0.3183 - val_accuracy: 0.8642\n",
      "Epoch 92/100\n",
      "44/44 [==============================] - 0s 2ms/step - loss: 0.2773 - accuracy: 0.8936 - val_loss: 0.3156 - val_accuracy: 0.8671\n",
      "Epoch 93/100\n",
      "44/44 [==============================] - 0s 2ms/step - loss: 0.2747 - accuracy: 0.8951 - val_loss: 0.3133 - val_accuracy: 0.8671\n",
      "Epoch 94/100\n",
      "44/44 [==============================] - 0s 2ms/step - loss: 0.2730 - accuracy: 0.8929 - val_loss: 0.3117 - val_accuracy: 0.8642\n",
      "Epoch 95/100\n",
      "44/44 [==============================] - 0s 2ms/step - loss: 0.2696 - accuracy: 0.8922 - val_loss: 0.3109 - val_accuracy: 0.8815\n",
      "Epoch 96/100\n",
      "44/44 [==============================] - 0s 2ms/step - loss: 0.2711 - accuracy: 0.8958 - val_loss: 0.3037 - val_accuracy: 0.8728\n",
      "Epoch 97/100\n",
      "44/44 [==============================] - 0s 2ms/step - loss: 0.2645 - accuracy: 0.9001 - val_loss: 0.3006 - val_accuracy: 0.8642\n",
      "Epoch 98/100\n",
      "44/44 [==============================] - 0s 2ms/step - loss: 0.2644 - accuracy: 0.8951 - val_loss: 0.2990 - val_accuracy: 0.8642\n",
      "Epoch 99/100\n",
      "44/44 [==============================] - 0s 2ms/step - loss: 0.2607 - accuracy: 0.9009 - val_loss: 0.2982 - val_accuracy: 0.8786\n",
      "Epoch 100/100\n",
      "44/44 [==============================] - 0s 2ms/step - loss: 0.2593 - accuracy: 0.8994 - val_loss: 0.2950 - val_accuracy: 0.8728\n",
      "11/11 [==============================] - 0s 798us/step\n"
     ]
    }
   ],
   "source": [
    "model_history=model.fit(x=X_train, y=y_train, epochs=100, batch_size=32,validation_data= (X_test,y_test))\n",
    "y_pred = model.predict(X_test)\n",
    "\n",
    "y_test_class = np.argmax(y_test,axis=1)\n",
    "y_pred_class = np.argmax(y_pred,axis=1)"
   ]
  },
  {
   "cell_type": "code",
   "execution_count": 30,
   "id": "07cc5e42",
   "metadata": {},
   "outputs": [
    {
     "data": {
      "image/png": "[encoded data removed]",
      "text/plain": [
       "<Figure size 640x480 with 1 Axes>"
      ]
     },
     "metadata": {},
     "output_type": "display_data"
    }
   ],
   "source": [
    "loss =model_history.history['loss']\n",
    "val_loss =model_history.history['val_loss']\n",
    "epochs = range(1, len(loss) + 1)\n",
    "plt.plot(epochs, loss, 'y', label='Training loss')\n",
    "plt.plot(epochs, val_loss, 'r', label='Validation loss')\n",
    "plt.title('Training and validation loss')\n",
    "plt.xlabel('Epochs')\n",
    "plt.ylabel('Loss')\n",
    "plt.legend()\n",
    "plt.show()"
   ]
  },
  {
   "cell_type": "code",
   "execution_count": 31,
   "id": "95a56872",
   "metadata": {},
   "outputs": [
    {
     "data": {
      "image/png": "[encoded data removed]",
      "text/plain": [
       "<Figure size 640x480 with 1 Axes>"
      ]
     },
     "metadata": {},
     "output_type": "display_data"
    }
   ],
   "source": [
    "acc =model_history.history['accuracy']\n",
    "val_acc =model_history.history['val_accuracy']\n",
    "plt.plot(epochs, acc, 'y', label='Training acc')\n",
    "plt.plot(epochs, val_acc, 'r', label='Validation acc')\n",
    "plt.title('Training and validation accuracy')\n",
    "plt.xlabel('Epochs')\n",
    "plt.ylabel('Accuracy')\n",
    "plt.legend()\n",
    "plt.show()"
   ]
  },
  {
   "cell_type": "code",
   "execution_count": 32,
   "id": "2866b183",
   "metadata": {},
   "outputs": [
    {
     "name": "stdout",
     "output_type": "stream",
     "text": [
      "              precision    recall  f1-score   support\n",
      "\n",
      "           0       0.72      0.82      0.77        79\n",
      "           1       0.00      0.00      0.00        17\n",
      "           2       0.95      0.96      0.95       240\n",
      "           3       0.50      0.70      0.58        10\n",
      "\n",
      "    accuracy                           0.87       346\n",
      "   macro avg       0.54      0.62      0.58       346\n",
      "weighted avg       0.84      0.87      0.85       346\n",
      "\n",
      "[[ 65   0  12   2]\n",
      " [ 13   0   0   4]\n",
      " [  9   0 230   1]\n",
      " [  3   0   0   7]]\n"
     ]
    },
    {
     "name": "stderr",
     "output_type": "stream",
     "text": [
      "C:\\Users\\nkm11\\anaconda3\\envs\\dr\\Lib\\site-packages\\sklearn\\metrics\\_classification.py:1469: UndefinedMetricWarning: Precision and F-score are ill-defined and being set to 0.0 in labels with no predicted samples. Use `zero_division` parameter to control this behavior.\n",
      "  _warn_prf(average, modifier, msg_start, len(result))\n",
      "C:\\Users\\nkm11\\anaconda3\\envs\\dr\\Lib\\site-packages\\sklearn\\metrics\\_classification.py:1469: UndefinedMetricWarning: Precision and F-score are ill-defined and being set to 0.0 in labels with no predicted samples. Use `zero_division` parameter to control this behavior.\n",
      "  _warn_prf(average, modifier, msg_start, len(result))\n",
      "C:\\Users\\nkm11\\anaconda3\\envs\\dr\\Lib\\site-packages\\sklearn\\metrics\\_classification.py:1469: UndefinedMetricWarning: Precision and F-score are ill-defined and being set to 0.0 in labels with no predicted samples. Use `zero_division` parameter to control this behavior.\n",
      "  _warn_prf(average, modifier, msg_start, len(result))\n"
     ]
    }
   ],
   "source": [
    "#Accuracy of the predicted values\n",
    "from sklearn.metrics import classification_report,confusion_matrix\n",
    "print(classification_report(y_test_class,y_pred_class))\n",
    "print(confusion_matrix(y_test_class,y_pred_class))"
   ]
  },
  {
   "cell_type": "code",
   "execution_count": null,
   "id": "abe2ef8a",
   "metadata": {},
   "outputs": [],
   "source": []
  }
 ],
 "metadata": {
  "kernelspec": {
   "display_name": "Python 3 (ipykernel)",
   "language": "python",
   "name": "python3"
  },
  "language_info": {
   "codemirror_mode": {
    "name": "ipython",
    "version": 3
   },
   "file_extension": ".py",
   "mimetype": "text/x-python",
   "name": "python",
   "nbconvert_exporter": "python",
   "pygments_lexer": "ipython3",
   "version": "3.11.4"
  }
 },
 "nbformat": 4,
 "nbformat_minor": 5
}
