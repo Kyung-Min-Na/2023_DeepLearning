{
 "cells": [
  {
   "cell_type": "code",
   "execution_count": 20,
   "id": "b1cd7344",
   "metadata": {},
   "outputs": [],
   "source": [
    "import pandas as pd\n",
    "import numpy as np\n",
    "import tensorflow as tf\n",
    "from sklearn.preprocessing import MinMaxScaler\n",
    "from tensorflow.keras.layers import Input, Dense, Dropout\n",
    "from keras.models import Sequential\n",
    "from tensorflow.keras.models import Model\n",
    "from tensorflow.keras.optimizers import Adam, RMSprop\n",
    "from tensorflow.keras.callbacks import EarlyStopping\n",
    "import matplotlib.pyplot as plt\n",
    "from sklearn.ensemble import IsolationForest\n",
    "from sklearn.model_selection import train_test_split\n",
    "from tqdm import tqdm\n",
    "import tensorflow.keras.initializers as initializers"
   ]
  },
  {
   "cell_type": "code",
   "execution_count": 40,
   "id": "fb6fac8f",
   "metadata": {},
   "outputs": [
    {
     "data": {
      "text/html": [
       "<div>\n",
       "<style scoped>\n",
       "    .dataframe tbody tr th:only-of-type {\n",
       "        vertical-align: middle;\n",
       "    }\n",
       "\n",
       "    .dataframe tbody tr th {\n",
       "        vertical-align: top;\n",
       "    }\n",
       "\n",
       "    .dataframe thead th {\n",
       "        text-align: right;\n",
       "    }\n",
       "</style>\n",
       "<table border=\"1\" class=\"dataframe\">\n",
       "  <thead>\n",
       "    <tr style=\"text-align: right;\">\n",
       "      <th></th>\n",
       "      <th>activity</th>\n",
       "      <th>X</th>\n",
       "      <th>Y</th>\n",
       "      <th>Z</th>\n",
       "    </tr>\n",
       "  </thead>\n",
       "  <tbody>\n",
       "    <tr>\n",
       "      <th>0</th>\n",
       "      <td>Jogging</td>\n",
       "      <td>-0.694638</td>\n",
       "      <td>12.680544</td>\n",
       "      <td>0.503953</td>\n",
       "    </tr>\n",
       "    <tr>\n",
       "      <th>1</th>\n",
       "      <td>Jogging</td>\n",
       "      <td>5.012288</td>\n",
       "      <td>11.264028</td>\n",
       "      <td>0.953424</td>\n",
       "    </tr>\n",
       "    <tr>\n",
       "      <th>2</th>\n",
       "      <td>Jogging</td>\n",
       "      <td>4.903325</td>\n",
       "      <td>10.882658</td>\n",
       "      <td>-0.081722</td>\n",
       "    </tr>\n",
       "    <tr>\n",
       "      <th>3</th>\n",
       "      <td>Jogging</td>\n",
       "      <td>-0.612916</td>\n",
       "      <td>18.496431</td>\n",
       "      <td>3.023717</td>\n",
       "    </tr>\n",
       "    <tr>\n",
       "      <th>4</th>\n",
       "      <td>Jogging</td>\n",
       "      <td>-1.184970</td>\n",
       "      <td>12.108489</td>\n",
       "      <td>7.205164</td>\n",
       "    </tr>\n",
       "    <tr>\n",
       "      <th>...</th>\n",
       "      <td>...</td>\n",
       "      <td>...</td>\n",
       "      <td>...</td>\n",
       "      <td>...</td>\n",
       "    </tr>\n",
       "    <tr>\n",
       "      <th>1098199</th>\n",
       "      <td>Sitting</td>\n",
       "      <td>9.000000</td>\n",
       "      <td>-1.570000</td>\n",
       "      <td>1.690000</td>\n",
       "    </tr>\n",
       "    <tr>\n",
       "      <th>1098200</th>\n",
       "      <td>Sitting</td>\n",
       "      <td>9.040000</td>\n",
       "      <td>-1.460000</td>\n",
       "      <td>1.730000</td>\n",
       "    </tr>\n",
       "    <tr>\n",
       "      <th>1098201</th>\n",
       "      <td>Sitting</td>\n",
       "      <td>9.080000</td>\n",
       "      <td>-1.380000</td>\n",
       "      <td>1.690000</td>\n",
       "    </tr>\n",
       "    <tr>\n",
       "      <th>1098202</th>\n",
       "      <td>Sitting</td>\n",
       "      <td>9.000000</td>\n",
       "      <td>-1.460000</td>\n",
       "      <td>1.730000</td>\n",
       "    </tr>\n",
       "    <tr>\n",
       "      <th>1098203</th>\n",
       "      <td>Sitting</td>\n",
       "      <td>8.880000</td>\n",
       "      <td>-1.330000</td>\n",
       "      <td>1.610000</td>\n",
       "    </tr>\n",
       "  </tbody>\n",
       "</table>\n",
       "<p>1098203 rows × 4 columns</p>\n",
       "</div>"
      ],
      "text/plain": [
       "        activity         X          Y         Z\n",
       "0        Jogging -0.694638  12.680544  0.503953\n",
       "1        Jogging  5.012288  11.264028  0.953424\n",
       "2        Jogging  4.903325  10.882658 -0.081722\n",
       "3        Jogging -0.612916  18.496431  3.023717\n",
       "4        Jogging -1.184970  12.108489  7.205164\n",
       "...          ...       ...        ...       ...\n",
       "1098199  Sitting  9.000000  -1.570000  1.690000\n",
       "1098200  Sitting  9.040000  -1.460000  1.730000\n",
       "1098201  Sitting  9.080000  -1.380000  1.690000\n",
       "1098202  Sitting  9.000000  -1.460000  1.730000\n",
       "1098203  Sitting  8.880000  -1.330000  1.610000\n",
       "\n",
       "[1098203 rows x 4 columns]"
      ]
     },
     "execution_count": 40,
     "metadata": {},
     "output_type": "execute_result"
    }
   ],
   "source": [
    "df=pd.read_csv('../dataset/WISDM.csv', index_col=0)\n",
    "df = df.drop(columns=['user-id', 'timestamp'])\n",
    "\n",
    "df"
   ]
  },
  {
   "cell_type": "code",
   "execution_count": 41,
   "id": "480a1b9a",
   "metadata": {},
   "outputs": [],
   "source": [
    "df_sit = df[df['activity'] == 'Sitting']\n",
    "df_run = df[df['activity'] == 'Jogging']"
   ]
  },
  {
   "cell_type": "code",
   "execution_count": 42,
   "id": "b6a380c1",
   "metadata": {},
   "outputs": [
    {
     "data": {
      "text/html": [
       "<div>\n",
       "<style scoped>\n",
       "    .dataframe tbody tr th:only-of-type {\n",
       "        vertical-align: middle;\n",
       "    }\n",
       "\n",
       "    .dataframe tbody tr th {\n",
       "        vertical-align: top;\n",
       "    }\n",
       "\n",
       "    .dataframe thead th {\n",
       "        text-align: right;\n",
       "    }\n",
       "</style>\n",
       "<table border=\"1\" class=\"dataframe\">\n",
       "  <thead>\n",
       "    <tr style=\"text-align: right;\">\n",
       "      <th></th>\n",
       "      <th>activity</th>\n",
       "      <th>X</th>\n",
       "      <th>Y</th>\n",
       "      <th>Z</th>\n",
       "    </tr>\n",
       "  </thead>\n",
       "  <tbody>\n",
       "    <tr>\n",
       "      <th>0</th>\n",
       "      <td>Jogging</td>\n",
       "      <td>-0.694638</td>\n",
       "      <td>12.680544</td>\n",
       "      <td>0.503953</td>\n",
       "    </tr>\n",
       "    <tr>\n",
       "      <th>1</th>\n",
       "      <td>Jogging</td>\n",
       "      <td>5.012288</td>\n",
       "      <td>11.264028</td>\n",
       "      <td>0.953424</td>\n",
       "    </tr>\n",
       "    <tr>\n",
       "      <th>2</th>\n",
       "      <td>Jogging</td>\n",
       "      <td>4.903325</td>\n",
       "      <td>10.882658</td>\n",
       "      <td>-0.081722</td>\n",
       "    </tr>\n",
       "    <tr>\n",
       "      <th>3</th>\n",
       "      <td>Jogging</td>\n",
       "      <td>-0.612916</td>\n",
       "      <td>18.496431</td>\n",
       "      <td>3.023717</td>\n",
       "    </tr>\n",
       "    <tr>\n",
       "      <th>4</th>\n",
       "      <td>Jogging</td>\n",
       "      <td>-1.184970</td>\n",
       "      <td>12.108489</td>\n",
       "      <td>7.205164</td>\n",
       "    </tr>\n",
       "    <tr>\n",
       "      <th>...</th>\n",
       "      <td>...</td>\n",
       "      <td>...</td>\n",
       "      <td>...</td>\n",
       "      <td>...</td>\n",
       "    </tr>\n",
       "    <tr>\n",
       "      <th>1080754</th>\n",
       "      <td>Jogging</td>\n",
       "      <td>-7.010000</td>\n",
       "      <td>-10.530000</td>\n",
       "      <td>0.570000</td>\n",
       "    </tr>\n",
       "    <tr>\n",
       "      <th>1080755</th>\n",
       "      <td>Jogging</td>\n",
       "      <td>-6.360000</td>\n",
       "      <td>-3.910000</td>\n",
       "      <td>-0.420000</td>\n",
       "    </tr>\n",
       "    <tr>\n",
       "      <th>1080756</th>\n",
       "      <td>Jogging</td>\n",
       "      <td>-11.260000</td>\n",
       "      <td>3.020000</td>\n",
       "      <td>1.570000</td>\n",
       "    </tr>\n",
       "    <tr>\n",
       "      <th>1080757</th>\n",
       "      <td>Jogging</td>\n",
       "      <td>-17.540000</td>\n",
       "      <td>4.670000</td>\n",
       "      <td>3.980000</td>\n",
       "    </tr>\n",
       "    <tr>\n",
       "      <th>1080758</th>\n",
       "      <td>Jogging</td>\n",
       "      <td>-11.260000</td>\n",
       "      <td>-0.500000</td>\n",
       "      <td>7.400000</td>\n",
       "    </tr>\n",
       "  </tbody>\n",
       "</table>\n",
       "<p>342176 rows × 4 columns</p>\n",
       "</div>"
      ],
      "text/plain": [
       "        activity          X          Y         Z\n",
       "0        Jogging  -0.694638  12.680544  0.503953\n",
       "1        Jogging   5.012288  11.264028  0.953424\n",
       "2        Jogging   4.903325  10.882658 -0.081722\n",
       "3        Jogging  -0.612916  18.496431  3.023717\n",
       "4        Jogging  -1.184970  12.108489  7.205164\n",
       "...          ...        ...        ...       ...\n",
       "1080754  Jogging  -7.010000 -10.530000  0.570000\n",
       "1080755  Jogging  -6.360000  -3.910000 -0.420000\n",
       "1080756  Jogging -11.260000   3.020000  1.570000\n",
       "1080757  Jogging -17.540000   4.670000  3.980000\n",
       "1080758  Jogging -11.260000  -0.500000  7.400000\n",
       "\n",
       "[342176 rows x 4 columns]"
      ]
     },
     "execution_count": 42,
     "metadata": {},
     "output_type": "execute_result"
    }
   ],
   "source": [
    "df_run"
   ]
  },
  {
   "cell_type": "code",
   "execution_count": 43,
   "id": "f7ad1654",
   "metadata": {},
   "outputs": [],
   "source": [
    "df_sit_sample = df_sit.head(4500).copy()"
   ]
  },
  {
   "cell_type": "code",
   "execution_count": 44,
   "id": "5c53c5a2",
   "metadata": {},
   "outputs": [
    {
     "data": {
      "text/html": [
       "<div>\n",
       "<style scoped>\n",
       "    .dataframe tbody tr th:only-of-type {\n",
       "        vertical-align: middle;\n",
       "    }\n",
       "\n",
       "    .dataframe tbody tr th {\n",
       "        vertical-align: top;\n",
       "    }\n",
       "\n",
       "    .dataframe thead th {\n",
       "        text-align: right;\n",
       "    }\n",
       "</style>\n",
       "<table border=\"1\" class=\"dataframe\">\n",
       "  <thead>\n",
       "    <tr style=\"text-align: right;\">\n",
       "      <th></th>\n",
       "      <th>activity</th>\n",
       "      <th>X</th>\n",
       "      <th>Y</th>\n",
       "      <th>Z</th>\n",
       "    </tr>\n",
       "  </thead>\n",
       "  <tbody>\n",
       "    <tr>\n",
       "      <th>221333</th>\n",
       "      <td>Sitting</td>\n",
       "      <td>2.60</td>\n",
       "      <td>9.66</td>\n",
       "      <td>1.035146</td>\n",
       "    </tr>\n",
       "    <tr>\n",
       "      <th>221334</th>\n",
       "      <td>Sitting</td>\n",
       "      <td>2.68</td>\n",
       "      <td>9.53</td>\n",
       "      <td>0.503953</td>\n",
       "    </tr>\n",
       "    <tr>\n",
       "      <th>221335</th>\n",
       "      <td>Sitting</td>\n",
       "      <td>3.49</td>\n",
       "      <td>8.89</td>\n",
       "      <td>0.762740</td>\n",
       "    </tr>\n",
       "    <tr>\n",
       "      <th>221336</th>\n",
       "      <td>Sitting</td>\n",
       "      <td>3.64</td>\n",
       "      <td>9.38</td>\n",
       "      <td>0.926184</td>\n",
       "    </tr>\n",
       "    <tr>\n",
       "      <th>221337</th>\n",
       "      <td>Sitting</td>\n",
       "      <td>2.91</td>\n",
       "      <td>9.34</td>\n",
       "      <td>1.035146</td>\n",
       "    </tr>\n",
       "    <tr>\n",
       "      <th>...</th>\n",
       "      <td>...</td>\n",
       "      <td>...</td>\n",
       "      <td>...</td>\n",
       "      <td>...</td>\n",
       "    </tr>\n",
       "    <tr>\n",
       "      <th>255294</th>\n",
       "      <td>Sitting</td>\n",
       "      <td>-4.33</td>\n",
       "      <td>-2.18</td>\n",
       "      <td>8.308413</td>\n",
       "    </tr>\n",
       "    <tr>\n",
       "      <th>255295</th>\n",
       "      <td>Sitting</td>\n",
       "      <td>-4.37</td>\n",
       "      <td>-2.22</td>\n",
       "      <td>8.349273</td>\n",
       "    </tr>\n",
       "    <tr>\n",
       "      <th>255296</th>\n",
       "      <td>Sitting</td>\n",
       "      <td>-4.29</td>\n",
       "      <td>-2.22</td>\n",
       "      <td>8.308413</td>\n",
       "    </tr>\n",
       "    <tr>\n",
       "      <th>255297</th>\n",
       "      <td>Sitting</td>\n",
       "      <td>-4.29</td>\n",
       "      <td>-2.22</td>\n",
       "      <td>8.281172</td>\n",
       "    </tr>\n",
       "    <tr>\n",
       "      <th>255298</th>\n",
       "      <td>Sitting</td>\n",
       "      <td>-4.25</td>\n",
       "      <td>-2.18</td>\n",
       "      <td>8.349273</td>\n",
       "    </tr>\n",
       "  </tbody>\n",
       "</table>\n",
       "<p>4500 rows × 4 columns</p>\n",
       "</div>"
      ],
      "text/plain": [
       "       activity     X     Y         Z\n",
       "221333  Sitting  2.60  9.66  1.035146\n",
       "221334  Sitting  2.68  9.53  0.503953\n",
       "221335  Sitting  3.49  8.89  0.762740\n",
       "221336  Sitting  3.64  9.38  0.926184\n",
       "221337  Sitting  2.91  9.34  1.035146\n",
       "...         ...   ...   ...       ...\n",
       "255294  Sitting -4.33 -2.18  8.308413\n",
       "255295  Sitting -4.37 -2.22  8.349273\n",
       "255296  Sitting -4.29 -2.22  8.308413\n",
       "255297  Sitting -4.29 -2.22  8.281172\n",
       "255298  Sitting -4.25 -2.18  8.349273\n",
       "\n",
       "[4500 rows x 4 columns]"
      ]
     },
     "execution_count": 44,
     "metadata": {},
     "output_type": "execute_result"
    }
   ],
   "source": [
    "df_sit_sample"
   ]
  },
  {
   "cell_type": "code",
   "execution_count": 45,
   "id": "09ece667",
   "metadata": {},
   "outputs": [],
   "source": [
    "df_run_sample = df_run.head(4500).copy()"
   ]
  },
  {
   "cell_type": "code",
   "execution_count": 46,
   "id": "afa78f4b",
   "metadata": {},
   "outputs": [
    {
     "data": {
      "text/html": [
       "<div>\n",
       "<style scoped>\n",
       "    .dataframe tbody tr th:only-of-type {\n",
       "        vertical-align: middle;\n",
       "    }\n",
       "\n",
       "    .dataframe tbody tr th {\n",
       "        vertical-align: top;\n",
       "    }\n",
       "\n",
       "    .dataframe thead th {\n",
       "        text-align: right;\n",
       "    }\n",
       "</style>\n",
       "<table border=\"1\" class=\"dataframe\">\n",
       "  <thead>\n",
       "    <tr style=\"text-align: right;\">\n",
       "      <th></th>\n",
       "      <th>activity</th>\n",
       "      <th>X</th>\n",
       "      <th>Y</th>\n",
       "      <th>Z</th>\n",
       "    </tr>\n",
       "  </thead>\n",
       "  <tbody>\n",
       "    <tr>\n",
       "      <th>0</th>\n",
       "      <td>Jogging</td>\n",
       "      <td>-0.694638</td>\n",
       "      <td>12.680544</td>\n",
       "      <td>0.503953</td>\n",
       "    </tr>\n",
       "    <tr>\n",
       "      <th>1</th>\n",
       "      <td>Jogging</td>\n",
       "      <td>5.012288</td>\n",
       "      <td>11.264028</td>\n",
       "      <td>0.953424</td>\n",
       "    </tr>\n",
       "    <tr>\n",
       "      <th>2</th>\n",
       "      <td>Jogging</td>\n",
       "      <td>4.903325</td>\n",
       "      <td>10.882658</td>\n",
       "      <td>-0.081722</td>\n",
       "    </tr>\n",
       "    <tr>\n",
       "      <th>3</th>\n",
       "      <td>Jogging</td>\n",
       "      <td>-0.612916</td>\n",
       "      <td>18.496431</td>\n",
       "      <td>3.023717</td>\n",
       "    </tr>\n",
       "    <tr>\n",
       "      <th>4</th>\n",
       "      <td>Jogging</td>\n",
       "      <td>-1.184970</td>\n",
       "      <td>12.108489</td>\n",
       "      <td>7.205164</td>\n",
       "    </tr>\n",
       "    <tr>\n",
       "      <th>...</th>\n",
       "      <td>...</td>\n",
       "      <td>...</td>\n",
       "      <td>...</td>\n",
       "      <td>...</td>\n",
       "    </tr>\n",
       "    <tr>\n",
       "      <th>13015</th>\n",
       "      <td>Jogging</td>\n",
       "      <td>5.434519</td>\n",
       "      <td>8.853226</td>\n",
       "      <td>3.909040</td>\n",
       "    </tr>\n",
       "    <tr>\n",
       "      <th>13016</th>\n",
       "      <td>Jogging</td>\n",
       "      <td>-4.331271</td>\n",
       "      <td>19.531578</td>\n",
       "      <td>-1.729784</td>\n",
       "    </tr>\n",
       "    <tr>\n",
       "      <th>13017</th>\n",
       "      <td>Jogging</td>\n",
       "      <td>-1.035146</td>\n",
       "      <td>-5.012288</td>\n",
       "      <td>-4.481094</td>\n",
       "    </tr>\n",
       "    <tr>\n",
       "      <th>13018</th>\n",
       "      <td>Jogging</td>\n",
       "      <td>7.082581</td>\n",
       "      <td>17.243360</td>\n",
       "      <td>-0.381370</td>\n",
       "    </tr>\n",
       "    <tr>\n",
       "      <th>13019</th>\n",
       "      <td>Jogging</td>\n",
       "      <td>6.442424</td>\n",
       "      <td>5.053149</td>\n",
       "      <td>-5.788648</td>\n",
       "    </tr>\n",
       "  </tbody>\n",
       "</table>\n",
       "<p>4500 rows × 4 columns</p>\n",
       "</div>"
      ],
      "text/plain": [
       "      activity         X          Y         Z\n",
       "0      Jogging -0.694638  12.680544  0.503953\n",
       "1      Jogging  5.012288  11.264028  0.953424\n",
       "2      Jogging  4.903325  10.882658 -0.081722\n",
       "3      Jogging -0.612916  18.496431  3.023717\n",
       "4      Jogging -1.184970  12.108489  7.205164\n",
       "...        ...       ...        ...       ...\n",
       "13015  Jogging  5.434519   8.853226  3.909040\n",
       "13016  Jogging -4.331271  19.531578 -1.729784\n",
       "13017  Jogging -1.035146  -5.012288 -4.481094\n",
       "13018  Jogging  7.082581  17.243360 -0.381370\n",
       "13019  Jogging  6.442424   5.053149 -5.788648\n",
       "\n",
       "[4500 rows x 4 columns]"
      ]
     },
     "execution_count": 46,
     "metadata": {},
     "output_type": "execute_result"
    }
   ],
   "source": [
    "df_run_sample"
   ]
  },
  {
   "cell_type": "code",
   "execution_count": 47,
   "id": "96062358",
   "metadata": {},
   "outputs": [],
   "source": [
    "data = pd.concat([df_sit_sample, df_run_sample])"
   ]
  },
  {
   "cell_type": "code",
   "execution_count": 48,
   "id": "99a8c347",
   "metadata": {},
   "outputs": [
    {
     "data": {
      "text/html": [
       "<div>\n",
       "<style scoped>\n",
       "    .dataframe tbody tr th:only-of-type {\n",
       "        vertical-align: middle;\n",
       "    }\n",
       "\n",
       "    .dataframe tbody tr th {\n",
       "        vertical-align: top;\n",
       "    }\n",
       "\n",
       "    .dataframe thead th {\n",
       "        text-align: right;\n",
       "    }\n",
       "</style>\n",
       "<table border=\"1\" class=\"dataframe\">\n",
       "  <thead>\n",
       "    <tr style=\"text-align: right;\">\n",
       "      <th></th>\n",
       "      <th>activity</th>\n",
       "      <th>X</th>\n",
       "      <th>Y</th>\n",
       "      <th>Z</th>\n",
       "    </tr>\n",
       "  </thead>\n",
       "  <tbody>\n",
       "    <tr>\n",
       "      <th>221333</th>\n",
       "      <td>Sitting</td>\n",
       "      <td>2.600000</td>\n",
       "      <td>9.660000</td>\n",
       "      <td>1.035146</td>\n",
       "    </tr>\n",
       "    <tr>\n",
       "      <th>221334</th>\n",
       "      <td>Sitting</td>\n",
       "      <td>2.680000</td>\n",
       "      <td>9.530000</td>\n",
       "      <td>0.503953</td>\n",
       "    </tr>\n",
       "    <tr>\n",
       "      <th>221335</th>\n",
       "      <td>Sitting</td>\n",
       "      <td>3.490000</td>\n",
       "      <td>8.890000</td>\n",
       "      <td>0.762740</td>\n",
       "    </tr>\n",
       "    <tr>\n",
       "      <th>221336</th>\n",
       "      <td>Sitting</td>\n",
       "      <td>3.640000</td>\n",
       "      <td>9.380000</td>\n",
       "      <td>0.926184</td>\n",
       "    </tr>\n",
       "    <tr>\n",
       "      <th>221337</th>\n",
       "      <td>Sitting</td>\n",
       "      <td>2.910000</td>\n",
       "      <td>9.340000</td>\n",
       "      <td>1.035146</td>\n",
       "    </tr>\n",
       "    <tr>\n",
       "      <th>...</th>\n",
       "      <td>...</td>\n",
       "      <td>...</td>\n",
       "      <td>...</td>\n",
       "      <td>...</td>\n",
       "    </tr>\n",
       "    <tr>\n",
       "      <th>13015</th>\n",
       "      <td>Jogging</td>\n",
       "      <td>5.434519</td>\n",
       "      <td>8.853226</td>\n",
       "      <td>3.909040</td>\n",
       "    </tr>\n",
       "    <tr>\n",
       "      <th>13016</th>\n",
       "      <td>Jogging</td>\n",
       "      <td>-4.331271</td>\n",
       "      <td>19.531578</td>\n",
       "      <td>-1.729784</td>\n",
       "    </tr>\n",
       "    <tr>\n",
       "      <th>13017</th>\n",
       "      <td>Jogging</td>\n",
       "      <td>-1.035146</td>\n",
       "      <td>-5.012288</td>\n",
       "      <td>-4.481094</td>\n",
       "    </tr>\n",
       "    <tr>\n",
       "      <th>13018</th>\n",
       "      <td>Jogging</td>\n",
       "      <td>7.082581</td>\n",
       "      <td>17.243360</td>\n",
       "      <td>-0.381370</td>\n",
       "    </tr>\n",
       "    <tr>\n",
       "      <th>13019</th>\n",
       "      <td>Jogging</td>\n",
       "      <td>6.442424</td>\n",
       "      <td>5.053149</td>\n",
       "      <td>-5.788648</td>\n",
       "    </tr>\n",
       "  </tbody>\n",
       "</table>\n",
       "<p>9000 rows × 4 columns</p>\n",
       "</div>"
      ],
      "text/plain": [
       "       activity         X          Y         Z\n",
       "221333  Sitting  2.600000   9.660000  1.035146\n",
       "221334  Sitting  2.680000   9.530000  0.503953\n",
       "221335  Sitting  3.490000   8.890000  0.762740\n",
       "221336  Sitting  3.640000   9.380000  0.926184\n",
       "221337  Sitting  2.910000   9.340000  1.035146\n",
       "...         ...       ...        ...       ...\n",
       "13015   Jogging  5.434519   8.853226  3.909040\n",
       "13016   Jogging -4.331271  19.531578 -1.729784\n",
       "13017   Jogging -1.035146  -5.012288 -4.481094\n",
       "13018   Jogging  7.082581  17.243360 -0.381370\n",
       "13019   Jogging  6.442424   5.053149 -5.788648\n",
       "\n",
       "[9000 rows x 4 columns]"
      ]
     },
     "execution_count": 48,
     "metadata": {},
     "output_type": "execute_result"
    }
   ],
   "source": [
    "data"
   ]
  },
  {
   "cell_type": "code",
   "execution_count": 57,
   "id": "eab59d02",
   "metadata": {},
   "outputs": [],
   "source": [
    "from sklearn.preprocessing import LabelEncoder\n",
    "\n",
    "\n",
    "\n",
    "le=LabelEncoder()\n",
    "\n",
    "data['activity']=le.fit_transform(data['activity'])"
   ]
  },
  {
   "cell_type": "code",
   "execution_count": 58,
   "id": "934fe65d",
   "metadata": {},
   "outputs": [
    {
     "name": "stdout",
     "output_type": "stream",
     "text": [
      "<class 'pandas.core.frame.DataFrame'>\n",
      "Index: 9000 entries, 221333 to 13019\n",
      "Data columns (total 4 columns):\n",
      " #   Column    Non-Null Count  Dtype  \n",
      "---  ------    --------------  -----  \n",
      " 0   activity  9000 non-null   int32  \n",
      " 1   X         9000 non-null   float64\n",
      " 2   Y         9000 non-null   float64\n",
      " 3   Z         9000 non-null   float64\n",
      "dtypes: float64(3), int32(1)\n",
      "memory usage: 316.4 KB\n"
     ]
    }
   ],
   "source": [
    "data.info()"
   ]
  },
  {
   "cell_type": "code",
   "execution_count": 59,
   "id": "81afdfcb",
   "metadata": {},
   "outputs": [],
   "source": [
    "df_train, df_test = train_test_split(data, test_size=0.25, random_state=42)"
   ]
  },
  {
   "cell_type": "code",
   "execution_count": 60,
   "id": "12e16c5c",
   "metadata": {},
   "outputs": [],
   "source": [
    "df_train = df_train[df_train['activity']==0]"
   ]
  },
  {
   "cell_type": "code",
   "execution_count": 61,
   "id": "f552ae50",
   "metadata": {},
   "outputs": [
    {
     "name": "stdout",
     "output_type": "stream",
     "text": [
      "<class 'pandas.core.frame.DataFrame'>\n",
      "Index: 3368 entries, 7030 to 8313\n",
      "Data columns (total 4 columns):\n",
      " #   Column    Non-Null Count  Dtype  \n",
      "---  ------    --------------  -----  \n",
      " 0   activity  3368 non-null   int32  \n",
      " 1   X         3368 non-null   float64\n",
      " 2   Y         3368 non-null   float64\n",
      " 3   Z         3368 non-null   float64\n",
      "dtypes: float64(3), int32(1)\n",
      "memory usage: 118.4 KB\n"
     ]
    }
   ],
   "source": [
    "df_train.info()"
   ]
  },
  {
   "cell_type": "code",
   "execution_count": 62,
   "id": "a81e55fc",
   "metadata": {},
   "outputs": [],
   "source": [
    "x_train = df_train.drop(['activity'], axis=1)\n",
    "\n",
    "y_test = df_test['activity']\n",
    "x_test = df_test.drop(['activity'],axis=1)"
   ]
  },
  {
   "cell_type": "code",
   "execution_count": 63,
   "id": "8f19ba66",
   "metadata": {},
   "outputs": [
    {
     "data": {
      "text/html": [
       "<div>\n",
       "<style scoped>\n",
       "    .dataframe tbody tr th:only-of-type {\n",
       "        vertical-align: middle;\n",
       "    }\n",
       "\n",
       "    .dataframe tbody tr th {\n",
       "        vertical-align: top;\n",
       "    }\n",
       "\n",
       "    .dataframe thead th {\n",
       "        text-align: right;\n",
       "    }\n",
       "</style>\n",
       "<table border=\"1\" class=\"dataframe\">\n",
       "  <thead>\n",
       "    <tr style=\"text-align: right;\">\n",
       "      <th></th>\n",
       "      <th>X</th>\n",
       "      <th>Y</th>\n",
       "      <th>Z</th>\n",
       "    </tr>\n",
       "  </thead>\n",
       "  <tbody>\n",
       "    <tr>\n",
       "      <th>7030</th>\n",
       "      <td>6.319841</td>\n",
       "      <td>-0.272407</td>\n",
       "      <td>2.601486</td>\n",
       "    </tr>\n",
       "    <tr>\n",
       "      <th>8101</th>\n",
       "      <td>14.519291</td>\n",
       "      <td>18.809700</td>\n",
       "      <td>0.612916</td>\n",
       "    </tr>\n",
       "    <tr>\n",
       "      <th>12542</th>\n",
       "      <td>5.012288</td>\n",
       "      <td>15.976667</td>\n",
       "      <td>-2.751310</td>\n",
       "    </tr>\n",
       "    <tr>\n",
       "      <th>12887</th>\n",
       "      <td>1.879608</td>\n",
       "      <td>9.275456</td>\n",
       "      <td>2.260978</td>\n",
       "    </tr>\n",
       "    <tr>\n",
       "      <th>103</th>\n",
       "      <td>3.023717</td>\n",
       "      <td>7.164303</td>\n",
       "      <td>0.081722</td>\n",
       "    </tr>\n",
       "    <tr>\n",
       "      <th>...</th>\n",
       "      <td>...</td>\n",
       "      <td>...</td>\n",
       "      <td>...</td>\n",
       "    </tr>\n",
       "    <tr>\n",
       "      <th>7308</th>\n",
       "      <td>-5.407278</td>\n",
       "      <td>19.572440</td>\n",
       "      <td>-2.111154</td>\n",
       "    </tr>\n",
       "    <tr>\n",
       "      <th>6777</th>\n",
       "      <td>0.926184</td>\n",
       "      <td>5.788648</td>\n",
       "      <td>0.531194</td>\n",
       "    </tr>\n",
       "    <tr>\n",
       "      <th>5655</th>\n",
       "      <td>-0.694638</td>\n",
       "      <td>12.408136</td>\n",
       "      <td>10.841797</td>\n",
       "    </tr>\n",
       "    <tr>\n",
       "      <th>5854</th>\n",
       "      <td>-3.214402</td>\n",
       "      <td>-4.985047</td>\n",
       "      <td>-4.140586</td>\n",
       "    </tr>\n",
       "    <tr>\n",
       "      <th>8313</th>\n",
       "      <td>-7.627395</td>\n",
       "      <td>-9.084772</td>\n",
       "      <td>-10.228881</td>\n",
       "    </tr>\n",
       "  </tbody>\n",
       "</table>\n",
       "<p>3368 rows × 3 columns</p>\n",
       "</div>"
      ],
      "text/plain": [
       "               X          Y          Z\n",
       "7030    6.319841  -0.272407   2.601486\n",
       "8101   14.519291  18.809700   0.612916\n",
       "12542   5.012288  15.976667  -2.751310\n",
       "12887   1.879608   9.275456   2.260978\n",
       "103     3.023717   7.164303   0.081722\n",
       "...          ...        ...        ...\n",
       "7308   -5.407278  19.572440  -2.111154\n",
       "6777    0.926184   5.788648   0.531194\n",
       "5655   -0.694638  12.408136  10.841797\n",
       "5854   -3.214402  -4.985047  -4.140586\n",
       "8313   -7.627395  -9.084772 -10.228881\n",
       "\n",
       "[3368 rows x 3 columns]"
      ]
     },
     "execution_count": 63,
     "metadata": {},
     "output_type": "execute_result"
    }
   ],
   "source": [
    "x_train"
   ]
  },
  {
   "cell_type": "code",
   "execution_count": 64,
   "id": "137dd7be",
   "metadata": {},
   "outputs": [
    {
     "data": {
      "text/plain": [
       "11960     0\n",
       "222495    1\n",
       "221915    1\n",
       "254880    1\n",
       "12432     0\n",
       "         ..\n",
       "12757     0\n",
       "253844    1\n",
       "222740    1\n",
       "221868    1\n",
       "6019      0\n",
       "Name: activity, Length: 2250, dtype: int32"
      ]
     },
     "execution_count": 64,
     "metadata": {},
     "output_type": "execute_result"
    }
   ],
   "source": [
    "y_test"
   ]
  },
  {
   "cell_type": "code",
   "execution_count": 65,
   "id": "5a565b44",
   "metadata": {},
   "outputs": [
    {
     "data": {
      "text/html": [
       "<div>\n",
       "<style scoped>\n",
       "    .dataframe tbody tr th:only-of-type {\n",
       "        vertical-align: middle;\n",
       "    }\n",
       "\n",
       "    .dataframe tbody tr th {\n",
       "        vertical-align: top;\n",
       "    }\n",
       "\n",
       "    .dataframe thead th {\n",
       "        text-align: right;\n",
       "    }\n",
       "</style>\n",
       "<table border=\"1\" class=\"dataframe\">\n",
       "  <thead>\n",
       "    <tr style=\"text-align: right;\">\n",
       "      <th></th>\n",
       "      <th>X</th>\n",
       "      <th>Y</th>\n",
       "      <th>Z</th>\n",
       "    </tr>\n",
       "  </thead>\n",
       "  <tbody>\n",
       "    <tr>\n",
       "      <th>11960</th>\n",
       "      <td>-0.000000</td>\n",
       "      <td>-0.299648</td>\n",
       "      <td>-0.994285</td>\n",
       "    </tr>\n",
       "    <tr>\n",
       "      <th>222495</th>\n",
       "      <td>3.260000</td>\n",
       "      <td>9.300000</td>\n",
       "      <td>1.144109</td>\n",
       "    </tr>\n",
       "    <tr>\n",
       "      <th>221915</th>\n",
       "      <td>3.110000</td>\n",
       "      <td>9.300000</td>\n",
       "      <td>1.184970</td>\n",
       "    </tr>\n",
       "    <tr>\n",
       "      <th>254880</th>\n",
       "      <td>-4.250000</td>\n",
       "      <td>-2.300000</td>\n",
       "      <td>8.240311</td>\n",
       "    </tr>\n",
       "    <tr>\n",
       "      <th>12432</th>\n",
       "      <td>8.308413</td>\n",
       "      <td>18.768839</td>\n",
       "      <td>-0.612916</td>\n",
       "    </tr>\n",
       "    <tr>\n",
       "      <th>...</th>\n",
       "      <td>...</td>\n",
       "      <td>...</td>\n",
       "      <td>...</td>\n",
       "    </tr>\n",
       "    <tr>\n",
       "      <th>12757</th>\n",
       "      <td>4.140586</td>\n",
       "      <td>13.293459</td>\n",
       "      <td>-0.190685</td>\n",
       "    </tr>\n",
       "    <tr>\n",
       "      <th>253844</th>\n",
       "      <td>-4.820000</td>\n",
       "      <td>-2.220000</td>\n",
       "      <td>7.927042</td>\n",
       "    </tr>\n",
       "    <tr>\n",
       "      <th>222740</th>\n",
       "      <td>3.210000</td>\n",
       "      <td>9.280000</td>\n",
       "      <td>1.144109</td>\n",
       "    </tr>\n",
       "    <tr>\n",
       "      <th>221868</th>\n",
       "      <td>2.870000</td>\n",
       "      <td>9.380000</td>\n",
       "      <td>1.076008</td>\n",
       "    </tr>\n",
       "    <tr>\n",
       "      <th>6019</th>\n",
       "      <td>3.718355</td>\n",
       "      <td>15.282030</td>\n",
       "      <td>8.662541</td>\n",
       "    </tr>\n",
       "  </tbody>\n",
       "</table>\n",
       "<p>2250 rows × 3 columns</p>\n",
       "</div>"
      ],
      "text/plain": [
       "               X          Y         Z\n",
       "11960  -0.000000  -0.299648 -0.994285\n",
       "222495  3.260000   9.300000  1.144109\n",
       "221915  3.110000   9.300000  1.184970\n",
       "254880 -4.250000  -2.300000  8.240311\n",
       "12432   8.308413  18.768839 -0.612916\n",
       "...          ...        ...       ...\n",
       "12757   4.140586  13.293459 -0.190685\n",
       "253844 -4.820000  -2.220000  7.927042\n",
       "222740  3.210000   9.280000  1.144109\n",
       "221868  2.870000   9.380000  1.076008\n",
       "6019    3.718355  15.282030  8.662541\n",
       "\n",
       "[2250 rows x 3 columns]"
      ]
     },
     "execution_count": 65,
     "metadata": {},
     "output_type": "execute_result"
    }
   ],
   "source": [
    "x_test"
   ]
  },
  {
   "cell_type": "code",
   "execution_count": 66,
   "id": "f34df164",
   "metadata": {},
   "outputs": [],
   "source": [
    "# Normalize the above splits using the MinMaxScaler from the scikit learn package\n",
    "#scaler = MinMaxScaler()\n",
    "\n",
    "# Make sure to only fit the scaler on the training data\n",
    "#x_train = scaler.fit_transform(x_train)"
   ]
  },
  {
   "cell_type": "code",
   "execution_count": 67,
   "id": "3cc2b9a0",
   "metadata": {},
   "outputs": [
    {
     "name": "stdout",
     "output_type": "stream",
     "text": [
      "[[  6.3198414   -0.27240697   2.6014864 ]\n",
      " [ 14.519291    18.8097       0.61291564]\n",
      " [  5.012288    15.976667    -2.7513103 ]\n",
      " ...\n",
      " [ -0.6946377   12.408136    10.841797  ]\n",
      " [ -3.214402    -4.9850473   -4.140586  ]\n",
      " [ -7.6273947   -9.084772   -10.228881  ]]\n"
     ]
    }
   ],
   "source": [
    "print(x_train.values)"
   ]
  },
  {
   "cell_type": "code",
   "execution_count": 68,
   "id": "f266b348",
   "metadata": {},
   "outputs": [],
   "source": [
    "NUM_COL = 3\n",
    "\n",
    "#Setting the Hyperparameters\n",
    "\n",
    "#learning_rate = 0.00001\n",
    "learning_rate = 0.001\n",
    "batch_size = 128\n",
    "epochs = 5\n",
    "adam = Adam(learning_rate = learning_rate, beta_1 = 0.5)"
   ]
  },
  {
   "cell_type": "code",
   "execution_count": 69,
   "id": "2ff236e3",
   "metadata": {},
   "outputs": [],
   "source": [
    "# Defining the Generator network\n",
    "\n",
    "def get_generator(optimizer):\n",
    "    generator = Sequential()\n",
    "    generator.add(Dense(128,activation='tanh', input_dim=NUM_COL, kernel_initializer=initializers.glorot_normal(seed=42)))\n",
    "    \n",
    "    generator.add(Dense(128,activation='tanh'))\n",
    "    \n",
    "    generator.add(Dense(64,activation='tanh'))\n",
    "    \n",
    "    generator.add(Dense(32,activation='tanh'))\n",
    "    \n",
    "    generator.add(Dense(16,activation='tanh'))\n",
    "    \n",
    "    generator.add(Dense(4,activation='tanh'))\n",
    "    \n",
    "    generator.add(Dense(NUM_COL, activation='tanh'))\n",
    "    generator.compile(loss='mean_squared_error', optimizer=Adam(lr=0.002, beta_1=0.5))\n",
    "\n",
    "    return generator"
   ]
  },
  {
   "cell_type": "code",
   "execution_count": 70,
   "id": "919efd69",
   "metadata": {},
   "outputs": [],
   "source": [
    "##### Defining the Discriminator network\n",
    "\n",
    "def get_discriminator(optimizer):\n",
    "\n",
    "    discriminator = Sequential()\n",
    "\n",
    "    discriminator.add(Dense(16, activation='relu',input_dim=NUM_COL, kernel_initializer=initializers.glorot_normal(seed=42)))\n",
    "    discriminator.add(Dropout(0.2))\n",
    "    \n",
    "    discriminator.add(Dense(16, activation='relu'))\n",
    "    discriminator.add(Dropout(0.2))\n",
    "    \n",
    "    discriminator.add(Dense(4, activation='relu'))\n",
    "    discriminator.add(Dropout(0.2))\n",
    "\n",
    "    discriminator.add(Dense(4, activation='relu'))\n",
    "    discriminator.add(Dropout(0.2))\n",
    "    \n",
    "    discriminator.add(Dense(1, activation='sigmoid'))\n",
    "   \n",
    "    discriminator.compile(loss='binary_crossentropy', optimizer=Adam(lr=0.002, beta_1=0.5))\n",
    "\n",
    "    return discriminator"
   ]
  },
  {
   "cell_type": "code",
   "execution_count": 71,
   "id": "e8f2e32b",
   "metadata": {},
   "outputs": [],
   "source": [
    "def get_gan_network(discriminator, generator, optimizer,input_dim=NUM_COL):\n",
    "\n",
    "    discriminator.trainable = False   \n",
    "    gan_input = Input(shape=(input_dim,))  \n",
    "    x = generator(gan_input)        \n",
    "    gan_output = discriminator(x)\n",
    "    \n",
    "    gan = Model(inputs=gan_input, outputs=gan_output)    \n",
    "    gan.compile(loss='binary_crossentropy', optimizer=Adam(lr=0.002, beta_1=0.5))\n",
    "    \n",
    "    \n",
    "    return gan"
   ]
  },
  {
   "cell_type": "code",
   "execution_count": 72,
   "id": "ed9389bb",
   "metadata": {},
   "outputs": [
    {
     "name": "stderr",
     "output_type": "stream",
     "text": [
      "  0%|                                                                                          | 0/130 [00:00<?, ?it/s]WARNING:absl:`lr` is deprecated in Keras optimizer, please use `learning_rate` or use the legacy optimizer, e.g.,tf.keras.optimizers.legacy.Adam.\n",
      "WARNING:absl:`lr` is deprecated in Keras optimizer, please use `learning_rate` or use the legacy optimizer, e.g.,tf.keras.optimizers.legacy.Adam.\n",
      "WARNING:absl:`lr` is deprecated in Keras optimizer, please use `learning_rate` or use the legacy optimizer, e.g.,tf.keras.optimizers.legacy.Adam.\n",
      " 25%|███████████████████▉                                                             | 32/130 [00:02<00:03, 26.49it/s]"
     ]
    },
    {
     "name": "stdout",
     "output_type": "stream",
     "text": [
      "Epoch 0 Batch 25/26 [D loss: 0.877590] [G loss:0.683141]\n"
     ]
    },
    {
     "name": "stderr",
     "output_type": "stream",
     "text": [
      " 44%|███████████████████████████████████▌                                             | 57/130 [00:03<00:01, 37.17it/s]"
     ]
    },
    {
     "name": "stdout",
     "output_type": "stream",
     "text": [
      "Epoch 1 Batch 25/26 [D loss: 0.747476] [G loss:0.677458]\n"
     ]
    },
    {
     "name": "stderr",
     "output_type": "stream",
     "text": [
      " 67%|██████████████████████████████████████████████████████▏                          | 87/130 [00:04<00:01, 40.62it/s]"
     ]
    },
    {
     "name": "stdout",
     "output_type": "stream",
     "text": [
      "Epoch 2 Batch 25/26 [D loss: 0.743009] [G loss:0.674952]\n"
     ]
    },
    {
     "name": "stderr",
     "output_type": "stream",
     "text": [
      " 86%|████████████████████████████████████████████████████████████████████▉           | 112/130 [00:04<00:00, 41.06it/s]"
     ]
    },
    {
     "name": "stdout",
     "output_type": "stream",
     "text": [
      "Epoch 3 Batch 25/26 [D loss: 0.707120] [G loss:0.674456]\n"
     ]
    },
    {
     "name": "stderr",
     "output_type": "stream",
     "text": [
      " 98%|██████████████████████████████████████████████████████████████████████████████▏ | 127/130 [00:05<00:00, 41.16it/s]"
     ]
    },
    {
     "name": "stdout",
     "output_type": "stream",
     "text": [
      "Epoch 4 Batch 25/26 [D loss: 0.709759] [G loss:0.674850]\n"
     ]
    },
    {
     "name": "stderr",
     "output_type": "stream",
     "text": [
      "\r",
      "100%|████████████████████████████████████████████████████████████████████████████████| 130/130 [00:19<00:00, 41.16it/s]"
     ]
    }
   ],
   "source": [
    "#Training the GAN\n",
    "\n",
    "#Calculating the number of batches based on the batch size\n",
    "batch_count = x_train.shape[0] // batch_size\n",
    "pbar = tqdm(total= epochs * batch_count)\n",
    "gan_loss = []\n",
    "discriminator_loss = []\n",
    "\n",
    "#Inititalizing the network\n",
    "generator = get_generator(adam)\n",
    "discriminator = get_discriminator(adam)\n",
    "gan = get_gan_network(discriminator, generator, adam,input_dim=NUM_COL)\n",
    "\n",
    "\n",
    "for epoch in range(epochs):        \n",
    "    for index in range(batch_count):        \n",
    "        pbar.update(1)        \n",
    "        # Creating a random set of input noise and images\n",
    "        noise = np.random.normal(0, 1, size=[batch_size,NUM_COL])\n",
    "        \n",
    "        # Generate fake samples\n",
    "        generated_images = generator.predict_on_batch(noise)\n",
    "        \n",
    "        #Obtain a batch of normal network packets\n",
    "        image_batch = x_train[index * batch_size: (index + 1) * batch_size]\n",
    "            \n",
    "        X = np.vstack((generated_images,image_batch))       \n",
    "        y_dis = np.ones(2*batch_size) \n",
    "        y_dis[:batch_size] = 0\n",
    "\n",
    "        # Train discriminator\n",
    "        discriminator.trainable = True\n",
    "        d_loss= discriminator.train_on_batch(X, y_dis)\n",
    "\n",
    "        # Train generator\n",
    "        noise = np.random.uniform(0, 1, size=[batch_size, NUM_COL])\n",
    "        y_gen = np.ones(batch_size)\n",
    "        discriminator.trainable = False\n",
    "        g_loss = gan.train_on_batch(noise, y_gen)\n",
    "        \n",
    "        #Record the losses\n",
    "        discriminator_loss.append(d_loss)\n",
    "        gan_loss.append(g_loss)\n",
    "        \n",
    "    print(\"Epoch %d Batch %d/%d [D loss: %f] [G loss:%f]\" % (epoch,index,batch_count, d_loss, g_loss))"
   ]
  },
  {
   "cell_type": "code",
   "execution_count": 73,
   "id": "f8dd0f09",
   "metadata": {},
   "outputs": [
    {
     "data": {
      "text/plain": [
       "<matplotlib.legend.Legend at 0x20eefb77dd0>"
      ]
     },
     "execution_count": 73,
     "metadata": {},
     "output_type": "execute_result"
    },
    {
     "data": {
      "image/png": "[encoded data removed]",
      "text/plain": [
       "<Figure size 640x480 with 1 Axes>"
      ]
     },
     "metadata": {},
     "output_type": "display_data"
    }
   ],
   "source": [
    "fig, ax = plt.subplots()\n",
    "plt.plot(discriminator_loss, label='Discriminator')\n",
    "plt.plot(gan_loss, label='Generator')\n",
    "plt.title(\"Training Losses\")\n",
    "plt.legend()"
   ]
  },
  {
   "cell_type": "code",
   "execution_count": 74,
   "id": "eaa955ba",
   "metadata": {},
   "outputs": [],
   "source": [
    "# Predictions on the test set\n",
    "\n",
    "nr_batches_test = np.ceil(x_test.shape[0] // batch_size).astype(np.int32)\n",
    "\n",
    "results =[]\n",
    "\n",
    "for t in range(nr_batches_test +1):    \n",
    "        ran_from = t * batch_size\n",
    "        ran_to = (t + 1) * batch_size\n",
    "        image_batch = x_test[ran_from:ran_to]             \n",
    "        tmp_rslt = discriminator.predict(x=image_batch,batch_size=128,verbose=0)        \n",
    "        results = np.append(results, tmp_rslt)   "
   ]
  },
  {
   "cell_type": "code",
   "execution_count": 75,
   "id": "6a7b6fd3",
   "metadata": {},
   "outputs": [
    {
     "data": {
      "text/plain": [
       "array([0.50923288, 0.50923288, 0.50923288, ..., 0.50923288, 0.50923288,\n",
       "       0.50923288])"
      ]
     },
     "execution_count": 75,
     "metadata": {},
     "output_type": "execute_result"
    }
   ],
   "source": [
    "results"
   ]
  },
  {
   "cell_type": "code",
   "execution_count": 76,
   "id": "6cb153bf",
   "metadata": {},
   "outputs": [],
   "source": [
    "y2 = y_test.to_numpy()"
   ]
  },
  {
   "cell_type": "code",
   "execution_count": 77,
   "id": "fc720d31",
   "metadata": {},
   "outputs": [
    {
     "name": "stdout",
     "output_type": "stream",
     "text": [
      "Mean score for Normal data : 0.5092328786849976\n",
      "Mean score for Fall data : 0.5092328786849976\n"
     ]
    }
   ],
   "source": [
    "pd.options.display.float_format = '{:20,.7f}'.format\n",
    "results_df = pd.concat([pd.DataFrame(results),pd.DataFrame(y2)], axis=1)\n",
    "results_df.columns = ['results','y_test']\n",
    "print ('Mean score for Normal data :', results_df.loc[results_df['y_test'] == 1, 'results'].mean() )\n",
    "print ('Mean score for Fall data :', results_df.loc[results_df['y_test'] == 0, 'results'].mean())"
   ]
  },
  {
   "cell_type": "code",
   "execution_count": 78,
   "id": "9c8bb3fb",
   "metadata": {},
   "outputs": [],
   "source": [
    "#Obtaining the lowest 1% score\n",
    "per = np.percentile(results,1)\n",
    "y_pred = results.copy()\n",
    "y_pred = np.array(y_pred)\n",
    "\n",
    "#Thresholding based on the score\n",
    "inds = (y_pred > per)\n",
    "inds_comp = (y_pred <= per)\n",
    "y_pred[inds] = 0\n",
    "y_pred[inds_comp] = 1"
   ]
  },
  {
   "cell_type": "code",
   "execution_count": 79,
   "id": "100e7872",
   "metadata": {},
   "outputs": [
    {
     "name": "stdout",
     "output_type": "stream",
     "text": [
      "Accuracy Score : 0.4968888888888889\n",
      "Precision : 0.4968888888888889\n",
      "Recall : 1.0\n",
      "F1 : 0.663895486935867\n"
     ]
    }
   ],
   "source": [
    "from sklearn.metrics import precision_recall_fscore_support\n",
    "from sklearn.metrics import accuracy_score\n",
    "\n",
    "precision, recall, f1,_ = precision_recall_fscore_support(y_test,y_pred,average='binary')\n",
    "print ('Accuracy Score :',accuracy_score(y_test, y_pred) )\n",
    "print ('Precision :',precision )\n",
    "print ('Recall :',recall )\n",
    "print ('F1 :',f1 )"
   ]
  },
  {
   "cell_type": "code",
   "execution_count": 80,
   "id": "4da280b4",
   "metadata": {},
   "outputs": [
    {
     "name": "stdout",
     "output_type": "stream",
     "text": [
      "Confusion Matrix :\n"
     ]
    },
    {
     "data": {
      "image/png": "[encoded data removed]",
      "text/plain": [
       "<Figure size 1000x1000 with 2 Axes>"
      ]
     },
     "metadata": {},
     "output_type": "display_data"
    }
   ],
   "source": [
    "from sklearn.metrics import confusion_matrix\n",
    "\n",
    "cm = confusion_matrix(y_test, y_pred)\n",
    "\n",
    "print ('Confusion Matrix :')\n",
    "\n",
    "def plot_confusion_matrix(cm, title='Confusion matrix', cmap=plt.cm.Greens):\n",
    "    plt.figure(figsize=(10,10),)\n",
    "\n",
    "    plt.imshow(cm, interpolation='nearest', cmap=cmap)\n",
    "    plt.title(title)\n",
    "    plt.colorbar()\n",
    "    plt.tight_layout()\n",
    "\n",
    "    width, height = cm.shape\n",
    "\n",
    "    for x in range(width):\n",
    "        for y in range(height):\n",
    "            plt.annotate(str(cm[x][y]), xy=(y, x), \n",
    "                        horizontalalignment='center',\n",
    "                        verticalalignment='center')\n",
    "    plt.ylabel('True label')\n",
    "    plt.xlabel('Predicted label')\n",
    "\n",
    "\n",
    "plot_confusion_matrix(cm)"
   ]
  },
  {
   "cell_type": "code",
   "execution_count": null,
   "id": "278c039c",
   "metadata": {},
   "outputs": [],
   "source": []
  }
 ],
 "metadata": {
  "kernelspec": {
   "display_name": "Python 3 (ipykernel)",
   "language": "python",
   "name": "python3"
  },
  "language_info": {
   "codemirror_mode": {
    "name": "ipython",
    "version": 3
   },
   "file_extension": ".py",
   "mimetype": "text/x-python",
   "name": "python",
   "nbconvert_exporter": "python",
   "pygments_lexer": "ipython3",
   "version": "3.11.4"
  }
 },
 "nbformat": 4,
 "nbformat_minor": 5
}
