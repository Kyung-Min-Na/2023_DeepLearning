{
  "nbformat": 4,
  "nbformat_minor": 0,
  "metadata": {
    "colab": {
      "provenance": [],
      "authorship_tag": "ABX9TyNu3ceHoz1fIh7+vyD2VnjI",
      "include_colab_link": true
    },
    "kernelspec": {
      "name": "python3",
      "display_name": "Python 3"
    },
    "language_info": {
      "name": "python"
    }
  },
  "cells": [
    {
      "cell_type": "markdown",
      "metadata": {
        "id": "view-in-github",
        "colab_type": "text"
      },
      "source": [
        "<a href=\"https://colab.research.google.com/github/Kyung-Min-Na/2023_DeepLearning/blob/main/ML_Final.ipynb\" target=\"_parent\"><img src=\"https://colab.research.google.com/assets/colab-badge.svg\" alt=\"Open In Colab\"/></a>"
      ]
    },
    {
      "cell_type": "markdown",
      "source": [
        "# Google drive connect"
      ],
      "metadata": {
        "id": "LgX03Hva-IYI"
      }
    },
    {
      "cell_type": "code",
      "source": [
        "from google.colab import drive\n",
        "drive.mount('/content/drive')"
      ],
      "metadata": {
        "colab": {
          "base_uri": "https://localhost:8080/"
        },
        "id": "VlRjMh9E-LwL",
        "outputId": "bd5fd421-1990-4520-8d23-24d274f2fda1"
      },
      "execution_count": 2,
      "outputs": [
        {
          "output_type": "stream",
          "name": "stdout",
          "text": [
            "Mounted at /content/drive\n"
          ]
        }
      ]
    },
    {
      "cell_type": "markdown",
      "source": [
        "# 음원추출\n",
        "기본 베이스 코드"
      ],
      "metadata": {
        "id": "PsUFnWyy9XxP"
      }
    },
    {
      "cell_type": "code",
      "execution_count": 24,
      "metadata": {
        "id": "wHDksXvs86qx"
      },
      "outputs": [],
      "source": [
        "import os\n",
        "import librosa\n",
        "import numpy as np\n",
        "import librosa.display\n",
        "import matplotlib.pyplot as plt\n",
        "from tensorflow.keras.optimizers import RMSprop\n",
        "from tensorflow.keras.preprocessing.image import ImageDataGenerator"
      ]
    },
    {
      "cell_type": "code",
      "source": [
        "# 음원을 가져옴\n",
        "audio_path = \"/content/drive/MyDrive/Colab Notebooks/Sound/Train/1.비/S-210825_N_101_D_011_0001.mp3\"\n",
        "audio_signal, audio_sample_rate = librosa.load(audio_path, sr=None)\n",
        "\n",
        "# 확인 코드\n",
        "print(audio_sample_rate)\n",
        "print(len(audio_signal))\n",
        "print(len(audio_signal) / audio_sample_rate)\n",
        "\n",
        "# 음성을 자름, 3초씩 (8초 이후부터 사용)\n",
        "signal_start_time = 8  # 사용할 구간의 시작 시간을 설정\n",
        "signal = audio_signal[int(signal_start_time * audio_sample_rate):int((signal_start_time + 3) * audio_sample_rate)]\n",
        "\n",
        "# 샘플링하여 산점도 그리기\n",
        "signalX = signal[:-500:500]\n",
        "signalY = signal[500::500]\n",
        "\n",
        "# 저장할 이미지의 경로 설정 (Trainpng 경로:/content/drive/MyDrive/Colab Notebooks/Sound/Trainpng)\n",
        "notebook_directory = \"/content/drive/MyDrive/Colab Notebooks/Sound/Trainpng\"\n",
        "os.makedirs(notebook_directory, exist_ok=True)\n",
        "\n",
        "# 이미지 파일명 설정 (원본 데이터 파일명 사용)\n",
        "original_filename = os.path.basename(audio_path).replace('.mp3', '')\n",
        "image_filename = f\"{original_filename}.png\"\n",
        "\n",
        "# 이미지의 전체 경로\n",
        "save_path = os.path.join(notebook_directory, image_filename)\n",
        "\n",
        "# 그래프 그리기\n",
        "plt.scatter(signalX, signalY)\n",
        "plt.savefig(save_path, dpi=60)\n",
        "plt.show()"
      ],
      "metadata": {
        "colab": {
          "base_uri": "https://localhost:8080/",
          "height": 490
        },
        "id": "BRs2gl7nHUq-",
        "outputId": "0b861bb5-9630-4eb7-c19a-2e6bb137a398"
      },
      "execution_count": 16,
      "outputs": [
        {
          "output_type": "stream",
          "name": "stdout",
          "text": [
            "44100\n",
            "1434240\n",
            "32.522448979591836\n"
          ]
        },
        {
          "output_type": "display_data",
          "data": {
            "text/plain": [
              "<Figure size 640x480 with 1 Axes>"
            ],
            "image/png": "[encoded data removed]"
          },
          "metadata": {}
        }
      ]
    },
    {
      "cell_type": "markdown",
      "source": [
        "# 경민 작성코드"
      ],
      "metadata": {
        "id": "Q2sRUN4tHzLc"
      }
    },
    {
      "cell_type": "code",
      "source": [
        "# 음원이 있는 디렉토리 경로\n",
        "audio_directory = \"/content/drive/MyDrive/Colab Notebooks/Sound/Validation/2.우박\"\n",
        "\n",
        "\n",
        "# 디렉토리 내 모든 음원 파일에 대해 반복\n",
        "for filename in os.listdir(audio_directory):\n",
        "    if filename.endswith(\".mp3\"):\n",
        "        # 음원을 가져옴\n",
        "        audio_path = os.path.join(audio_directory, filename)\n",
        "        audio_signal, audio_sample_rate = librosa.load(audio_path, sr=None)\n",
        "\n",
        "        # 음성을 자름, 3초씩 (8초 이후부터 사용)\n",
        "        signal_start_time = 8  # 사용할 구간의 시작 시간을 설정\n",
        "        signal = audio_signal[int(signal_start_time * audio_sample_rate):int((signal_start_time + 3) * audio_sample_rate)]\n",
        "\n",
        "        # 샘플링하여 산점도 그리기\n",
        "        signalX = signal[:-500:500]\n",
        "        signalY = signal[500::500]\n",
        "\n",
        "        # 저장할 이미지의 경로 설정\n",
        "        notebook_directory = \"/content/drive/MyDrive/Colab Notebooks/Sound/Image/Image(Validation_우박)\"\n",
        "        os.makedirs(notebook_directory, exist_ok=True)\n",
        "\n",
        "        # 이미지 파일명 설정 (원본 데이터 파일명 사용)\n",
        "        original_filename = os.path.basename(audio_path).replace('.mp3', '')\n",
        "        image_filename = f\"{original_filename}.png\"\n",
        "\n",
        "        # 이미지의 전체 경로\n",
        "        save_path = os.path.join(notebook_directory, image_filename)\n",
        "\n",
        "        # 그래프 그리기\n",
        "        plt.scatter(signalX, signalY)\n",
        "        plt.savefig(save_path, dpi=60)\n",
        "        plt.close()  # 그래프 초기화\n"
      ],
      "metadata": {
        "id": "Mjfgi-VxH01M"
      },
      "execution_count": 21,
      "outputs": []
    },
    {
      "cell_type": "markdown",
      "source": [
        "# CNN"
      ],
      "metadata": {
        "id": "Hce4UM5DTdaS"
      }
    },
    {
      "cell_type": "code",
      "source": [
        "base_dir = '/content/drive/MyDrive/Colab Notebooks/Sound/Image'\n",
        "\n",
        "train_dir = os.path.join(base_dir, '/content/drive/MyDrive/Colab Notebooks/Sound/Image/Train')\n",
        "validation_dir = os.path.join(base_dir, '/content/drive/MyDrive/Colab Notebooks/Sound/Image/Validation')\n",
        "\n",
        "# 훈련에 사용되는 비/우박 이미지 경로\n",
        "train_rain_dir = os.path.join(train_dir, 'Image(Train_비)')\n",
        "train_snow_dir = os.path.join(train_dir, 'Image(Train_우박)')\n",
        "\n",
        "# 테스트에 사용되는 비/우박 이미지 경로\n",
        "validation_rain_dir = os.path.join(validation_dir, 'Image(Validation_비)')\n",
        "validation_snow_dir = os.path.join(validation_dir, 'Image(Validation_우박)')\n",
        "\n",
        "model = tf.keras.models.Sequential([\n",
        "  tf.keras.layers.Conv2D(16, (3,3), activation='relu', input_shape=(150, 150, 3)),\n",
        "  tf.keras.layers.MaxPooling2D(2,2),\n",
        "  tf.keras.layers.Conv2D(32, (3,3), activation='relu'),\n",
        "  tf.keras.layers.MaxPooling2D(2,2),\n",
        "  tf.keras.layers.Conv2D(64, (3,3), activation='relu'),\n",
        "  tf.keras.layers.MaxPooling2D(2,2),\n",
        "  tf.keras.layers.Flatten(),\n",
        "  tf.keras.layers.Dense(512, activation='relu'),\n",
        "  tf.keras.layers.Dense(1, activation='sigmoid')\n",
        "])\n",
        "\n",
        "model.summary()\n",
        "\n",
        "# 최신 버전에 맞게 옵티마이저 변경\n",
        "optimizer = tf.keras.optimizers.RMSprop(learning_rate=0.001)\n",
        "\n",
        "model.compile(optimizer=optimizer,\n",
        "            loss='binary_crossentropy',\n",
        "            metrics=['accuracy'])\n",
        "\n",
        "train_datagen = ImageDataGenerator(rescale=1.0/255.)\n",
        "test_datagen = ImageDataGenerator(rescale=1.0/255.)\n",
        "\n",
        "train_generator = train_datagen.flow_from_directory(train_dir,\n",
        "                                                  batch_size=20,\n",
        "                                                  class_mode='binary',\n",
        "                                                  target_size=(150, 150))\n",
        "validation_generator = test_datagen.flow_from_directory(validation_dir,\n",
        "                                                       batch_size=20,\n",
        "                                                       class_mode='binary',\n",
        "                                                       target_size=(150, 150))\n",
        "\n",
        "history = model.fit(train_generator,\n",
        "                    validation_data=validation_generator,\n",
        "                    steps_per_epoch=50,\n",
        "                    epochs=50,\n",
        "                    validation_steps=20,\n",
        "                    verbose=2)\n",
        "\n",
        "acc = history.history['accuracy']\n",
        "val_acc = history.history['val_accuracy']\n",
        "loss = history.history['loss']\n",
        "val_loss = history.history['val_loss']\n"
      ],
      "metadata": {
        "colab": {
          "base_uri": "https://localhost:8080/"
        },
        "id": "39s4GlgVS6IB",
        "outputId": "c26fa6a6-626b-4fe2-cdcf-6f59c5b0e14b"
      },
      "execution_count": 23,
      "outputs": [
        {
          "output_type": "stream",
          "name": "stdout",
          "text": [
            "Model: \"sequential_1\"\n",
            "_________________________________________________________________\n",
            " Layer (type)                Output Shape              Param #   \n",
            "=================================================================\n",
            " conv2d_3 (Conv2D)           (None, 148, 148, 16)      448       \n",
            "                                                                 \n",
            " max_pooling2d_3 (MaxPoolin  (None, 74, 74, 16)        0         \n",
            " g2D)                                                            \n",
            "                                                                 \n",
            " conv2d_4 (Conv2D)           (None, 72, 72, 32)        4640      \n",
            "                                                                 \n",
            " max_pooling2d_4 (MaxPoolin  (None, 36, 36, 32)        0         \n",
            " g2D)                                                            \n",
            "                                                                 \n",
            " conv2d_5 (Conv2D)           (None, 34, 34, 64)        18496     \n",
            "                                                                 \n",
            " max_pooling2d_5 (MaxPoolin  (None, 17, 17, 64)        0         \n",
            " g2D)                                                            \n",
            "                                                                 \n",
            " flatten_1 (Flatten)         (None, 18496)             0         \n",
            "                                                                 \n",
            " dense_2 (Dense)             (None, 512)               9470464   \n",
            "                                                                 \n",
            " dense_3 (Dense)             (None, 1)                 513       \n",
            "                                                                 \n",
            "=================================================================\n",
            "Total params: 9494561 (36.22 MB)\n",
            "Trainable params: 9494561 (36.22 MB)\n",
            "Non-trainable params: 0 (0.00 Byte)\n",
            "_________________________________________________________________\n",
            "Found 843 images belonging to 2 classes.\n",
            "Found 105 images belonging to 2 classes.\n",
            "Epoch 1/50\n"
          ]
        },
        {
          "output_type": "stream",
          "name": "stderr",
          "text": [
            "WARNING:tensorflow:Your input ran out of data; interrupting training. Make sure that your dataset or generator can generate at least `steps_per_epoch * epochs` batches (in this case, 2500 batches). You may need to use the repeat() function when building your dataset.\n",
            "WARNING:tensorflow:Your input ran out of data; interrupting training. Make sure that your dataset or generator can generate at least `steps_per_epoch * epochs` batches (in this case, 20 batches). You may need to use the repeat() function when building your dataset.\n"
          ]
        },
        {
          "output_type": "stream",
          "name": "stdout",
          "text": [
            "50/50 - 30s - loss: 0.7578 - accuracy: 0.6667 - val_loss: 0.6149 - val_accuracy: 0.6952 - 30s/epoch - 606ms/step\n"
          ]
        }
      ]
    }
  ]
}